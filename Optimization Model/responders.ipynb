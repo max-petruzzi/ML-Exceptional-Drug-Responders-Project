{
 "cells": [
  {
   "cell_type": "code",
   "execution_count": 1,
   "metadata": {},
   "outputs": [],
   "source": [
    "using DataFrames, CSV\n",
    "using JuMP, Gurobi\n",
    "using LinearAlgebra, Random, Printf, StatsBase, CategoricalArrays\n",
    "using Distributions"
   ]
  },
  {
   "cell_type": "code",
   "execution_count": 2,
   "metadata": {},
   "outputs": [],
   "source": [
    "data = CSV.read(\"dataclean_imputed.csv\", DataFrame);"
   ]
  },
  {
   "cell_type": "code",
   "execution_count": 3,
   "metadata": {},
   "outputs": [],
   "source": [
    "X = Matrix(select(data, Not([:Column1, :id, :time, :status, :trt])));"
   ]
  },
  {
   "cell_type": "code",
   "execution_count": 4,
   "metadata": {},
   "outputs": [
    {
     "data": {
      "text/plain": [
       "94.0"
      ]
     },
     "execution_count": 4,
     "metadata": {},
     "output_type": "execute_result"
    }
   ],
   "source": [
    "#Define constants\n",
    "\n",
    "#Number of patients\n",
    "N = size(data)[1]\n",
    "\n",
    "#Min _N and Max N_ number of patients allowed in an interpretable subset\n",
    "_N = floor(0.1 * N)\n",
    "N_ = ceil(0.3 * N)"
   ]
  },
  {
   "cell_type": "code",
   "execution_count": 5,
   "metadata": {},
   "outputs": [
    {
     "data": {
      "text/plain": [
       "2-element Vector{Vector{Int64}}:\n",
       " [5, 6, 7, 8, 10, 11, 12, 13, 14, 16  …  296, 298, 300, 301, 303, 305, 306, 307, 309, 312]\n",
       " [1, 2, 3, 4, 9, 15, 18, 19, 22, 24  …  291, 294, 295, 297, 299, 302, 304, 308, 310, 311]"
      ]
     },
     "execution_count": 5,
     "metadata": {},
     "output_type": "execute_result"
    }
   ],
   "source": [
    "#Define a list of patient numbers that are in each of the two treatment groups\n",
    "#Note that 2 in the data set means placebo, and 1 means experimental group\n",
    "\n",
    "T0 = findall(data[!,\"trt\"].==2) #indices of placebo patients\n",
    "T1 = findall(data[!,\"trt\"].==1) #indices of experimental patients\n",
    "\n",
    "T = [T0, T1]"
   ]
  },
  {
   "cell_type": "code",
   "execution_count": 6,
   "metadata": {},
   "outputs": [],
   "source": [
    "#Patient-wise (from patient i=N) whether the patient is in placebo (1) or experimental group (2)\n",
    "Ti = (data[!,\"trt\"].==1).+1;"
   ]
  },
  {
   "cell_type": "code",
   "execution_count": 7,
   "metadata": {},
   "outputs": [
    {
     "data": {
      "text/plain": [
       "get_value_for_cut (generic function with 1 method)"
      ]
     },
     "execution_count": 7,
     "metadata": {},
     "output_type": "execute_result"
    }
   ],
   "source": [
    "function get_value_for_cut(s, k)\n",
    "    # get max of X for feature s\n",
    "    max_s = maximum(X[:, s])\n",
    "    # get min of X for feature s\n",
    "    min_s = minimum(X[:, s])\n",
    "    # get cut value\n",
    "    return min_s + (max_s - min_s) * (k - 1) / (Ks[s] - 1) \n",
    "end"
   ]
  },
  {
   "cell_type": "code",
   "execution_count": 8,
   "metadata": {},
   "outputs": [
    {
     "data": {
      "text/plain": [
       "get_i_U (generic function with 1 method)"
      ]
     },
     "execution_count": 8,
     "metadata": {},
     "output_type": "execute_result"
    }
   ],
   "source": [
    "# find the cuts k for variable i in feature s for which X[i,s] is is smaller than the k-th cut\n",
    "function get_k_L(i, s)\n",
    "    cuts = []\n",
    "    for k in 1:Ks[s]\n",
    "        if X[i, s] < get_value_for_cut(s, k)\n",
    "            push!(cuts, k)\n",
    "        end\n",
    "    end\n",
    "    return cuts\n",
    "end\n",
    "\n",
    "# find the cuts k for variable i in feature s for which X[i,s] is is larger than the k-th cut\n",
    "function get_k_U(i, s)\n",
    "    cuts = []\n",
    "    for k in 1:Ks[s]\n",
    "        if X[i, s] > get_value_for_cut(s, k)\n",
    "            push!(cuts, k)\n",
    "        end\n",
    "    end\n",
    "    return cuts\n",
    "end\n",
    "\n",
    "# find the patients i for cut k in feature s for which X[i,s] is is smaller than the k-th cut\n",
    "function get_i_L(s, k)\n",
    "    patients = []\n",
    "    for i in 1:N\n",
    "        if X[i, s] < get_value_for_cut(s, k)\n",
    "            push!(patients, i)\n",
    "        end\n",
    "    end\n",
    "    return patients\n",
    "end\n",
    "\n",
    "# find the patients i for cut k in feature s for which X[i,s] is is larger than the k-th cut\n",
    "function get_i_U(s, k)\n",
    "    patients = []\n",
    "    for i in 1:N\n",
    "        if X[i, s] > get_value_for_cut(s, k)\n",
    "            push!(patients, i)\n",
    "        end\n",
    "    end\n",
    "    return patients\n",
    "end"
   ]
  },
  {
   "cell_type": "code",
   "execution_count": 9,
   "metadata": {},
   "outputs": [],
   "source": [
    "# treatment effect\n",
    "# set multiplier to 10 for survival, 3 for transplant and 1 for death\n",
    "function multiplier(patient)\n",
    "    if data[patient, :status] == 2\n",
    "        return 1\n",
    "    elseif data[patient, :status] == 1\n",
    "        return 3\n",
    "    else\n",
    "        return 10\n",
    "    end\n",
    "end\n",
    "\n",
    "# define treatment effect as time * multiplier for each patient\n",
    "v = [data[patient, :time] * multiplier(patient) for patient in 1:N];"
   ]
  },
  {
   "cell_type": "code",
   "execution_count": 10,
   "metadata": {},
   "outputs": [],
   "source": [
    "# get patients for each :status\n",
    "df_0 = data[data[!,:status].==0,:]\n",
    "df_1 = data[data[!,:status].==1,:]\n",
    "df_2 = data[data[!,:status].==2,:]\n",
    "\n",
    "# for each patient group, cap the :time values to mean +- 3 * std\n",
    "df_0[!,:time] = min.(df_0[!,:time], mean(df_0[!,:time]) + 3 * std(df_0[!,:time]))\n",
    "df_0[!,:time] = max.(df_0[!,:time], mean(df_0[!,:time]) - 3 * std(df_0[!,:time]))\n",
    "df_1[!,:time] = min.(df_1[!,:time], mean(df_1[!,:time]) + 3 * std(df_1[!,:time]))\n",
    "df_1[!,:time] = max.(df_1[!,:time], mean(df_1[!,:time]) - 3 * std(df_1[!,:time]))\n",
    "df_2[!,:time] = min.(df_2[!,:time], mean(df_2[!,:time]) + 3 * std(df_2[!,:time]))\n",
    "df_2[!,:time] = max.(df_2[!,:time], mean(df_2[!,:time]) - 3 * std(df_2[!,:time]))\n",
    "\n",
    "# for each patient group replace :time with the min-max scaled value\n",
    "df_0[!,:time] = (df_0[!,:time] .- minimum(df_0[!,:time])) ./ (maximum(df_0[!,:time]) - minimum(df_0[!,:time]))\n",
    "df_1[!,:time] = (df_1[!,:time] .- minimum(df_1[!,:time])) ./ (maximum(df_1[!,:time]) - minimum(df_1[!,:time]))\n",
    "df_2[!,:time] = (df_2[!,:time] .- minimum(df_2[!,:time])) ./ (maximum(df_2[!,:time]) - minimum(df_2[!,:time]))\n",
    "\n",
    "# join the dataframes again\n",
    "data = vcat(df_0, df_1, df_2)\n",
    "\n",
    "# sort dataframe by :id\n",
    "data = sort(data, :id)\n",
    "\n",
    "# define treatment effect as the adjusted time for each patient\n",
    "v = data[!,:time];"
   ]
  },
  {
   "cell_type": "code",
   "execution_count": 11,
   "metadata": {},
   "outputs": [
    {
     "data": {
      "text/plain": [
       "get_features (generic function with 1 method)"
      ]
     },
     "execution_count": 11,
     "metadata": {},
     "output_type": "execute_result"
    }
   ],
   "source": [
    "function get_features()\n",
    "    L_opt = value.(L);\n",
    "    U_opt = value.(U);\n",
    "    # get the indices of the lower bound cuts \n",
    "    # for each feature\n",
    "    L_ind = [findall(L_opt[s,:] .== 1)[1] for s=1:S]\n",
    "\n",
    "    # get the indices of the upper bound cuts\n",
    "    # for each feature\n",
    "    U_ind = [findall(U_opt[s,:] .== 1)[1] for s=1:S];\n",
    "\n",
    "    # find features for which the lower bound is not the minimum\n",
    "    # and the upper bound is not the maximum\n",
    "    q_ind = findall(value.(q) .== 1)\n",
    "\n",
    "    # get the value of the lower and upper bound cuts for features in q_ind\n",
    "    L_val = [get_value_for_cut(s, L_ind[s]) for s in q_ind]\n",
    "    U_val = [get_value_for_cut(s, U_ind[s]) for s in q_ind];\n",
    "\n",
    "    # get names of features in q_ind\n",
    "    q_names = [names(data)[s+5] for s in q_ind]\n",
    "\n",
    "    str = \"Features that make up the interpretable subgroup are: \" * join(q_names, \", \") *\n",
    "            \"\\nThe subgroup has the following bounds:\"\n",
    "    # print the lower and upper bound cuts for features in q_ind\n",
    "    for i=1:length(q_ind)\n",
    "        str *= \"\\n\" * string(q_names[i]) * \" ∈ [\" * string(L_val[i]) * \", \" * string(U_val[i]) * \"]\"\n",
    "    end\n",
    "    str *= \"\\n--------------------------------------------------------\"\n",
    "    return str\n",
    "end"
   ]
  },
  {
   "cell_type": "code",
   "execution_count": 12,
   "metadata": {},
   "outputs": [
    {
     "data": {
      "text/plain": [
       "get_ATE (generic function with 1 method)"
      ]
     },
     "execution_count": 12,
     "metadata": {},
     "output_type": "execute_result"
    }
   ],
   "source": [
    "function get_ATE()\n",
    "    # get patients in the interpretable subgroup\n",
    "    z_ind = findall(value.(z) .== 1)\n",
    "    # get patients in the interpretable subgroup from treatment group 1\n",
    "    z1_ind = intersect(z_ind, T1)\n",
    "\n",
    "    # get average treatment effect for patients in the interpretable subgroup\n",
    "    ATE = mean(v[z1_ind])\n",
    "\n",
    "    # get patients in the interpretable subgroup from treatment group 0\n",
    "    z0_ind = intersect(z_ind, T0)\n",
    "\n",
    "    # get average treatment effect for patients in the interpretable subgroup\n",
    "    ATE_not = mean(v[z0_ind])\n",
    "\n",
    "    # print ATE and ATE_not\n",
    "    str = \"ATE: \" * string(ATE) * \n",
    "        \"\\nATE_not: \" * string(ATE_not) * \n",
    "        \"\\nDifference: \" * string(ATE - ATE_not) *\n",
    "        \"\\nPercentage difference: \" * string(round((ATE - ATE_not) / ATE_not * 100, digits=2)) * \"%\"\n",
    "    str *= \"\\n--------------------------------------------------------\"\n",
    "    return str\n",
    "end"
   ]
  },
  {
   "cell_type": "code",
   "execution_count": 22,
   "metadata": {},
   "outputs": [],
   "source": [
    "S = size(X)[2]\n",
    "K = 15\n",
    "S_0 = 4\n",
    "rho = 0.2;"
   ]
  },
  {
   "cell_type": "code",
   "execution_count": 14,
   "metadata": {},
   "outputs": [],
   "source": [
    "# cut ranges for variables (make them start at 0)\n",
    "Ks = [K, 3, 3, 3, 3, 4, K, K, K, K, K, K, K, K, K, 7];"
   ]
  },
  {
   "cell_type": "code",
   "execution_count": 23,
   "metadata": {},
   "outputs": [
    {
     "name": "stdout",
     "output_type": "stream",
     "text": [
      "Set parameter Username\n",
      "Academic license - for non-commercial use only - expires 2023-11-08\n",
      "Set parameter Threads to value 20\n",
      "Set parameter TimeLimit to value 36000\n"
     ]
    }
   ],
   "source": [
    "model = Model(Gurobi.Optimizer)\n",
    "set_optimizer_attribute(model, \"OutputFlag\", 1)\n",
    "set_optimizer_attribute(model, \"Threads\", 20)\n",
    "#set_optimizer_attribute(model, \"MIPGap\", 0.005)\n",
    "set_optimizer_attribute(model, \"TimeLimit\", 36000)\n",
    "\n",
    "# variables\n",
    "#Variables\n",
    "@variable(model, z[1:N], Bin) #Indicator variable - if each patient i is contained within the interpretable subgroup\n",
    "@variable(model, theta[_N:N_, 1:2], Bin) #Indicator variable - if j between _N and N_ is equal to the number of patients from treatment group t within the interpretable subgroup\n",
    "@variable(model, zeta[1:N,_N:N_]) #Indicator variable that is 1 iff both zi = 1 and thetaj = 1\n",
    "@variable(model, L[s=1:S, k=1:maximum(Ks)], Bin) # Lower bound indicator variable, 1 iff cut k is the lower bound for feature s in the interpretable subgroup\n",
    "@variable(model, U[s=1:S, k=1:maximum(Ks)], Bin) # Upper bound indicator variable, 1 iff cut k is the upper bound for feature s in the interpretable subgroup\n",
    "@variable(model, q[s=1:S], Bin) # Indicator variable, 1 iff feature s has a non-extremal lower and/or upper bound in the interpretable subgroup\n",
    "\n",
    "# constraints\n",
    "@constraint(model, [i=1:N], z[i] + sum(sum(L[s, k] for k in get_k_L(i, s)) + sum(U[s, k] for k in get_k_U(i, s)) for s=1:S) >= 1)\n",
    "\n",
    "@constraint(model, [s=1:S, k=1:Ks[s], i in get_i_L(s, k)], z[i] + L[s, k] <= 1)\n",
    "@constraint(model, [s=1:S, k=1:Ks[s], i in get_i_U(s, k)], z[i] + U[s, k] <= 1)\n",
    "\n",
    "@constraint(model, [s=1:S], sum(L[s, k] for k=1:Ks[s]) == 1) # We can only ever select one lower bound per feature\n",
    "@constraint(model, [s=1:S], sum(U[s, k] for k=1:Ks[s]) == 1) # We can only ever select one upper bound per feature\n",
    "\n",
    "# @constraint(model, [s=1:S], sum(L[s, k] for k=1:K) == 1)\n",
    "# @constraint(model, [s=1:S], sum(U[s, k] for k=1:K) == 1)\n",
    "\n",
    "@constraint(model, [s=1:S], q[s] + L[s, 1] >= 1) # Either the lower bound is not the extremal value, or the feature is not selected\n",
    "@constraint(model, [s=1:S], q[s] + U[s, Ks[s]] >= 1) # Either the upper bound is not the extremal value, or the feature is not selected\n",
    "@constraint(model, [s=1:S], q[s] + L[s, 1] + U[s, Ks[s]] <= 2) # The feature can only be selected if at most one of the bounds is the extremal value\n",
    "\n",
    "@constraint(model, sum(q[s] for s=1:S) <= S_0) # Select at most S_0 features in the interpretable subgroup\n",
    "\n",
    "@constraint(model, [t=1:2], _N <= sum(z[i] for i in T[t]) <= N_) # The number of patients within the interpretable subgroup from EACH treatment group must be within the bounds _N and N_\n",
    "\n",
    "@constraint(model, [i=1:N, j=_N:N_], zeta[i,j] <= theta[j,Ti[i]]) # Ensuring z works as indicator variable (see variable section)\n",
    "@constraint(model, [i=1:N, j=_N:N_], zeta[i,j] <= z[i])\n",
    "@constraint(model, [i=1:N, j=_N:N_], zeta[i,j] >= theta[j,Ti[i]] + z[i] - 1)\n",
    "\n",
    "@constraint(model, [t=1:2], sum(sum((1/j)*zeta[i,j] for j in _N:N_) for i in T[t]) == 1) # Confirming that the sum of the patients in the interpretable cluster equals j for each treatment group\n",
    "\n",
    "@constraint(model, [t=1:2], sum(theta[j,t] for j=_N:N_) == 1) # Ensuring theta works as indicator variable (see variable section)\n",
    "\n",
    "@constraint(model, [i=1:N, j=_N:N_], 0<=zeta[i,j]<=1) # Zeta bounds\n",
    "\n",
    "@constraint(model, sum(z[i] for i in z_1_idx) <= rho * (length(z_1_idx) + sum(z[i] for i in z_0_idx))) # Ensuring that the interpretable subgroup contains at most rho * (N_1 + N_0) patients from treatment group 1\n",
    "\n",
    "@objective(model, Max, sum(sum((1/j) * v[i] * zeta[i,j] for j in _N:N_) for i in T1) - sum(sum((1/j) * v[i] * zeta[i,j] for j in _N:N_) for i in T0)); # Objective function"
   ]
  },
  {
   "cell_type": "code",
   "execution_count": 24,
   "metadata": {},
   "outputs": [],
   "source": [
    "optimize!(model)"
   ]
  },
  {
   "cell_type": "code",
   "execution_count": null,
   "metadata": {},
   "outputs": [
    {
     "name": "stdout",
     "output_type": "stream",
     "text": [
      "Features that make up the interpretable subgroup are: chol, copper, ast, protime\n",
      "The subgroup has the following bounds:\n",
      "chol ∈ [356.42857142857144, 947.5]\n",
      "copper ∈ [45.714285714285715, 588.0]\n",
      "ast ∈ [57.12857142857143, 303.3571428571429]\n",
      "protime ∈ [9.57857142857143, 15.364285714285716]\n",
      "--------------------------------------------------------\n",
      "ATE: 0.4400028870610881\n",
      "ATE_not: 0.234502340572481\n",
      "Difference: 0.20550054648860708\n",
      "Percentage difference: 87.63%\n",
      "--------------------------------------------------------\n",
      "Patients in the interpretable subgroup: 78.0\n"
     ]
    }
   ],
   "source": [
    "str = get_features() * \"\\n\" * get_ATE() * \"\\nPatients in the interpretable subgroup: \" * string(sum(value.(z)))\n",
    "println(str)"
   ]
  },
  {
   "cell_type": "code",
   "execution_count": 15,
   "metadata": {},
   "outputs": [],
   "source": [
    "# load results\n",
    "path = \"K=$K/S_0=$S_0\"\n",
    "# L = Matrix(CSV.read(\"$path/L_opt.csv\", DataFrame))\n",
    "# U = Matrix(CSV.read(\"$path/U_opt.csv\", DataFrame))\n",
    "# q = CSV.read(\"$path/q_opt.csv\", DataFrame)[!, :q]\n",
    "z_1 = CSV.read(\"$path/z_opt.csv\", DataFrame)[!, :z];"
   ]
  },
  {
   "cell_type": "code",
   "execution_count": 19,
   "metadata": {},
   "outputs": [],
   "source": [
    "# get indices of z_1 that are 1\n",
    "z_1_idx = findall(x -> x == 1, z_1);\n",
    "\n",
    "# get indices of z_1 that are 0\n",
    "z_0_idx = findall(x -> x == 0, z_1);"
   ]
  },
  {
   "cell_type": "code",
   "execution_count": null,
   "metadata": {},
   "outputs": [],
   "source": [
    "# save optimal z, L, U and q to disk\n",
    "# create dataframe for each\n",
    "z_opt = DataFrame(z=value.(z))\n",
    "L_opt = DataFrame(value.(L), :auto)\n",
    "U_opt = DataFrame(value.(U), :auto)\n",
    "q_opt = DataFrame(q=value.(q))\n",
    "\n",
    "# save to disk\n",
    "# create directory if it doesn't exist\n",
    "isdir(\"K=$K\") || mkdir(\"K=$K\")\n",
    "isdir(\"K=$K/S_0=$S_0\") || mkdir(\"K=$K/S_0=$S_0\")\n",
    "CSV.write(\"K=$K/S_0=$S_0/z_opt_2.csv\", z_opt)\n",
    "CSV.write(\"K=$K/S_0=$S_0/L_opt_2.csv\", L_opt)\n",
    "CSV.write(\"K=$K/S_0=$S_0/U_opt_2.csv\", U_opt)\n",
    "CSV.write(\"K=$K/S_0=$S_0/q_opt_2.csv\", q_opt)\n",
    "\n",
    "# write str to file\n",
    "open(\"K=$K/S_0=$S_0/results_2.txt\", \"w\") do io\n",
    "    write(io, str)\n",
    "end;"
   ]
  },
  {
   "cell_type": "code",
   "execution_count": 154,
   "metadata": {},
   "outputs": [
    {
     "data": {
      "text/plain": [
       "1979.1666666666667"
      ]
     },
     "execution_count": 154,
     "metadata": {},
     "output_type": "execute_result"
    }
   ],
   "source": [
    "# average :time of data per :status\n",
    "function average_time_per_status(status)\n",
    "    return mean(data[data[:, :status] .== status, :time])\n",
    "end\n",
    "\n",
    "# for each status get the average :time\n",
    "average_times = [average_time_per_status(status) for status in 0:2]\n",
    "\n",
    "mean_time = mean(data[:, :time])"
   ]
  },
  {
   "cell_type": "code",
   "execution_count": 155,
   "metadata": {},
   "outputs": [
    {
     "data": {
      "text/plain": [
       "3-element Vector{Float64}:\n",
       " 2391.78231292517\n",
       " 1511.611111111111\n",
       " 1508.5495495495495"
      ]
     },
     "execution_count": 155,
     "metadata": {},
     "output_type": "execute_result"
    }
   ],
   "source": [
    "average_times"
   ]
  },
  {
   "cell_type": "code",
   "execution_count": 157,
   "metadata": {},
   "outputs": [
    {
     "data": {
      "text/plain": [
       "3-element Vector{Int64}:\n",
       " 4556\n",
       " 3092\n",
       " 4191"
      ]
     },
     "execution_count": 157,
     "metadata": {},
     "output_type": "execute_result"
    }
   ],
   "source": [
    "# max :time of data per :status\n",
    "function max_time_per_status(status)\n",
    "    return maximum(data[data[:, :status] .== status, :time])\n",
    "end\n",
    "\n",
    "# for each status get the max :time\n",
    "max_times = [max_time_per_status(status) for status in 0:2]"
   ]
  },
  {
   "cell_type": "code",
   "execution_count": 156,
   "metadata": {},
   "outputs": [
    {
     "data": {
      "text/plain": [
       "49.799660744576386"
      ]
     },
     "execution_count": 156,
     "metadata": {},
     "output_type": "execute_result"
    }
   ],
   "source": [
    "# average age\n",
    "mean_age = mean(data[:, :age])"
   ]
  }
 ],
 "metadata": {
  "kernelspec": {
   "display_name": "Julia 1.8.0",
   "language": "julia",
   "name": "julia-1.8"
  },
  "language_info": {
   "file_extension": ".jl",
   "mimetype": "application/julia",
   "name": "julia",
   "version": "1.8.0"
  },
  "orig_nbformat": 4
 },
 "nbformat": 4,
 "nbformat_minor": 2
}
