{
 "cells": [
  {
   "cell_type": "code",
   "execution_count": 6,
   "id": "7b648883",
   "metadata": {},
   "outputs": [],
   "source": [
    "using DataFrames, CSV\n",
    "using LinearAlgebra, Random, Printf, StatsBase, CategoricalArrays\n",
    "using Plots, StatsPlots\n",
    "using Gurobi, JuMP"
   ]
  },
  {
   "cell_type": "markdown",
   "id": "ab9528ae",
   "metadata": {},
   "source": [
    "Max Peruzzi\n",
    "ML Final Project"
   ]
  },
  {
   "cell_type": "code",
   "execution_count": 56,
   "id": "7d15d4ae",
   "metadata": {},
   "outputs": [
    {
     "data": {
      "text/html": [
       "<div class=\"data-frame\"><p>312 rows × 21 columns (omitted printing of 11 columns)</p><table class=\"data-frame\"><thead><tr><th></th><th>Column1</th><th>id</th><th>time</th><th>status</th><th>trt</th><th>age</th><th>sex</th><th>ascites</th><th>hepato</th><th>spiders</th></tr><tr><th></th><th title=\"Int64\">Int64</th><th title=\"Int64\">Int64</th><th title=\"Int64\">Int64</th><th title=\"Int64\">Int64</th><th title=\"Float64\">Float64</th><th title=\"Float64\">Float64</th><th title=\"String1\">String1</th><th title=\"Float64\">Float64</th><th title=\"Float64\">Float64</th><th title=\"Float64\">Float64</th></tr></thead><tbody><tr><th>1</th><td>0</td><td>1</td><td>400</td><td>2</td><td>1.0</td><td>58.7652</td><td>f</td><td>1.0</td><td>1.0</td><td>1.0</td></tr><tr><th>2</th><td>1</td><td>2</td><td>4500</td><td>0</td><td>1.0</td><td>56.4463</td><td>f</td><td>0.0</td><td>1.0</td><td>1.0</td></tr><tr><th>3</th><td>2</td><td>3</td><td>1012</td><td>2</td><td>1.0</td><td>70.0726</td><td>m</td><td>0.0</td><td>0.0</td><td>0.0</td></tr><tr><th>4</th><td>3</td><td>4</td><td>1925</td><td>2</td><td>1.0</td><td>54.7406</td><td>f</td><td>0.0</td><td>1.0</td><td>1.0</td></tr><tr><th>5</th><td>4</td><td>5</td><td>1504</td><td>1</td><td>2.0</td><td>38.1054</td><td>f</td><td>0.0</td><td>1.0</td><td>1.0</td></tr><tr><th>6</th><td>5</td><td>6</td><td>2503</td><td>2</td><td>2.0</td><td>66.2587</td><td>f</td><td>0.0</td><td>1.0</td><td>0.0</td></tr><tr><th>7</th><td>6</td><td>7</td><td>1832</td><td>0</td><td>2.0</td><td>55.5346</td><td>f</td><td>0.0</td><td>1.0</td><td>0.0</td></tr><tr><th>8</th><td>7</td><td>8</td><td>2466</td><td>2</td><td>2.0</td><td>53.0568</td><td>f</td><td>0.0</td><td>0.0</td><td>0.0</td></tr><tr><th>9</th><td>8</td><td>9</td><td>2400</td><td>2</td><td>1.0</td><td>42.5079</td><td>f</td><td>0.0</td><td>0.0</td><td>1.0</td></tr><tr><th>10</th><td>9</td><td>10</td><td>51</td><td>2</td><td>2.0</td><td>70.5599</td><td>f</td><td>1.0</td><td>0.0</td><td>1.0</td></tr><tr><th>11</th><td>10</td><td>11</td><td>3762</td><td>2</td><td>2.0</td><td>53.7139</td><td>f</td><td>0.0</td><td>1.0</td><td>1.0</td></tr><tr><th>12</th><td>11</td><td>12</td><td>304</td><td>2</td><td>2.0</td><td>59.1376</td><td>f</td><td>0.0</td><td>0.0</td><td>1.0</td></tr><tr><th>13</th><td>12</td><td>13</td><td>3577</td><td>0</td><td>2.0</td><td>45.6893</td><td>f</td><td>0.0</td><td>0.0</td><td>0.0</td></tr><tr><th>14</th><td>13</td><td>14</td><td>1217</td><td>2</td><td>2.0</td><td>56.2218</td><td>m</td><td>1.0</td><td>1.0</td><td>0.0</td></tr><tr><th>15</th><td>14</td><td>15</td><td>3584</td><td>2</td><td>1.0</td><td>64.6461</td><td>f</td><td>0.0</td><td>0.0</td><td>0.0</td></tr><tr><th>16</th><td>15</td><td>16</td><td>3672</td><td>0</td><td>2.0</td><td>40.4435</td><td>f</td><td>0.0</td><td>0.0</td><td>0.0</td></tr><tr><th>17</th><td>16</td><td>17</td><td>769</td><td>2</td><td>2.0</td><td>52.1834</td><td>f</td><td>0.0</td><td>1.0</td><td>0.0</td></tr><tr><th>18</th><td>17</td><td>18</td><td>131</td><td>2</td><td>1.0</td><td>53.9302</td><td>f</td><td>0.0</td><td>1.0</td><td>1.0</td></tr><tr><th>19</th><td>18</td><td>19</td><td>4232</td><td>0</td><td>1.0</td><td>49.5606</td><td>f</td><td>0.0</td><td>1.0</td><td>0.0</td></tr><tr><th>20</th><td>19</td><td>20</td><td>1356</td><td>2</td><td>2.0</td><td>59.9535</td><td>f</td><td>0.0</td><td>1.0</td><td>0.0</td></tr><tr><th>21</th><td>20</td><td>21</td><td>3445</td><td>0</td><td>2.0</td><td>64.1889</td><td>m</td><td>0.0</td><td>1.0</td><td>1.0</td></tr><tr><th>22</th><td>21</td><td>22</td><td>673</td><td>2</td><td>1.0</td><td>56.2765</td><td>f</td><td>0.0</td><td>0.0</td><td>1.0</td></tr><tr><th>23</th><td>22</td><td>23</td><td>264</td><td>2</td><td>2.0</td><td>55.9671</td><td>f</td><td>1.0</td><td>1.0</td><td>1.0</td></tr><tr><th>24</th><td>23</td><td>24</td><td>4079</td><td>2</td><td>1.0</td><td>44.5202</td><td>m</td><td>0.0</td><td>1.0</td><td>0.0</td></tr><tr><th>25</th><td>24</td><td>25</td><td>4127</td><td>0</td><td>2.0</td><td>45.0732</td><td>f</td><td>0.0</td><td>0.0</td><td>0.0</td></tr><tr><th>26</th><td>25</td><td>26</td><td>1444</td><td>2</td><td>2.0</td><td>52.0246</td><td>f</td><td>0.0</td><td>1.0</td><td>1.0</td></tr><tr><th>27</th><td>26</td><td>27</td><td>77</td><td>2</td><td>2.0</td><td>54.4394</td><td>f</td><td>1.0</td><td>1.0</td><td>1.0</td></tr><tr><th>28</th><td>27</td><td>28</td><td>549</td><td>2</td><td>2.0</td><td>44.9473</td><td>f</td><td>1.0</td><td>1.0</td><td>1.0</td></tr><tr><th>29</th><td>28</td><td>29</td><td>4509</td><td>0</td><td>2.0</td><td>63.8768</td><td>f</td><td>0.0</td><td>0.0</td><td>0.0</td></tr><tr><th>30</th><td>29</td><td>30</td><td>321</td><td>2</td><td>2.0</td><td>41.3854</td><td>f</td><td>0.0</td><td>1.0</td><td>1.0</td></tr><tr><th>&vellip;</th><td>&vellip;</td><td>&vellip;</td><td>&vellip;</td><td>&vellip;</td><td>&vellip;</td><td>&vellip;</td><td>&vellip;</td><td>&vellip;</td><td>&vellip;</td><td>&vellip;</td></tr></tbody></table></div>"
      ],
      "text/latex": [
       "\\begin{tabular}{r|ccccccccccc}\n",
       "\t& Column1 & id & time & status & trt & age & sex & ascites & hepato & spiders & \\\\\n",
       "\t\\hline\n",
       "\t& Int64 & Int64 & Int64 & Int64 & Float64 & Float64 & String1 & Float64 & Float64 & Float64 & \\\\\n",
       "\t\\hline\n",
       "\t1 & 0 & 1 & 400 & 2 & 1.0 & 58.7652 & f & 1.0 & 1.0 & 1.0 & $\\dots$ \\\\\n",
       "\t2 & 1 & 2 & 4500 & 0 & 1.0 & 56.4463 & f & 0.0 & 1.0 & 1.0 & $\\dots$ \\\\\n",
       "\t3 & 2 & 3 & 1012 & 2 & 1.0 & 70.0726 & m & 0.0 & 0.0 & 0.0 & $\\dots$ \\\\\n",
       "\t4 & 3 & 4 & 1925 & 2 & 1.0 & 54.7406 & f & 0.0 & 1.0 & 1.0 & $\\dots$ \\\\\n",
       "\t5 & 4 & 5 & 1504 & 1 & 2.0 & 38.1054 & f & 0.0 & 1.0 & 1.0 & $\\dots$ \\\\\n",
       "\t6 & 5 & 6 & 2503 & 2 & 2.0 & 66.2587 & f & 0.0 & 1.0 & 0.0 & $\\dots$ \\\\\n",
       "\t7 & 6 & 7 & 1832 & 0 & 2.0 & 55.5346 & f & 0.0 & 1.0 & 0.0 & $\\dots$ \\\\\n",
       "\t8 & 7 & 8 & 2466 & 2 & 2.0 & 53.0568 & f & 0.0 & 0.0 & 0.0 & $\\dots$ \\\\\n",
       "\t9 & 8 & 9 & 2400 & 2 & 1.0 & 42.5079 & f & 0.0 & 0.0 & 1.0 & $\\dots$ \\\\\n",
       "\t10 & 9 & 10 & 51 & 2 & 2.0 & 70.5599 & f & 1.0 & 0.0 & 1.0 & $\\dots$ \\\\\n",
       "\t11 & 10 & 11 & 3762 & 2 & 2.0 & 53.7139 & f & 0.0 & 1.0 & 1.0 & $\\dots$ \\\\\n",
       "\t12 & 11 & 12 & 304 & 2 & 2.0 & 59.1376 & f & 0.0 & 0.0 & 1.0 & $\\dots$ \\\\\n",
       "\t13 & 12 & 13 & 3577 & 0 & 2.0 & 45.6893 & f & 0.0 & 0.0 & 0.0 & $\\dots$ \\\\\n",
       "\t14 & 13 & 14 & 1217 & 2 & 2.0 & 56.2218 & m & 1.0 & 1.0 & 0.0 & $\\dots$ \\\\\n",
       "\t15 & 14 & 15 & 3584 & 2 & 1.0 & 64.6461 & f & 0.0 & 0.0 & 0.0 & $\\dots$ \\\\\n",
       "\t16 & 15 & 16 & 3672 & 0 & 2.0 & 40.4435 & f & 0.0 & 0.0 & 0.0 & $\\dots$ \\\\\n",
       "\t17 & 16 & 17 & 769 & 2 & 2.0 & 52.1834 & f & 0.0 & 1.0 & 0.0 & $\\dots$ \\\\\n",
       "\t18 & 17 & 18 & 131 & 2 & 1.0 & 53.9302 & f & 0.0 & 1.0 & 1.0 & $\\dots$ \\\\\n",
       "\t19 & 18 & 19 & 4232 & 0 & 1.0 & 49.5606 & f & 0.0 & 1.0 & 0.0 & $\\dots$ \\\\\n",
       "\t20 & 19 & 20 & 1356 & 2 & 2.0 & 59.9535 & f & 0.0 & 1.0 & 0.0 & $\\dots$ \\\\\n",
       "\t21 & 20 & 21 & 3445 & 0 & 2.0 & 64.1889 & m & 0.0 & 1.0 & 1.0 & $\\dots$ \\\\\n",
       "\t22 & 21 & 22 & 673 & 2 & 1.0 & 56.2765 & f & 0.0 & 0.0 & 1.0 & $\\dots$ \\\\\n",
       "\t23 & 22 & 23 & 264 & 2 & 2.0 & 55.9671 & f & 1.0 & 1.0 & 1.0 & $\\dots$ \\\\\n",
       "\t24 & 23 & 24 & 4079 & 2 & 1.0 & 44.5202 & m & 0.0 & 1.0 & 0.0 & $\\dots$ \\\\\n",
       "\t25 & 24 & 25 & 4127 & 0 & 2.0 & 45.0732 & f & 0.0 & 0.0 & 0.0 & $\\dots$ \\\\\n",
       "\t26 & 25 & 26 & 1444 & 2 & 2.0 & 52.0246 & f & 0.0 & 1.0 & 1.0 & $\\dots$ \\\\\n",
       "\t27 & 26 & 27 & 77 & 2 & 2.0 & 54.4394 & f & 1.0 & 1.0 & 1.0 & $\\dots$ \\\\\n",
       "\t28 & 27 & 28 & 549 & 2 & 2.0 & 44.9473 & f & 1.0 & 1.0 & 1.0 & $\\dots$ \\\\\n",
       "\t29 & 28 & 29 & 4509 & 0 & 2.0 & 63.8768 & f & 0.0 & 0.0 & 0.0 & $\\dots$ \\\\\n",
       "\t30 & 29 & 30 & 321 & 2 & 2.0 & 41.3854 & f & 0.0 & 1.0 & 1.0 & $\\dots$ \\\\\n",
       "\t$\\dots$ & $\\dots$ & $\\dots$ & $\\dots$ & $\\dots$ & $\\dots$ & $\\dots$ & $\\dots$ & $\\dots$ & $\\dots$ & $\\dots$ &  \\\\\n",
       "\\end{tabular}\n"
      ],
      "text/plain": [
       "\u001b[1m312×21 DataFrame\u001b[0m\n",
       "\u001b[1m Row \u001b[0m│\u001b[1m Column1 \u001b[0m\u001b[1m id    \u001b[0m\u001b[1m time  \u001b[0m\u001b[1m status \u001b[0m\u001b[1m trt     \u001b[0m\u001b[1m age     \u001b[0m\u001b[1m sex     \u001b[0m\u001b[1m ascites \u001b[0m\u001b[1m hepa\u001b[0m ⋯\n",
       "\u001b[1m     \u001b[0m│\u001b[90m Int64   \u001b[0m\u001b[90m Int64 \u001b[0m\u001b[90m Int64 \u001b[0m\u001b[90m Int64  \u001b[0m\u001b[90m Float64 \u001b[0m\u001b[90m Float64 \u001b[0m\u001b[90m String1 \u001b[0m\u001b[90m Float64 \u001b[0m\u001b[90m Floa\u001b[0m ⋯\n",
       "─────┼──────────────────────────────────────────────────────────────────────────\n",
       "   1 │       0      1    400       2      1.0  58.7652  f            1.0       ⋯\n",
       "   2 │       1      2   4500       0      1.0  56.4463  f            0.0\n",
       "   3 │       2      3   1012       2      1.0  70.0726  m            0.0\n",
       "   4 │       3      4   1925       2      1.0  54.7406  f            0.0\n",
       "   5 │       4      5   1504       1      2.0  38.1054  f            0.0       ⋯\n",
       "   6 │       5      6   2503       2      2.0  66.2587  f            0.0\n",
       "   7 │       6      7   1832       0      2.0  55.5346  f            0.0\n",
       "   8 │       7      8   2466       2      2.0  53.0568  f            0.0\n",
       "   9 │       8      9   2400       2      1.0  42.5079  f            0.0       ⋯\n",
       "  10 │       9     10     51       2      2.0  70.5599  f            1.0\n",
       "  11 │      10     11   3762       2      2.0  53.7139  f            0.0\n",
       "  ⋮  │    ⋮       ⋮      ⋮      ⋮        ⋮        ⋮        ⋮        ⋮        ⋮ ⋱\n",
       " 303 │     302    303   1250       0      2.0  60.6598  f            0.0\n",
       " 304 │     303    304   1230       0      1.0  35.5346  f            0.0       ⋯\n",
       " 305 │     304    305   1216       0      2.0  43.0664  f            0.0\n",
       " 306 │     305    306   1216       0      2.0  56.3915  f            0.0\n",
       " 307 │     306    307   1149       0      2.0  30.5736  f            0.0\n",
       " 308 │     307    308   1153       0      1.0  61.1828  f            0.0       ⋯\n",
       " 309 │     308    309    994       0      2.0  58.2998  f            0.0\n",
       " 310 │     309    310    939       0      1.0  62.3326  f            0.0\n",
       " 311 │     310    311    839       0      1.0  37.9986  f            0.0\n",
       " 312 │     311    312    788       0      2.0  33.1526  f            0.0       ⋯\n",
       "\u001b[36m                                                 13 columns and 291 rows omitted\u001b[0m"
      ]
     },
     "execution_count": 56,
     "metadata": {},
     "output_type": "execute_result"
    }
   ],
   "source": [
    "#Data Frame for PBC data\n",
    "data = CSV.read(\"dataclean.csv\", DataFrame)"
   ]
  },
  {
   "cell_type": "code",
   "execution_count": 57,
   "id": "8a39e912",
   "metadata": {},
   "outputs": [
    {
     "data": {
      "text/plain": [
       "100"
      ]
     },
     "execution_count": 57,
     "metadata": {},
     "output_type": "execute_result"
    }
   ],
   "source": [
    "#Define constants\n",
    "\n",
    "#Number of patients\n",
    "N = size(data)[1]\n",
    "\n",
    "#Min _N and Max N_ number of patients allowed in an interpretable subset\n",
    "_N = 30\n",
    "N_ = 100"
   ]
  },
  {
   "cell_type": "code",
   "execution_count": 77,
   "id": "0de60696",
   "metadata": {},
   "outputs": [
    {
     "data": {
      "text/plain": [
       "2-element Vector{Vector{Int64}}:\n",
       " [5, 6, 7, 8, 10, 11, 12, 13, 14, 16  …  296, 298, 300, 301, 303, 305, 306, 307, 309, 312]\n",
       " [1, 2, 3, 4, 9, 15, 18, 19, 22, 24  …  291, 294, 295, 297, 299, 302, 304, 308, 310, 311]"
      ]
     },
     "execution_count": 77,
     "metadata": {},
     "output_type": "execute_result"
    }
   ],
   "source": [
    "#Define a list of patient numbers that are in each of the two treatment groups\n",
    "#Note that 2 in the data set means placebo, and 1 means experimental group\n",
    "\n",
    "T0 = findall(data[!,\"trt\"].==2) #indices of placebo patients\n",
    "T1 = findall(data[!,\"trt\"].==1) #indices of experimental patients\n",
    "\n",
    "T = [T0, T1]"
   ]
  },
  {
   "cell_type": "code",
   "execution_count": 83,
   "id": "dfc34c37",
   "metadata": {},
   "outputs": [
    {
     "data": {
      "text/plain": [
       "312-element Vector{Int64}:\n",
       " 1\n",
       " 1\n",
       " 1\n",
       " 1\n",
       " 2\n",
       " 2\n",
       " 2\n",
       " 2\n",
       " 1\n",
       " 2\n",
       " 2\n",
       " 2\n",
       " 2\n",
       " ⋮\n",
       " 2\n",
       " 1\n",
       " 2\n",
       " 1\n",
       " 2\n",
       " 2\n",
       " 2\n",
       " 1\n",
       " 2\n",
       " 1\n",
       " 1\n",
       " 2"
      ]
     },
     "execution_count": 83,
     "metadata": {},
     "output_type": "execute_result"
    }
   ],
   "source": [
    "#Patient-wise (from patient i=1:N) whether the patient is in placebo (1) or experimental group (2)\n",
    "Ti = (data[!,\"trt\"].==2).+1"
   ]
  },
  {
   "cell_type": "code",
   "execution_count": 87,
   "id": "53f91fd7",
   "metadata": {},
   "outputs": [
    {
     "name": "stdout",
     "output_type": "stream",
     "text": [
      "Academic license - for non-commercial use only - expires 2023-08-17\n"
     ]
    },
    {
     "data": {
      "text/plain": [
       "2-dimensional DenseAxisArray{ConstraintRef{Model, MathOptInterface.ConstraintIndex{MathOptInterface.ScalarAffineFunction{Float64}, MathOptInterface.Interval{Float64}}, ScalarShape},2,...} with index sets:\n",
       "    Dimension 1, Base.OneTo(312)\n",
       "    Dimension 2, 30:100\n",
       "And data, a 312×71 Matrix{ConstraintRef{Model, MathOptInterface.ConstraintIndex{MathOptInterface.ScalarAffineFunction{Float64}, MathOptInterface.Interval{Float64}}, ScalarShape}}:\n",
       " zeta[1,30] ∈ [0.0, 1.0]    …  zeta[1,100] ∈ [0.0, 1.0]\n",
       " zeta[2,30] ∈ [0.0, 1.0]       zeta[2,100] ∈ [0.0, 1.0]\n",
       " zeta[3,30] ∈ [0.0, 1.0]       zeta[3,100] ∈ [0.0, 1.0]\n",
       " zeta[4,30] ∈ [0.0, 1.0]       zeta[4,100] ∈ [0.0, 1.0]\n",
       " zeta[5,30] ∈ [0.0, 1.0]       zeta[5,100] ∈ [0.0, 1.0]\n",
       " zeta[6,30] ∈ [0.0, 1.0]    …  zeta[6,100] ∈ [0.0, 1.0]\n",
       " zeta[7,30] ∈ [0.0, 1.0]       zeta[7,100] ∈ [0.0, 1.0]\n",
       " zeta[8,30] ∈ [0.0, 1.0]       zeta[8,100] ∈ [0.0, 1.0]\n",
       " zeta[9,30] ∈ [0.0, 1.0]       zeta[9,100] ∈ [0.0, 1.0]\n",
       " zeta[10,30] ∈ [0.0, 1.0]      zeta[10,100] ∈ [0.0, 1.0]\n",
       " zeta[11,30] ∈ [0.0, 1.0]   …  zeta[11,100] ∈ [0.0, 1.0]\n",
       " zeta[12,30] ∈ [0.0, 1.0]      zeta[12,100] ∈ [0.0, 1.0]\n",
       " zeta[13,30] ∈ [0.0, 1.0]      zeta[13,100] ∈ [0.0, 1.0]\n",
       " ⋮                          ⋱  ⋮\n",
       " zeta[301,30] ∈ [0.0, 1.0]  …  zeta[301,100] ∈ [0.0, 1.0]\n",
       " zeta[302,30] ∈ [0.0, 1.0]     zeta[302,100] ∈ [0.0, 1.0]\n",
       " zeta[303,30] ∈ [0.0, 1.0]     zeta[303,100] ∈ [0.0, 1.0]\n",
       " zeta[304,30] ∈ [0.0, 1.0]     zeta[304,100] ∈ [0.0, 1.0]\n",
       " zeta[305,30] ∈ [0.0, 1.0]     zeta[305,100] ∈ [0.0, 1.0]\n",
       " zeta[306,30] ∈ [0.0, 1.0]  …  zeta[306,100] ∈ [0.0, 1.0]\n",
       " zeta[307,30] ∈ [0.0, 1.0]     zeta[307,100] ∈ [0.0, 1.0]\n",
       " zeta[308,30] ∈ [0.0, 1.0]     zeta[308,100] ∈ [0.0, 1.0]\n",
       " zeta[309,30] ∈ [0.0, 1.0]     zeta[309,100] ∈ [0.0, 1.0]\n",
       " zeta[310,30] ∈ [0.0, 1.0]     zeta[310,100] ∈ [0.0, 1.0]\n",
       " zeta[311,30] ∈ [0.0, 1.0]  …  zeta[311,100] ∈ [0.0, 1.0]\n",
       " zeta[312,30] ∈ [0.0, 1.0]     zeta[312,100] ∈ [0.0, 1.0]"
      ]
     },
     "execution_count": 87,
     "metadata": {},
     "output_type": "execute_result"
    }
   ],
   "source": [
    "model = Model(Gurobi.Optimizer)\n",
    "\n",
    "#Variables\n",
    "@variable(model, z[1:N], Bin) #Indicator variable - if each patient i is contained within the interpretable subgroup\n",
    "@variable(model, theta[_N:N_, 1:2], Bin) #Indicator variable - if j between _N and N_ is equal to the number of patients from treatment group t within the interpretable subgroup\n",
    "@variable(model, zeta[1:N,_N:N_]) #Indicator variable that is 1 iff both zi = 1 and thetaj = 1\n",
    "\n",
    "#Constraints\n",
    "@constraint(model, [t=1:2], _N <= sum(z[i] for i in T[t]) <= N_) #The number of patients within the interpretable subgroup from EACH treatment group must be within the bounds _N and N_\n",
    "\n",
    "@constraint(model, [i=1:N, j=_N:N_], zeta[i,j] <= theta[j,Ti[i]]) #Ensuring z works as indicator variable (see variable section)\n",
    "@constraint(model, [i=1:N, j=_N:N_], zeta[i,j] <= z[i])\n",
    "@constraint(model, [i=1:N, j=_N:N_], zeta[i,j] >= theta[j,Ti[i]] + z[i] - 1)\n",
    "\n",
    "@constraint(model, [t=1:2], sum(sum((1/j)*zeta[i,j] for j in _N:N_) for i in T[t]) == 1) #Confirming that the sum of the patients in the interpretable cluster equals j for each treatment group\n",
    "\n",
    "@constraint(model, [t=1:2], sum(theta[j,t] for j=_N:N_) == 1) #Ensuring theta works as indicator variable (see variable section)\n",
    "\n",
    "@constraint(model, [i=1:N, j=_N:N_], 0<=zeta[i,j]<=1) #Zeta bounds"
   ]
  }
 ],
 "metadata": {
  "kernelspec": {
   "display_name": "Julia 1.7.3",
   "language": "julia",
   "name": "julia-1.7"
  },
  "language_info": {
   "file_extension": ".jl",
   "mimetype": "application/julia",
   "name": "julia",
   "version": "1.7.3"
  }
 },
 "nbformat": 4,
 "nbformat_minor": 5
}
