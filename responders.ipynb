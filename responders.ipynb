{
 "cells": [
  {
   "cell_type": "code",
   "execution_count": 1,
   "metadata": {},
   "outputs": [],
   "source": [
    "using DataFrames, CSV\n",
    "using JuMP, Gurobi\n",
    "using LinearAlgebra, Random, Printf, StatsBase, CategoricalArrays\n",
    "using Distributions"
   ]
  },
  {
   "cell_type": "code",
   "execution_count": 2,
   "metadata": {},
   "outputs": [],
   "source": [
    "data = CSV.read(\"dataclean_imputed.csv\", DataFrame);"
   ]
  },
  {
   "cell_type": "code",
   "execution_count": 4,
   "metadata": {},
   "outputs": [],
   "source": [
    "X = Matrix(select(data, Not([:Column1, :id, :time, :status, :trt])));"
   ]
  },
  {
   "cell_type": "code",
   "execution_count": 6,
   "metadata": {},
   "outputs": [
    {
     "data": {
      "text/plain": [
       "94.0"
      ]
     },
     "execution_count": 6,
     "metadata": {},
     "output_type": "execute_result"
    }
   ],
   "source": [
    "#Define constants\n",
    "\n",
    "#Number of patients\n",
    "N = size(data)[1]\n",
    "\n",
    "#Min _N and Max N_ number of patients allowed in an interpretable subset\n",
    "_N = floor(0.1 * N)\n",
    "N_ = ceil(0.3 * N)"
   ]
  },
  {
   "cell_type": "code",
   "execution_count": 7,
   "metadata": {},
   "outputs": [
    {
     "data": {
      "text/plain": [
       "2-element Vector{Vector{Int64}}:\n",
       " [5, 6, 7, 8, 10, 11, 12, 13, 14, 16  …  296, 298, 300, 301, 303, 305, 306, 307, 309, 312]\n",
       " [1, 2, 3, 4, 9, 15, 18, 19, 22, 24  …  291, 294, 295, 297, 299, 302, 304, 308, 310, 311]"
      ]
     },
     "execution_count": 7,
     "metadata": {},
     "output_type": "execute_result"
    }
   ],
   "source": [
    "#Define a list of patient numbers that are in each of the two treatment groups\n",
    "#Note that 2 in the data set means placebo, and 1 means experimental group\n",
    "\n",
    "T0 = findall(data[!,\"trt\"].==2) #indices of placebo patients\n",
    "T1 = findall(data[!,\"trt\"].==1) #indices of experimental patients\n",
    "\n",
    "T = [T0, T1]"
   ]
  },
  {
   "cell_type": "code",
   "execution_count": 8,
   "metadata": {},
   "outputs": [],
   "source": [
    "#Patient-wise (from patient i=N) whether the patient is in placebo (1) or experimental group (2)\n",
    "Ti = (data[!,\"trt\"].==1).+1;"
   ]
  },
  {
   "cell_type": "code",
   "execution_count": 93,
   "metadata": {},
   "outputs": [
    {
     "data": {
      "text/plain": [
       "3"
      ]
     },
     "execution_count": 93,
     "metadata": {},
     "output_type": "execute_result"
    }
   ],
   "source": [
    "S = size(X)[2]\n",
    "K = 4\n",
    "S_0 = 3"
   ]
  },
  {
   "cell_type": "code",
   "execution_count": 94,
   "metadata": {},
   "outputs": [],
   "source": [
    "# cut ranges for variables (make them start at 0)\n",
    "Ks = [K, 3, 3, 3, 3, 4, K, K, K, K, K, K, K, K, K, 7];"
   ]
  },
  {
   "cell_type": "code",
   "execution_count": 95,
   "metadata": {},
   "outputs": [
    {
     "data": {
      "text/plain": [
       "get_value_for_cut (generic function with 1 method)"
      ]
     },
     "execution_count": 95,
     "metadata": {},
     "output_type": "execute_result"
    }
   ],
   "source": [
    "function get_value_for_cut(s, k)\n",
    "    # get max of X for feature s\n",
    "    max_s = maximum(X[:, s])\n",
    "    # get min of X for feature s\n",
    "    min_s = minimum(X[:, s])\n",
    "    # get cut value\n",
    "    return min_s + (max_s - min_s) * (k - 1) / (Ks[s] - 1) \n",
    "end"
   ]
  },
  {
   "cell_type": "code",
   "execution_count": 96,
   "metadata": {},
   "outputs": [
    {
     "data": {
      "text/plain": [
       "get_i_U (generic function with 1 method)"
      ]
     },
     "execution_count": 96,
     "metadata": {},
     "output_type": "execute_result"
    }
   ],
   "source": [
    "# find the cuts k for variable i in feature s for which X[i,s] is is smaller than the k-th cut\n",
    "function get_k_L(i, s)\n",
    "    cuts = []\n",
    "    for k in 1:Ks[s]\n",
    "        if X[i, s] < get_value_for_cut(s, k)\n",
    "            push!(cuts, k)\n",
    "        end\n",
    "    end\n",
    "    return cuts\n",
    "end\n",
    "\n",
    "# find the cuts k for variable i in feature s for which X[i,s] is is larger than the k-th cut\n",
    "function get_k_U(i, s)\n",
    "    cuts = []\n",
    "    for k in 1:Ks[s]\n",
    "        if X[i, s] > get_value_for_cut(s, k)\n",
    "            push!(cuts, k)\n",
    "        end\n",
    "    end\n",
    "    return cuts\n",
    "end\n",
    "\n",
    "# find the patients i for cut k in feature s for which X[i,s] is is smaller than the k-th cut\n",
    "function get_i_L(s, k)\n",
    "    patients = []\n",
    "    for i in 1:N\n",
    "        if X[i, s] < get_value_for_cut(s, k)\n",
    "            push!(patients, i)\n",
    "        end\n",
    "    end\n",
    "    return patients\n",
    "end\n",
    "\n",
    "# find the patients i for cut k in feature s for which X[i,s] is is larger than the k-th cut\n",
    "function get_i_U(s, k)\n",
    "    patients = []\n",
    "    for i in 1:N\n",
    "        if X[i, s] > get_value_for_cut(s, k)\n",
    "            push!(patients, i)\n",
    "        end\n",
    "    end\n",
    "    return patients\n",
    "end"
   ]
  },
  {
   "cell_type": "code",
   "execution_count": 97,
   "metadata": {},
   "outputs": [],
   "source": [
    "# treatment effect\n",
    "# set multiplier to 10 for survival, 3 for transplant and 1 for death\n",
    "function multiplier(patient)\n",
    "    if data[patient, :status] == 2\n",
    "        return 1\n",
    "    elseif data[patient, :status] == 1\n",
    "        return 3\n",
    "    else\n",
    "        return 10\n",
    "    end\n",
    "end\n",
    "\n",
    "# define treatment effect as time * multiplier for each patient\n",
    "v = [data[patient, :time] * multiplier(patient) for patient in 1:N];"
   ]
  },
  {
   "cell_type": "code",
   "execution_count": 98,
   "metadata": {},
   "outputs": [],
   "source": [
    "# get patients for each :status\n",
    "df_0 = data[data[!,:status].==0,:]\n",
    "df_1 = data[data[!,:status].==1,:]\n",
    "df_2 = data[data[!,:status].==2,:]\n",
    "\n",
    "# for each patient group, cap the :time values to mean +- 3 * std\n",
    "df_0[!,:time] = min.(df_0[!,:time], mean(df_0[!,:time]) + 3 * std(df_0[!,:time]))\n",
    "df_0[!,:time] = max.(df_0[!,:time], mean(df_0[!,:time]) - 3 * std(df_0[!,:time]))\n",
    "df_1[!,:time] = min.(df_1[!,:time], mean(df_1[!,:time]) + 3 * std(df_1[!,:time]))\n",
    "df_1[!,:time] = max.(df_1[!,:time], mean(df_1[!,:time]) - 3 * std(df_1[!,:time]))\n",
    "df_2[!,:time] = min.(df_2[!,:time], mean(df_2[!,:time]) + 3 * std(df_2[!,:time]))\n",
    "df_2[!,:time] = max.(df_2[!,:time], mean(df_2[!,:time]) - 3 * std(df_2[!,:time]))\n",
    "\n",
    "# for each patient group replace :time with the min-max scaled value\n",
    "df_0[!,:time] = (df_0[!,:time] .- minimum(df_0[!,:time])) ./ (maximum(df_0[!,:time]) - minimum(df_0[!,:time]))\n",
    "df_1[!,:time] = (df_1[!,:time] .- minimum(df_1[!,:time])) ./ (maximum(df_1[!,:time]) - minimum(df_1[!,:time]))\n",
    "df_2[!,:time] = (df_2[!,:time] .- minimum(df_2[!,:time])) ./ (maximum(df_2[!,:time]) - minimum(df_2[!,:time]))\n",
    "\n",
    "# join the dataframes again\n",
    "data = vcat(df_0, df_1, df_2)\n",
    "\n",
    "# sort dataframe by :id\n",
    "data = sort(data, :id)\n",
    "\n",
    "# define treatment effect as the adjusted time for each patient\n",
    "v = data[!,:time];"
   ]
  },
  {
   "cell_type": "code",
   "execution_count": 99,
   "metadata": {},
   "outputs": [
    {
     "name": "stdout",
     "output_type": "stream",
     "text": [
      "Set parameter Username\n",
      "Academic license - for non-commercial use only - expires 2023-11-08\n",
      "Set parameter Threads to value 20\n",
      "Set parameter TimeLimit to value 600\n"
     ]
    }
   ],
   "source": [
    "model = Model(Gurobi.Optimizer)\n",
    "set_optimizer_attribute(model, \"OutputFlag\", 1)\n",
    "set_optimizer_attribute(model, \"Threads\", 20)\n",
    "#set_optimizer_attribute(model, \"MIPGap\", 0.005)\n",
    "set_optimizer_attribute(model, \"TimeLimit\", 600)\n",
    "\n",
    "# variables\n",
    "#Variables\n",
    "@variable(model, z[1:N], Bin) #Indicator variable - if each patient i is contained within the interpretable subgroup\n",
    "@variable(model, theta[_N:N_, 1:2], Bin) #Indicator variable - if j between _N and N_ is equal to the number of patients from treatment group t within the interpretable subgroup\n",
    "@variable(model, zeta[1:N,_N:N_]) #Indicator variable that is 1 iff both zi = 1 and thetaj = 1\n",
    "@variable(model, L[s=1:S, k=1:maximum(Ks)], Bin) # Lower bound indicator variable, 1 iff cut k is the lower bound for feature s in the interpretable subgroup\n",
    "@variable(model, U[s=1:S, k=1:maximum(Ks)], Bin) # Upper bound indicator variable, 1 iff cut k is the upper bound for feature s in the interpretable subgroup\n",
    "@variable(model, q[s=1:S], Bin) # Indicator variable, 1 iff feature s has a non-extremal lower and/or upper bound in the interpretable subgroup\n",
    "\n",
    "# constraints\n",
    "@constraint(model, [i=1:N], z[i] + sum(sum(L[s, k] for k in get_k_L(i, s)) + sum(U[s, k] for k in get_k_U(i, s)) for s=1:S) >= 1)\n",
    "\n",
    "@constraint(model, [s=1:S, k=1:Ks[s], i in get_i_L(s, k)], z[i] + L[s, k] <= 1)\n",
    "@constraint(model, [s=1:S, k=1:Ks[s], i in get_i_U(s, k)], z[i] + U[s, k] <= 1)\n",
    "\n",
    "@constraint(model, [s=1:S], sum(L[s, k] for k=1:Ks[s]) == 1) # We can only ever select one lower bound per feature\n",
    "@constraint(model, [s=1:S], sum(U[s, k] for k=1:Ks[s]) == 1) # We can only ever select one upper bound per feature\n",
    "\n",
    "# @constraint(model, [s=1:S], sum(L[s, k] for k=1:K) == 1)\n",
    "# @constraint(model, [s=1:S], sum(U[s, k] for k=1:K) == 1)\n",
    "\n",
    "@constraint(model, [s=1:S], q[s] + L[s, 1] >= 1) # Either the lower bound is not the extremal value, or the feature is not selected\n",
    "@constraint(model, [s=1:S], q[s] + U[s, Ks[s]] >= 1) # Either the upper bound is not the extremal value, or the feature is not selected\n",
    "@constraint(model, [s=1:S], q[s] + L[s, 1] + U[s, Ks[s]] <= 2) # The feature can only be selected if at most one of the bounds is the extremal value\n",
    "\n",
    "@constraint(model, sum(q[s] for s=1:S) <= S_0) # Select at most S_0 features in the interpretable subgroup\n",
    "\n",
    "@constraint(model, [t=1:2], _N <= sum(z[i] for i in T[t]) <= N_) # The number of patients within the interpretable subgroup from EACH treatment group must be within the bounds _N and N_\n",
    "\n",
    "@constraint(model, [i=1:N, j=_N:N_], zeta[i,j] <= theta[j,Ti[i]]) # Ensuring z works as indicator variable (see variable section)\n",
    "@constraint(model, [i=1:N, j=_N:N_], zeta[i,j] <= z[i])\n",
    "@constraint(model, [i=1:N, j=_N:N_], zeta[i,j] >= theta[j,Ti[i]] + z[i] - 1)\n",
    "\n",
    "@constraint(model, [t=1:2], sum(sum((1/j)*zeta[i,j] for j in _N:N_) for i in T[t]) == 1) #Confirming that the sum of the patients in the interpretable cluster equals j for each treatment group\n",
    "\n",
    "@constraint(model, [t=1:2], sum(theta[j,t] for j=_N:N_) == 1) #Ensuring theta works as indicator variable (see variable section)\n",
    "\n",
    "@constraint(model, [i=1:N, j=_N:N_], 0<=zeta[i,j]<=1) #Zeta bounds\n",
    "\n",
    "@objective(model, Max, sum(sum((1/j) * v[i] * zeta[i,j] for j in _N:N_) for i in T1) - sum(sum((1/j) * v[i] * zeta[i,j] for j in _N:N_) for i in T0)); #Objective function"
   ]
  },
  {
   "cell_type": "code",
   "execution_count": 100,
   "metadata": {},
   "outputs": [
    {
     "name": "stdout",
     "output_type": "stream",
     "text": [
      "Set parameter Threads to value 20\n",
      "Set parameter TimeLimit to value 600\n",
      "Gurobi Optimizer version 10.0.0 build v10.0.0rc2 (win64)\n",
      "\n",
      "CPU model: 12th Gen Intel(R) Core(TM) i9-12900HK, instruction set [SSE2|AVX|AVX2]\n",
      "Thread count: 14 physical cores, 20 logical processors, using up to 20 threads\n",
      "\n",
      "Optimize a model with 98063 rows, 40618 columns and 254064 nonzeros\n",
      "Model fingerprint: 0x841aafec\n",
      "Variable types: 39938 continuous, 680 integer (680 binary)\n",
      "Coefficient statistics:\n",
      "  Matrix range     [1e-02, 1e+00]\n",
      "  Objective range  [3e-05, 3e-02]\n",
      "  Bounds range     [1e+00, 9e+01]\n",
      "  RHS range        [1e+00, 3e+00]\n",
      "Presolve removed 35678 rows and 20209 columns\n",
      "Presolve time: 2.21s\n",
      "Presolved: 62385 rows, 20409 columns, 167357 nonzeros\n",
      "Variable types: 19904 continuous, 505 integer (487 binary)\n",
      "\n",
      "Deterministic concurrent LP optimizer: primal and dual simplex (primal and dual model)\n",
      "Showing first log only...\n",
      "\n",
      "Root relaxation presolved: 62385 rows, 20409 columns, 167357 nonzeros\n",
      "\n",
      "Concurrent spin time: 0.32s\n",
      "\n",
      "Solved with dual simplex (primal model)\n",
      "\n",
      "Root relaxation: objective 7.262698e-01, 6160 iterations, 1.67 seconds (1.96 work units)\n",
      "\n",
      "    Nodes    |    Current Node    |     Objective Bounds      |     Work\n",
      " Expl Unexpl |  Obj  Depth IntInf | Incumbent    BestBd   Gap | It/Node Time\n",
      "\n",
      "     0     0    0.72627    0  179          -    0.72627      -     -    5s\n",
      "H    0     0                       0.0541961    0.72627  1240%     -    8s\n",
      "H    0     0                       0.0618218    0.72627  1075%     -    8s\n",
      "     0     0    0.60367    0  272    0.06182    0.60367   876%     -   12s\n",
      "H    0     0                       0.0770400    0.60367   684%     -   12s\n",
      "     0     0    0.59668    0  271    0.07704    0.59668   675%     -   13s\n",
      "     0     0    0.49120    0  271    0.07704    0.49120   538%     -   25s\n",
      "     0     0    0.46876    0  280    0.07704    0.46876   508%     -   32s\n",
      "     0     0    0.41979    0  253    0.07704    0.41979   445%     -   48s\n",
      "     0     0    0.39909    0  273    0.07704    0.39909   418%     -   58s\n",
      "     0     0    0.39116    0  292    0.07704    0.39116   408%     -   69s\n",
      "     0     0    0.39023    0  288    0.07704    0.39023   407%     -   75s\n",
      "     0     0    0.38718    0  290    0.07704    0.38718   403%     -   84s\n",
      "     0     0    0.38549    0  295    0.07704    0.38549   400%     -   94s\n",
      "     0     0    0.38212    0  293    0.07704    0.38212   396%     -  105s\n",
      "     0     0    0.38082    0  302    0.07704    0.38082   394%     -  115s\n",
      "     0     0    0.37875    0  297    0.07704    0.37875   392%     -  126s\n",
      "H    0     0                       0.1084771    0.37826   249%     -  132s\n",
      "     0     0    0.37826    0  297    0.10848    0.37826   249%     -  132s\n",
      "     0     0    0.37823    0  297    0.10848    0.37823   249%     -  134s\n",
      "     0     0    0.37750    0  309    0.10848    0.37750   248%     -  140s\n",
      "H    0     0                       0.1139424    0.37750   231%     -  141s\n",
      "     0     0    0.37710    0  310    0.11394    0.37710   231%     -  146s\n",
      "     0     0    0.37708    0  312    0.11394    0.37708   231%     -  148s\n",
      "     0     0    0.37640    0  312    0.11394    0.37640   230%     -  155s\n",
      "     0     0    0.37578    0  330    0.11394    0.37578   230%     -  165s\n",
      "     0     0    0.37575    0  330    0.11394    0.37575   230%     -  168s\n",
      "     0     0    0.37500    0  317    0.11394    0.37500   229%     -  176s\n",
      "     0     0    0.37494    0  318    0.11394    0.37494   229%     -  179s\n",
      "     0     0    0.37414    0  319    0.11394    0.37414   228%     -  187s\n",
      "     0     0    0.37404    0  329    0.11394    0.37404   228%     -  191s\n",
      "     0     0    0.37378    0  327    0.11394    0.37378   228%     -  196s\n",
      "     0     0    0.37378    0  327    0.11394    0.37378   228%     -  202s\n",
      "     0     2    0.37377    0  327    0.11394    0.37377   228%     -  216s\n",
      "     1     4    0.37313    1  327    0.11394    0.37377   228%  2610  228s\n",
      "     3     8    0.37107    2  325    0.11394    0.37313   227%  4648  237s\n",
      "     7    16    0.36980    3  318    0.11394    0.37107   226%  4112  245s\n",
      "    15    32    0.36901    4  313    0.11394    0.36980   225%  2869  252s\n",
      "    31    50    0.36592    5  311    0.11394    0.36901   224%  2123  271s\n",
      "H   48    50                       0.1139424    0.36592   221%  1835  271s\n",
      "    51    64    0.36295    6  305    0.11394    0.36592   221%  1978  287s\n",
      "    71    80    0.36225    7  308    0.11394    0.36592   221%  1821  294s\n",
      "    91    94    0.33535    8  292    0.11394    0.36592   221%  1741  323s\n",
      "H  100    94                       0.1488548    0.36592   146%  1788  323s\n",
      "   111    90    0.34112    8  293    0.14885    0.36592   146%  1765  335s\n",
      "   142    94    0.29773    9  275    0.14885    0.36592   146%  1662  346s\n",
      "   173   108    0.28253    9  234    0.14885    0.36592   146%  1736  371s\n",
      "   201   119    0.27571   10  207    0.14885    0.36592   146%  1775  383s\n",
      "   240   124    0.17435   11  145    0.14885    0.36592   146%  1715  439s\n",
      "H  264   124                       0.1488548    0.36592   146%  1697  439s\n",
      "   274   137     cutoff   12         0.14885    0.36592   146%  1676  464s\n",
      "   317   145 infeasible    9         0.14885    0.36295   144%  1636  483s\n",
      "   369   146    0.31575    7  248    0.14885    0.36295   144%  1591  492s\n",
      "   429   159    0.31239    8  242    0.14885    0.36295   144%  1501  509s\n",
      "   484   166    0.30027    9  226    0.14885    0.36295   144%  1498  600s\n",
      "\n",
      "Cutting planes:\n",
      "  Cover: 40\n",
      "  Implied bound: 1779\n",
      "  Clique: 139\n",
      "  MIR: 83\n",
      "  Flow cover: 18\n",
      "  Zero half: 7\n",
      "  RLT: 820\n",
      "  Relax-and-lift: 5\n",
      "  BQP: 208\n",
      "  PSD: 10\n",
      "\n",
      "Explored 529 nodes (863772 simplex iterations) in 601.02 seconds (913.97 work units)\n",
      "Thread count was 20 (of 20 available processors)\n",
      "\n",
      "Solution count 6: 0.148855 0.113942 0.108477 ... 0.0541961\n",
      "\n",
      "Time limit reached\n",
      "Best objective 1.488547849566e-01, best bound 3.629491749015e-01, gap 143.8277%\n",
      "\n",
      "User-callback calls 14468, time in user-callback 0.13 sec\n"
     ]
    }
   ],
   "source": [
    "optimize!(model)"
   ]
  },
  {
   "cell_type": "code",
   "execution_count": 70,
   "metadata": {},
   "outputs": [
    {
     "data": {
      "text/plain": [
       "get_features (generic function with 1 method)"
      ]
     },
     "execution_count": 70,
     "metadata": {},
     "output_type": "execute_result"
    }
   ],
   "source": [
    "function get_features()\n",
    "    L_opt = value.(L);\n",
    "    U_opt = value.(U);\n",
    "    # get the indices of the lower bound cuts \n",
    "    # for each feature\n",
    "    L_ind = [findall(L_opt[s,:] .== 1)[1] for s=1:S]\n",
    "\n",
    "    # get the indices of the upper bound cuts\n",
    "    # for each feature\n",
    "    U_ind = [findall(U_opt[s,:] .== 1)[1] for s=1:S];\n",
    "\n",
    "    # find features for which the lower bound is not the minimum\n",
    "    # and the upper bound is not the maximum\n",
    "    q_ind = findall(value.(q) .== 1)\n",
    "\n",
    "    # get the value of the lower and upper bound cuts for features in q_ind\n",
    "    L_val = [get_value_for_cut(s, L_ind[s]) for s in q_ind]\n",
    "    U_val = [get_value_for_cut(s, U_ind[s]) for s in q_ind];\n",
    "\n",
    "    # get names of features in q_ind\n",
    "    q_names = [names(data)[s+5] for s in q_ind]\n",
    "\n",
    "    println(\"Features that make up the interpretable subgroup are: \", q_names)\n",
    "    println(\"The subgroup has the following bounds:\")\n",
    "    # print the lower and upper bound cuts for features in q_ind\n",
    "    for i=1:length(q_ind)\n",
    "        println(q_names[i], \" ∈ [\", L_val[i], \", \", U_val[i], \"]\")\n",
    "    end\n",
    "    println(\"--------------------------------------------------------\")\n",
    "end"
   ]
  },
  {
   "cell_type": "code",
   "execution_count": 71,
   "metadata": {},
   "outputs": [
    {
     "data": {
      "text/plain": [
       "get_ATE (generic function with 1 method)"
      ]
     },
     "execution_count": 71,
     "metadata": {},
     "output_type": "execute_result"
    }
   ],
   "source": [
    "function get_ATE()\n",
    "    # get patients in the interpretable subgroup\n",
    "    z_ind = findall(value.(z) .== 1)\n",
    "\n",
    "    # get average treatment effect for patients in the interpretable subgroup\n",
    "    ATE = mean(v[z_ind])\n",
    "\n",
    "    # get average treatment effect for patients not in the interpretable subgroup\n",
    "    ATE_not = mean(v[setdiff(1:N, z_ind)]);\n",
    "\n",
    "    # print ATE and ATE_not\n",
    "    println(\"ATE: \", ATE)\n",
    "    println(\"ATE_not: \", ATE_not)\n",
    "    println(\"Difference: \", ATE - ATE_not)\n",
    "    # percentage Difference\n",
    "    println(\"Percentage Difference: \", round((ATE - ATE_not)/ATE_not * 100, digits=2), \"%\")\n",
    "end"
   ]
  },
  {
   "cell_type": "code",
   "execution_count": 72,
   "metadata": {},
   "outputs": [
    {
     "name": "stdout",
     "output_type": "stream",
     "text": [
      "Features that make up the interpretable subgroup are: [\"age\", \"platelet\"]\n",
      "The subgroup has the following bounds:\n",
      "age ∈ [43.66506958704083, 61.05224731918777]\n",
      "platelet ∈ [62.0, 229.0]\n",
      "--------------------------------------------------------\n",
      "ATE: 0.40563627166285376\n",
      "ATE_not: 0.3987814226762474\n",
      "Difference: 0.006854848986606377\n",
      "Percentage Difference: 1.72%\n"
     ]
    }
   ],
   "source": [
    "get_features() \n",
    "get_ATE()"
   ]
  },
  {
   "cell_type": "code",
   "execution_count": 91,
   "metadata": {},
   "outputs": [],
   "source": [
    "# save optimal z, L, U and q to disk\n",
    "# create dataframe for each\n",
    "z_opt = DataFrame(z=value.(z))\n",
    "L_opt = DataFrame(value.(L), :auto)\n",
    "U_opt = DataFrame(value.(U), :auto)\n",
    "q_opt = DataFrame(q=value.(q))\n",
    "\n",
    "# save to disk\n",
    "# create directory if it doesn't exist\n",
    "isdir(\"K=$K\") || mkdir(\"K=$K\")\n",
    "isdir(\"K=$K/S_0=$S_0\") || mkdir(\"K=$K/S_0=$S_0\")\n",
    "CSV.write(\"K=$K/S_0=$S_0/z_opt.csv\", z_opt)\n",
    "CSV.write(\"K=$K/S_0=$S_0/L_opt.csv\", L_opt)\n",
    "CSV.write(\"K=$K/S_0=$S_0/U_opt.csv\", U_opt)\n",
    "CSV.write(\"K=$K/S_0=$S_0/q_opt.csv\", q_opt);"
   ]
  },
  {
   "cell_type": "code",
   "execution_count": 154,
   "metadata": {},
   "outputs": [
    {
     "data": {
      "text/plain": [
       "1979.1666666666667"
      ]
     },
     "execution_count": 154,
     "metadata": {},
     "output_type": "execute_result"
    }
   ],
   "source": [
    "# average :time of data per :status\n",
    "function average_time_per_status(status)\n",
    "    return mean(data[data[:, :status] .== status, :time])\n",
    "end\n",
    "\n",
    "# for each status get the average :time\n",
    "average_times = [average_time_per_status(status) for status in 0:2]\n",
    "\n",
    "mean_time = mean(data[:, :time])"
   ]
  },
  {
   "cell_type": "code",
   "execution_count": 155,
   "metadata": {},
   "outputs": [
    {
     "data": {
      "text/plain": [
       "3-element Vector{Float64}:\n",
       " 2391.78231292517\n",
       " 1511.611111111111\n",
       " 1508.5495495495495"
      ]
     },
     "execution_count": 155,
     "metadata": {},
     "output_type": "execute_result"
    }
   ],
   "source": [
    "average_times"
   ]
  },
  {
   "cell_type": "code",
   "execution_count": 157,
   "metadata": {},
   "outputs": [
    {
     "data": {
      "text/plain": [
       "3-element Vector{Int64}:\n",
       " 4556\n",
       " 3092\n",
       " 4191"
      ]
     },
     "execution_count": 157,
     "metadata": {},
     "output_type": "execute_result"
    }
   ],
   "source": [
    "# max :time of data per :status\n",
    "function max_time_per_status(status)\n",
    "    return maximum(data[data[:, :status] .== status, :time])\n",
    "end\n",
    "\n",
    "# for each status get the max :time\n",
    "max_times = [max_time_per_status(status) for status in 0:2]"
   ]
  },
  {
   "cell_type": "code",
   "execution_count": 156,
   "metadata": {},
   "outputs": [
    {
     "data": {
      "text/plain": [
       "49.799660744576386"
      ]
     },
     "execution_count": 156,
     "metadata": {},
     "output_type": "execute_result"
    }
   ],
   "source": [
    "# average age\n",
    "mean_age = mean(data[:, :age])"
   ]
  },
  {
   "cell_type": "code",
   "execution_count": null,
   "metadata": {},
   "outputs": [],
   "source": []
  }
 ],
 "metadata": {
  "kernelspec": {
   "display_name": "Julia 1.8.0",
   "language": "julia",
   "name": "julia-1.8"
  },
  "language_info": {
   "file_extension": ".jl",
   "mimetype": "application/julia",
   "name": "julia",
   "version": "1.8.0"
  },
  "orig_nbformat": 4
 },
 "nbformat": 4,
 "nbformat_minor": 2
}
