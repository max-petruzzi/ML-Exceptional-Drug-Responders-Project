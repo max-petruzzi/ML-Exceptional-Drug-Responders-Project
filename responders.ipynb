{
 "cells": [
  {
   "cell_type": "code",
   "execution_count": 29,
   "metadata": {},
   "outputs": [],
   "source": [
    "using DataFrames, CSV\n",
    "using JuMP, Gurobi\n",
    "using LinearAlgebra, Random, Printf, StatsBase, CategoricalArrays\n",
    "using Distributions"
   ]
  },
  {
   "cell_type": "code",
   "execution_count": 30,
   "metadata": {},
   "outputs": [],
   "source": [
    "data = CSV.read(\"datasubset.csv\", DataFrame);"
   ]
  },
  {
   "cell_type": "code",
   "execution_count": 31,
   "metadata": {},
   "outputs": [
    {
     "data": {
      "text/html": [
       "<div><div style = \"float: left;\"><span>276×21 DataFrame</span></div><div style = \"float: right;\"><span style = \"font-style: italic;\">251 rows omitted</span></div><div style = \"clear: both;\"></div></div><div class = \"data-frame\" style = \"overflow-x: scroll;\"><table class = \"data-frame\" style = \"margin-bottom: 6px;\"><thead><tr class = \"header\"><th class = \"rowNumber\" style = \"font-weight: bold; text-align: right;\">Row</th><th style = \"text-align: left;\">Column1</th><th style = \"text-align: left;\">id</th><th style = \"text-align: left;\">time</th><th style = \"text-align: left;\">status</th><th style = \"text-align: left;\">trt</th><th style = \"text-align: left;\">age</th><th style = \"text-align: left;\">sex</th><th style = \"text-align: left;\">ascites</th><th style = \"text-align: left;\">hepato</th><th style = \"text-align: left;\">spiders</th><th style = \"text-align: left;\">edema</th><th style = \"text-align: left;\">bili</th><th style = \"text-align: left;\">chol</th><th style = \"text-align: left;\">albumin</th><th style = \"text-align: left;\">copper</th><th style = \"text-align: left;\">alk.phos</th><th style = \"text-align: left;\">ast</th><th style = \"text-align: left;\">trig</th><th style = \"text-align: left;\">platelet</th><th style = \"text-align: left;\">protime</th><th style = \"text-align: left;\">stage</th></tr><tr class = \"subheader headerLastRow\"><th class = \"rowNumber\" style = \"font-weight: bold; text-align: right;\"></th><th title = \"Int64\" style = \"text-align: left;\">Int64</th><th title = \"Int64\" style = \"text-align: left;\">Int64</th><th title = \"Int64\" style = \"text-align: left;\">Int64</th><th title = \"Int64\" style = \"text-align: left;\">Int64</th><th title = \"Float64\" style = \"text-align: left;\">Float64</th><th title = \"Float64\" style = \"text-align: left;\">Float64</th><th title = \"Int64\" style = \"text-align: left;\">Int64</th><th title = \"Float64\" style = \"text-align: left;\">Float64</th><th title = \"Float64\" style = \"text-align: left;\">Float64</th><th title = \"Float64\" style = \"text-align: left;\">Float64</th><th title = \"Float64\" style = \"text-align: left;\">Float64</th><th title = \"Float64\" style = \"text-align: left;\">Float64</th><th title = \"Float64\" style = \"text-align: left;\">Float64</th><th title = \"Float64\" style = \"text-align: left;\">Float64</th><th title = \"Float64\" style = \"text-align: left;\">Float64</th><th title = \"Float64\" style = \"text-align: left;\">Float64</th><th title = \"Float64\" style = \"text-align: left;\">Float64</th><th title = \"Float64\" style = \"text-align: left;\">Float64</th><th title = \"Float64\" style = \"text-align: left;\">Float64</th><th title = \"Float64\" style = \"text-align: left;\">Float64</th><th title = \"Float64\" style = \"text-align: left;\">Float64</th></tr></thead><tbody><tr><td class = \"rowNumber\" style = \"font-weight: bold; text-align: right;\">1</td><td style = \"text-align: right;\">0</td><td style = \"text-align: right;\">1</td><td style = \"text-align: right;\">400</td><td style = \"text-align: right;\">2</td><td style = \"text-align: right;\">1.0</td><td style = \"text-align: right;\">58.7652</td><td style = \"text-align: right;\">1</td><td style = \"text-align: right;\">1.0</td><td style = \"text-align: right;\">1.0</td><td style = \"text-align: right;\">1.0</td><td style = \"text-align: right;\">1.0</td><td style = \"text-align: right;\">14.5</td><td style = \"text-align: right;\">261.0</td><td style = \"text-align: right;\">2.6</td><td style = \"text-align: right;\">156.0</td><td style = \"text-align: right;\">1718.0</td><td style = \"text-align: right;\">137.95</td><td style = \"text-align: right;\">172.0</td><td style = \"text-align: right;\">190.0</td><td style = \"text-align: right;\">12.2</td><td style = \"text-align: right;\">4.0</td></tr><tr><td class = \"rowNumber\" style = \"font-weight: bold; text-align: right;\">2</td><td style = \"text-align: right;\">1</td><td style = \"text-align: right;\">2</td><td style = \"text-align: right;\">4500</td><td style = \"text-align: right;\">0</td><td style = \"text-align: right;\">1.0</td><td style = \"text-align: right;\">56.4463</td><td style = \"text-align: right;\">1</td><td style = \"text-align: right;\">0.0</td><td style = \"text-align: right;\">1.0</td><td style = \"text-align: right;\">1.0</td><td style = \"text-align: right;\">0.0</td><td style = \"text-align: right;\">1.1</td><td style = \"text-align: right;\">302.0</td><td style = \"text-align: right;\">4.14</td><td style = \"text-align: right;\">54.0</td><td style = \"text-align: right;\">7394.8</td><td style = \"text-align: right;\">113.52</td><td style = \"text-align: right;\">88.0</td><td style = \"text-align: right;\">221.0</td><td style = \"text-align: right;\">10.6</td><td style = \"text-align: right;\">3.0</td></tr><tr><td class = \"rowNumber\" style = \"font-weight: bold; text-align: right;\">3</td><td style = \"text-align: right;\">2</td><td style = \"text-align: right;\">3</td><td style = \"text-align: right;\">1012</td><td style = \"text-align: right;\">2</td><td style = \"text-align: right;\">1.0</td><td style = \"text-align: right;\">70.0726</td><td style = \"text-align: right;\">0</td><td style = \"text-align: right;\">0.0</td><td style = \"text-align: right;\">0.0</td><td style = \"text-align: right;\">0.0</td><td style = \"text-align: right;\">0.5</td><td style = \"text-align: right;\">1.4</td><td style = \"text-align: right;\">176.0</td><td style = \"text-align: right;\">3.48</td><td style = \"text-align: right;\">210.0</td><td style = \"text-align: right;\">516.0</td><td style = \"text-align: right;\">96.1</td><td style = \"text-align: right;\">55.0</td><td style = \"text-align: right;\">151.0</td><td style = \"text-align: right;\">12.0</td><td style = \"text-align: right;\">4.0</td></tr><tr><td class = \"rowNumber\" style = \"font-weight: bold; text-align: right;\">4</td><td style = \"text-align: right;\">3</td><td style = \"text-align: right;\">4</td><td style = \"text-align: right;\">1925</td><td style = \"text-align: right;\">2</td><td style = \"text-align: right;\">1.0</td><td style = \"text-align: right;\">54.7406</td><td style = \"text-align: right;\">1</td><td style = \"text-align: right;\">0.0</td><td style = \"text-align: right;\">1.0</td><td style = \"text-align: right;\">1.0</td><td style = \"text-align: right;\">0.5</td><td style = \"text-align: right;\">1.8</td><td style = \"text-align: right;\">244.0</td><td style = \"text-align: right;\">2.54</td><td style = \"text-align: right;\">64.0</td><td style = \"text-align: right;\">6121.8</td><td style = \"text-align: right;\">60.63</td><td style = \"text-align: right;\">92.0</td><td style = \"text-align: right;\">183.0</td><td style = \"text-align: right;\">10.3</td><td style = \"text-align: right;\">4.0</td></tr><tr><td class = \"rowNumber\" style = \"font-weight: bold; text-align: right;\">5</td><td style = \"text-align: right;\">4</td><td style = \"text-align: right;\">5</td><td style = \"text-align: right;\">1504</td><td style = \"text-align: right;\">1</td><td style = \"text-align: right;\">2.0</td><td style = \"text-align: right;\">38.1054</td><td style = \"text-align: right;\">1</td><td style = \"text-align: right;\">0.0</td><td style = \"text-align: right;\">1.0</td><td style = \"text-align: right;\">1.0</td><td style = \"text-align: right;\">0.0</td><td style = \"text-align: right;\">3.4</td><td style = \"text-align: right;\">279.0</td><td style = \"text-align: right;\">3.53</td><td style = \"text-align: right;\">143.0</td><td style = \"text-align: right;\">671.0</td><td style = \"text-align: right;\">113.15</td><td style = \"text-align: right;\">72.0</td><td style = \"text-align: right;\">136.0</td><td style = \"text-align: right;\">10.9</td><td style = \"text-align: right;\">3.0</td></tr><tr><td class = \"rowNumber\" style = \"font-weight: bold; text-align: right;\">6</td><td style = \"text-align: right;\">6</td><td style = \"text-align: right;\">7</td><td style = \"text-align: right;\">1832</td><td style = \"text-align: right;\">0</td><td style = \"text-align: right;\">2.0</td><td style = \"text-align: right;\">55.5346</td><td style = \"text-align: right;\">1</td><td style = \"text-align: right;\">0.0</td><td style = \"text-align: right;\">1.0</td><td style = \"text-align: right;\">0.0</td><td style = \"text-align: right;\">0.0</td><td style = \"text-align: right;\">1.0</td><td style = \"text-align: right;\">322.0</td><td style = \"text-align: right;\">4.09</td><td style = \"text-align: right;\">52.0</td><td style = \"text-align: right;\">824.0</td><td style = \"text-align: right;\">60.45</td><td style = \"text-align: right;\">213.0</td><td style = \"text-align: right;\">204.0</td><td style = \"text-align: right;\">9.7</td><td style = \"text-align: right;\">3.0</td></tr><tr><td class = \"rowNumber\" style = \"font-weight: bold; text-align: right;\">7</td><td style = \"text-align: right;\">7</td><td style = \"text-align: right;\">8</td><td style = \"text-align: right;\">2466</td><td style = \"text-align: right;\">2</td><td style = \"text-align: right;\">2.0</td><td style = \"text-align: right;\">53.0568</td><td style = \"text-align: right;\">1</td><td style = \"text-align: right;\">0.0</td><td style = \"text-align: right;\">0.0</td><td style = \"text-align: right;\">0.0</td><td style = \"text-align: right;\">0.0</td><td style = \"text-align: right;\">0.3</td><td style = \"text-align: right;\">280.0</td><td style = \"text-align: right;\">4.0</td><td style = \"text-align: right;\">52.0</td><td style = \"text-align: right;\">4651.2</td><td style = \"text-align: right;\">28.38</td><td style = \"text-align: right;\">189.0</td><td style = \"text-align: right;\">373.0</td><td style = \"text-align: right;\">11.0</td><td style = \"text-align: right;\">3.0</td></tr><tr><td class = \"rowNumber\" style = \"font-weight: bold; text-align: right;\">8</td><td style = \"text-align: right;\">8</td><td style = \"text-align: right;\">9</td><td style = \"text-align: right;\">2400</td><td style = \"text-align: right;\">2</td><td style = \"text-align: right;\">1.0</td><td style = \"text-align: right;\">42.5079</td><td style = \"text-align: right;\">1</td><td style = \"text-align: right;\">0.0</td><td style = \"text-align: right;\">0.0</td><td style = \"text-align: right;\">1.0</td><td style = \"text-align: right;\">0.0</td><td style = \"text-align: right;\">3.2</td><td style = \"text-align: right;\">562.0</td><td style = \"text-align: right;\">3.08</td><td style = \"text-align: right;\">79.0</td><td style = \"text-align: right;\">2276.0</td><td style = \"text-align: right;\">144.15</td><td style = \"text-align: right;\">88.0</td><td style = \"text-align: right;\">251.0</td><td style = \"text-align: right;\">11.0</td><td style = \"text-align: right;\">2.0</td></tr><tr><td class = \"rowNumber\" style = \"font-weight: bold; text-align: right;\">9</td><td style = \"text-align: right;\">9</td><td style = \"text-align: right;\">10</td><td style = \"text-align: right;\">51</td><td style = \"text-align: right;\">2</td><td style = \"text-align: right;\">2.0</td><td style = \"text-align: right;\">70.5599</td><td style = \"text-align: right;\">1</td><td style = \"text-align: right;\">1.0</td><td style = \"text-align: right;\">0.0</td><td style = \"text-align: right;\">1.0</td><td style = \"text-align: right;\">1.0</td><td style = \"text-align: right;\">12.6</td><td style = \"text-align: right;\">200.0</td><td style = \"text-align: right;\">2.74</td><td style = \"text-align: right;\">140.0</td><td style = \"text-align: right;\">918.0</td><td style = \"text-align: right;\">147.25</td><td style = \"text-align: right;\">143.0</td><td style = \"text-align: right;\">302.0</td><td style = \"text-align: right;\">11.5</td><td style = \"text-align: right;\">4.0</td></tr><tr><td class = \"rowNumber\" style = \"font-weight: bold; text-align: right;\">10</td><td style = \"text-align: right;\">10</td><td style = \"text-align: right;\">11</td><td style = \"text-align: right;\">3762</td><td style = \"text-align: right;\">2</td><td style = \"text-align: right;\">2.0</td><td style = \"text-align: right;\">53.7139</td><td style = \"text-align: right;\">1</td><td style = \"text-align: right;\">0.0</td><td style = \"text-align: right;\">1.0</td><td style = \"text-align: right;\">1.0</td><td style = \"text-align: right;\">0.0</td><td style = \"text-align: right;\">1.4</td><td style = \"text-align: right;\">259.0</td><td style = \"text-align: right;\">4.16</td><td style = \"text-align: right;\">46.0</td><td style = \"text-align: right;\">1104.0</td><td style = \"text-align: right;\">79.05</td><td style = \"text-align: right;\">79.0</td><td style = \"text-align: right;\">258.0</td><td style = \"text-align: right;\">12.0</td><td style = \"text-align: right;\">4.0</td></tr><tr><td class = \"rowNumber\" style = \"font-weight: bold; text-align: right;\">11</td><td style = \"text-align: right;\">11</td><td style = \"text-align: right;\">12</td><td style = \"text-align: right;\">304</td><td style = \"text-align: right;\">2</td><td style = \"text-align: right;\">2.0</td><td style = \"text-align: right;\">59.1376</td><td style = \"text-align: right;\">1</td><td style = \"text-align: right;\">0.0</td><td style = \"text-align: right;\">0.0</td><td style = \"text-align: right;\">1.0</td><td style = \"text-align: right;\">0.0</td><td style = \"text-align: right;\">3.6</td><td style = \"text-align: right;\">236.0</td><td style = \"text-align: right;\">3.52</td><td style = \"text-align: right;\">94.0</td><td style = \"text-align: right;\">591.0</td><td style = \"text-align: right;\">82.15</td><td style = \"text-align: right;\">95.0</td><td style = \"text-align: right;\">71.0</td><td style = \"text-align: right;\">13.6</td><td style = \"text-align: right;\">4.0</td></tr><tr><td class = \"rowNumber\" style = \"font-weight: bold; text-align: right;\">12</td><td style = \"text-align: right;\">12</td><td style = \"text-align: right;\">13</td><td style = \"text-align: right;\">3577</td><td style = \"text-align: right;\">0</td><td style = \"text-align: right;\">2.0</td><td style = \"text-align: right;\">45.6893</td><td style = \"text-align: right;\">1</td><td style = \"text-align: right;\">0.0</td><td style = \"text-align: right;\">0.0</td><td style = \"text-align: right;\">0.0</td><td style = \"text-align: right;\">0.0</td><td style = \"text-align: right;\">0.7</td><td style = \"text-align: right;\">281.0</td><td style = \"text-align: right;\">3.85</td><td style = \"text-align: right;\">40.0</td><td style = \"text-align: right;\">1181.0</td><td style = \"text-align: right;\">88.35</td><td style = \"text-align: right;\">130.0</td><td style = \"text-align: right;\">244.0</td><td style = \"text-align: right;\">10.6</td><td style = \"text-align: right;\">3.0</td></tr><tr><td class = \"rowNumber\" style = \"font-weight: bold; text-align: right;\">13</td><td style = \"text-align: right;\">14</td><td style = \"text-align: right;\">15</td><td style = \"text-align: right;\">3584</td><td style = \"text-align: right;\">2</td><td style = \"text-align: right;\">1.0</td><td style = \"text-align: right;\">64.6461</td><td style = \"text-align: right;\">1</td><td style = \"text-align: right;\">0.0</td><td style = \"text-align: right;\">0.0</td><td style = \"text-align: right;\">0.0</td><td style = \"text-align: right;\">0.0</td><td style = \"text-align: right;\">0.8</td><td style = \"text-align: right;\">231.0</td><td style = \"text-align: right;\">3.87</td><td style = \"text-align: right;\">173.0</td><td style = \"text-align: right;\">9009.8</td><td style = \"text-align: right;\">127.71</td><td style = \"text-align: right;\">96.0</td><td style = \"text-align: right;\">295.0</td><td style = \"text-align: right;\">11.0</td><td style = \"text-align: right;\">3.0</td></tr><tr><td style = \"text-align: right;\">&vellip;</td><td style = \"text-align: right;\">&vellip;</td><td style = \"text-align: right;\">&vellip;</td><td style = \"text-align: right;\">&vellip;</td><td style = \"text-align: right;\">&vellip;</td><td style = \"text-align: right;\">&vellip;</td><td style = \"text-align: right;\">&vellip;</td><td style = \"text-align: right;\">&vellip;</td><td style = \"text-align: right;\">&vellip;</td><td style = \"text-align: right;\">&vellip;</td><td style = \"text-align: right;\">&vellip;</td><td style = \"text-align: right;\">&vellip;</td><td style = \"text-align: right;\">&vellip;</td><td style = \"text-align: right;\">&vellip;</td><td style = \"text-align: right;\">&vellip;</td><td style = \"text-align: right;\">&vellip;</td><td style = \"text-align: right;\">&vellip;</td><td style = \"text-align: right;\">&vellip;</td><td style = \"text-align: right;\">&vellip;</td><td style = \"text-align: right;\">&vellip;</td><td style = \"text-align: right;\">&vellip;</td><td style = \"text-align: right;\">&vellip;</td></tr><tr><td class = \"rowNumber\" style = \"font-weight: bold; text-align: right;\">265</td><td style = \"text-align: right;\">300</td><td style = \"text-align: right;\">301</td><td style = \"text-align: right;\">1295</td><td style = \"text-align: right;\">0</td><td style = \"text-align: right;\">2.0</td><td style = \"text-align: right;\">45.2101</td><td style = \"text-align: right;\">1</td><td style = \"text-align: right;\">0.0</td><td style = \"text-align: right;\">0.0</td><td style = \"text-align: right;\">0.0</td><td style = \"text-align: right;\">0.0</td><td style = \"text-align: right;\">1.0</td><td style = \"text-align: right;\">393.0</td><td style = \"text-align: right;\">3.57</td><td style = \"text-align: right;\">50.0</td><td style = \"text-align: right;\">1307.0</td><td style = \"text-align: right;\">74.0</td><td style = \"text-align: right;\">103.0</td><td style = \"text-align: right;\">295.0</td><td style = \"text-align: right;\">10.5</td><td style = \"text-align: right;\">4.0</td></tr><tr><td class = \"rowNumber\" style = \"font-weight: bold; text-align: right;\">266</td><td style = \"text-align: right;\">301</td><td style = \"text-align: right;\">302</td><td style = \"text-align: right;\">1271</td><td style = \"text-align: right;\">0</td><td style = \"text-align: right;\">1.0</td><td style = \"text-align: right;\">37.7988</td><td style = \"text-align: right;\">1</td><td style = \"text-align: right;\">0.0</td><td style = \"text-align: right;\">0.0</td><td style = \"text-align: right;\">0.0</td><td style = \"text-align: right;\">0.0</td><td style = \"text-align: right;\">0.7</td><td style = \"text-align: right;\">335.0</td><td style = \"text-align: right;\">3.95</td><td style = \"text-align: right;\">43.0</td><td style = \"text-align: right;\">657.0</td><td style = \"text-align: right;\">52.0</td><td style = \"text-align: right;\">104.0</td><td style = \"text-align: right;\">268.0</td><td style = \"text-align: right;\">10.6</td><td style = \"text-align: right;\">2.0</td></tr><tr><td class = \"rowNumber\" style = \"font-weight: bold; text-align: right;\">267</td><td style = \"text-align: right;\">302</td><td style = \"text-align: right;\">303</td><td style = \"text-align: right;\">1250</td><td style = \"text-align: right;\">0</td><td style = \"text-align: right;\">2.0</td><td style = \"text-align: right;\">60.6598</td><td style = \"text-align: right;\">1</td><td style = \"text-align: right;\">0.0</td><td style = \"text-align: right;\">1.0</td><td style = \"text-align: right;\">1.0</td><td style = \"text-align: right;\">0.0</td><td style = \"text-align: right;\">1.0</td><td style = \"text-align: right;\">372.0</td><td style = \"text-align: right;\">3.25</td><td style = \"text-align: right;\">108.0</td><td style = \"text-align: right;\">1190.0</td><td style = \"text-align: right;\">140.0</td><td style = \"text-align: right;\">55.0</td><td style = \"text-align: right;\">248.0</td><td style = \"text-align: right;\">10.6</td><td style = \"text-align: right;\">4.0</td></tr><tr><td class = \"rowNumber\" style = \"font-weight: bold; text-align: right;\">268</td><td style = \"text-align: right;\">303</td><td style = \"text-align: right;\">304</td><td style = \"text-align: right;\">1230</td><td style = \"text-align: right;\">0</td><td style = \"text-align: right;\">1.0</td><td style = \"text-align: right;\">35.5346</td><td style = \"text-align: right;\">1</td><td style = \"text-align: right;\">0.0</td><td style = \"text-align: right;\">0.0</td><td style = \"text-align: right;\">0.0</td><td style = \"text-align: right;\">0.0</td><td style = \"text-align: right;\">0.5</td><td style = \"text-align: right;\">219.0</td><td style = \"text-align: right;\">3.93</td><td style = \"text-align: right;\">22.0</td><td style = \"text-align: right;\">663.0</td><td style = \"text-align: right;\">45.0</td><td style = \"text-align: right;\">75.0</td><td style = \"text-align: right;\">246.0</td><td style = \"text-align: right;\">10.8</td><td style = \"text-align: right;\">3.0</td></tr><tr><td class = \"rowNumber\" style = \"font-weight: bold; text-align: right;\">269</td><td style = \"text-align: right;\">304</td><td style = \"text-align: right;\">305</td><td style = \"text-align: right;\">1216</td><td style = \"text-align: right;\">0</td><td style = \"text-align: right;\">2.0</td><td style = \"text-align: right;\">43.0664</td><td style = \"text-align: right;\">1</td><td style = \"text-align: right;\">0.0</td><td style = \"text-align: right;\">1.0</td><td style = \"text-align: right;\">1.0</td><td style = \"text-align: right;\">0.0</td><td style = \"text-align: right;\">2.9</td><td style = \"text-align: right;\">426.0</td><td style = \"text-align: right;\">3.61</td><td style = \"text-align: right;\">73.0</td><td style = \"text-align: right;\">5184.0</td><td style = \"text-align: right;\">288.0</td><td style = \"text-align: right;\">144.0</td><td style = \"text-align: right;\">275.0</td><td style = \"text-align: right;\">10.6</td><td style = \"text-align: right;\">3.0</td></tr><tr><td class = \"rowNumber\" style = \"font-weight: bold; text-align: right;\">270</td><td style = \"text-align: right;\">305</td><td style = \"text-align: right;\">306</td><td style = \"text-align: right;\">1216</td><td style = \"text-align: right;\">0</td><td style = \"text-align: right;\">2.0</td><td style = \"text-align: right;\">56.3915</td><td style = \"text-align: right;\">1</td><td style = \"text-align: right;\">0.0</td><td style = \"text-align: right;\">1.0</td><td style = \"text-align: right;\">0.0</td><td style = \"text-align: right;\">0.0</td><td style = \"text-align: right;\">0.6</td><td style = \"text-align: right;\">239.0</td><td style = \"text-align: right;\">3.45</td><td style = \"text-align: right;\">31.0</td><td style = \"text-align: right;\">1072.0</td><td style = \"text-align: right;\">55.0</td><td style = \"text-align: right;\">64.0</td><td style = \"text-align: right;\">227.0</td><td style = \"text-align: right;\">10.7</td><td style = \"text-align: right;\">2.0</td></tr><tr><td class = \"rowNumber\" style = \"font-weight: bold; text-align: right;\">271</td><td style = \"text-align: right;\">306</td><td style = \"text-align: right;\">307</td><td style = \"text-align: right;\">1149</td><td style = \"text-align: right;\">0</td><td style = \"text-align: right;\">2.0</td><td style = \"text-align: right;\">30.5736</td><td style = \"text-align: right;\">1</td><td style = \"text-align: right;\">0.0</td><td style = \"text-align: right;\">0.0</td><td style = \"text-align: right;\">0.0</td><td style = \"text-align: right;\">0.0</td><td style = \"text-align: right;\">0.8</td><td style = \"text-align: right;\">273.0</td><td style = \"text-align: right;\">3.56</td><td style = \"text-align: right;\">52.0</td><td style = \"text-align: right;\">1282.0</td><td style = \"text-align: right;\">130.0</td><td style = \"text-align: right;\">59.0</td><td style = \"text-align: right;\">344.0</td><td style = \"text-align: right;\">10.5</td><td style = \"text-align: right;\">2.0</td></tr><tr><td class = \"rowNumber\" style = \"font-weight: bold; text-align: right;\">272</td><td style = \"text-align: right;\">307</td><td style = \"text-align: right;\">308</td><td style = \"text-align: right;\">1153</td><td style = \"text-align: right;\">0</td><td style = \"text-align: right;\">1.0</td><td style = \"text-align: right;\">61.1828</td><td style = \"text-align: right;\">1</td><td style = \"text-align: right;\">0.0</td><td style = \"text-align: right;\">1.0</td><td style = \"text-align: right;\">0.0</td><td style = \"text-align: right;\">0.0</td><td style = \"text-align: right;\">0.4</td><td style = \"text-align: right;\">246.0</td><td style = \"text-align: right;\">3.58</td><td style = \"text-align: right;\">24.0</td><td style = \"text-align: right;\">797.0</td><td style = \"text-align: right;\">91.0</td><td style = \"text-align: right;\">113.0</td><td style = \"text-align: right;\">288.0</td><td style = \"text-align: right;\">10.4</td><td style = \"text-align: right;\">2.0</td></tr><tr><td class = \"rowNumber\" style = \"font-weight: bold; text-align: right;\">273</td><td style = \"text-align: right;\">308</td><td style = \"text-align: right;\">309</td><td style = \"text-align: right;\">994</td><td style = \"text-align: right;\">0</td><td style = \"text-align: right;\">2.0</td><td style = \"text-align: right;\">58.2998</td><td style = \"text-align: right;\">1</td><td style = \"text-align: right;\">0.0</td><td style = \"text-align: right;\">0.0</td><td style = \"text-align: right;\">0.0</td><td style = \"text-align: right;\">0.0</td><td style = \"text-align: right;\">0.4</td><td style = \"text-align: right;\">260.0</td><td style = \"text-align: right;\">2.75</td><td style = \"text-align: right;\">41.0</td><td style = \"text-align: right;\">1166.0</td><td style = \"text-align: right;\">70.0</td><td style = \"text-align: right;\">82.0</td><td style = \"text-align: right;\">231.0</td><td style = \"text-align: right;\">10.8</td><td style = \"text-align: right;\">2.0</td></tr><tr><td class = \"rowNumber\" style = \"font-weight: bold; text-align: right;\">274</td><td style = \"text-align: right;\">309</td><td style = \"text-align: right;\">310</td><td style = \"text-align: right;\">939</td><td style = \"text-align: right;\">0</td><td style = \"text-align: right;\">1.0</td><td style = \"text-align: right;\">62.3326</td><td style = \"text-align: right;\">1</td><td style = \"text-align: right;\">0.0</td><td style = \"text-align: right;\">0.0</td><td style = \"text-align: right;\">0.0</td><td style = \"text-align: right;\">0.0</td><td style = \"text-align: right;\">1.7</td><td style = \"text-align: right;\">434.0</td><td style = \"text-align: right;\">3.35</td><td style = \"text-align: right;\">39.0</td><td style = \"text-align: right;\">1713.0</td><td style = \"text-align: right;\">171.0</td><td style = \"text-align: right;\">100.0</td><td style = \"text-align: right;\">234.0</td><td style = \"text-align: right;\">10.2</td><td style = \"text-align: right;\">2.0</td></tr><tr><td class = \"rowNumber\" style = \"font-weight: bold; text-align: right;\">275</td><td style = \"text-align: right;\">310</td><td style = \"text-align: right;\">311</td><td style = \"text-align: right;\">839</td><td style = \"text-align: right;\">0</td><td style = \"text-align: right;\">1.0</td><td style = \"text-align: right;\">37.9986</td><td style = \"text-align: right;\">1</td><td style = \"text-align: right;\">0.0</td><td style = \"text-align: right;\">0.0</td><td style = \"text-align: right;\">0.0</td><td style = \"text-align: right;\">0.0</td><td style = \"text-align: right;\">2.0</td><td style = \"text-align: right;\">247.0</td><td style = \"text-align: right;\">3.16</td><td style = \"text-align: right;\">69.0</td><td style = \"text-align: right;\">1050.0</td><td style = \"text-align: right;\">117.0</td><td style = \"text-align: right;\">88.0</td><td style = \"text-align: right;\">335.0</td><td style = \"text-align: right;\">10.5</td><td style = \"text-align: right;\">2.0</td></tr><tr><td class = \"rowNumber\" style = \"font-weight: bold; text-align: right;\">276</td><td style = \"text-align: right;\">311</td><td style = \"text-align: right;\">312</td><td style = \"text-align: right;\">788</td><td style = \"text-align: right;\">0</td><td style = \"text-align: right;\">2.0</td><td style = \"text-align: right;\">33.1526</td><td style = \"text-align: right;\">1</td><td style = \"text-align: right;\">0.0</td><td style = \"text-align: right;\">0.0</td><td style = \"text-align: right;\">1.0</td><td style = \"text-align: right;\">0.0</td><td style = \"text-align: right;\">6.4</td><td style = \"text-align: right;\">576.0</td><td style = \"text-align: right;\">3.79</td><td style = \"text-align: right;\">186.0</td><td style = \"text-align: right;\">2115.0</td><td style = \"text-align: right;\">136.0</td><td style = \"text-align: right;\">149.0</td><td style = \"text-align: right;\">200.0</td><td style = \"text-align: right;\">10.8</td><td style = \"text-align: right;\">2.0</td></tr></tbody></table></div>"
      ],
      "text/latex": [
       "\\begin{tabular}{r|ccccccccccc}\n",
       "\t& Column1 & id & time & status & trt & age & sex & ascites & hepato & spiders & \\\\\n",
       "\t\\hline\n",
       "\t& Int64 & Int64 & Int64 & Int64 & Float64 & Float64 & Int64 & Float64 & Float64 & Float64 & \\\\\n",
       "\t\\hline\n",
       "\t1 & 0 & 1 & 400 & 2 & 1.0 & 58.7652 & 1 & 1.0 & 1.0 & 1.0 & $\\dots$ \\\\\n",
       "\t2 & 1 & 2 & 4500 & 0 & 1.0 & 56.4463 & 1 & 0.0 & 1.0 & 1.0 & $\\dots$ \\\\\n",
       "\t3 & 2 & 3 & 1012 & 2 & 1.0 & 70.0726 & 0 & 0.0 & 0.0 & 0.0 & $\\dots$ \\\\\n",
       "\t4 & 3 & 4 & 1925 & 2 & 1.0 & 54.7406 & 1 & 0.0 & 1.0 & 1.0 & $\\dots$ \\\\\n",
       "\t5 & 4 & 5 & 1504 & 1 & 2.0 & 38.1054 & 1 & 0.0 & 1.0 & 1.0 & $\\dots$ \\\\\n",
       "\t6 & 6 & 7 & 1832 & 0 & 2.0 & 55.5346 & 1 & 0.0 & 1.0 & 0.0 & $\\dots$ \\\\\n",
       "\t7 & 7 & 8 & 2466 & 2 & 2.0 & 53.0568 & 1 & 0.0 & 0.0 & 0.0 & $\\dots$ \\\\\n",
       "\t8 & 8 & 9 & 2400 & 2 & 1.0 & 42.5079 & 1 & 0.0 & 0.0 & 1.0 & $\\dots$ \\\\\n",
       "\t9 & 9 & 10 & 51 & 2 & 2.0 & 70.5599 & 1 & 1.0 & 0.0 & 1.0 & $\\dots$ \\\\\n",
       "\t10 & 10 & 11 & 3762 & 2 & 2.0 & 53.7139 & 1 & 0.0 & 1.0 & 1.0 & $\\dots$ \\\\\n",
       "\t11 & 11 & 12 & 304 & 2 & 2.0 & 59.1376 & 1 & 0.0 & 0.0 & 1.0 & $\\dots$ \\\\\n",
       "\t12 & 12 & 13 & 3577 & 0 & 2.0 & 45.6893 & 1 & 0.0 & 0.0 & 0.0 & $\\dots$ \\\\\n",
       "\t13 & 14 & 15 & 3584 & 2 & 1.0 & 64.6461 & 1 & 0.0 & 0.0 & 0.0 & $\\dots$ \\\\\n",
       "\t14 & 15 & 16 & 3672 & 0 & 2.0 & 40.4435 & 1 & 0.0 & 0.0 & 0.0 & $\\dots$ \\\\\n",
       "\t15 & 16 & 17 & 769 & 2 & 2.0 & 52.1834 & 1 & 0.0 & 1.0 & 0.0 & $\\dots$ \\\\\n",
       "\t16 & 17 & 18 & 131 & 2 & 1.0 & 53.9302 & 1 & 0.0 & 1.0 & 1.0 & $\\dots$ \\\\\n",
       "\t17 & 18 & 19 & 4232 & 0 & 1.0 & 49.5606 & 1 & 0.0 & 1.0 & 0.0 & $\\dots$ \\\\\n",
       "\t18 & 19 & 20 & 1356 & 2 & 2.0 & 59.9535 & 1 & 0.0 & 1.0 & 0.0 & $\\dots$ \\\\\n",
       "\t19 & 20 & 21 & 3445 & 0 & 2.0 & 64.1889 & 0 & 0.0 & 1.0 & 1.0 & $\\dots$ \\\\\n",
       "\t20 & 21 & 22 & 673 & 2 & 1.0 & 56.2765 & 1 & 0.0 & 0.0 & 1.0 & $\\dots$ \\\\\n",
       "\t21 & 22 & 23 & 264 & 2 & 2.0 & 55.9671 & 1 & 1.0 & 1.0 & 1.0 & $\\dots$ \\\\\n",
       "\t22 & 23 & 24 & 4079 & 2 & 1.0 & 44.5202 & 0 & 0.0 & 1.0 & 0.0 & $\\dots$ \\\\\n",
       "\t23 & 24 & 25 & 4127 & 0 & 2.0 & 45.0732 & 1 & 0.0 & 0.0 & 0.0 & $\\dots$ \\\\\n",
       "\t24 & 25 & 26 & 1444 & 2 & 2.0 & 52.0246 & 1 & 0.0 & 1.0 & 1.0 & $\\dots$ \\\\\n",
       "\t25 & 26 & 27 & 77 & 2 & 2.0 & 54.4394 & 1 & 1.0 & 1.0 & 1.0 & $\\dots$ \\\\\n",
       "\t26 & 27 & 28 & 549 & 2 & 2.0 & 44.9473 & 1 & 1.0 & 1.0 & 1.0 & $\\dots$ \\\\\n",
       "\t27 & 28 & 29 & 4509 & 0 & 2.0 & 63.8768 & 1 & 0.0 & 0.0 & 0.0 & $\\dots$ \\\\\n",
       "\t28 & 29 & 30 & 321 & 2 & 2.0 & 41.3854 & 1 & 0.0 & 1.0 & 1.0 & $\\dots$ \\\\\n",
       "\t29 & 30 & 31 & 3839 & 2 & 2.0 & 41.5524 & 1 & 0.0 & 1.0 & 0.0 & $\\dots$ \\\\\n",
       "\t30 & 31 & 32 & 4523 & 0 & 2.0 & 53.9959 & 1 & 0.0 & 1.0 & 0.0 & $\\dots$ \\\\\n",
       "\t$\\dots$ & $\\dots$ & $\\dots$ & $\\dots$ & $\\dots$ & $\\dots$ & $\\dots$ & $\\dots$ & $\\dots$ & $\\dots$ & $\\dots$ &  \\\\\n",
       "\\end{tabular}\n"
      ],
      "text/plain": [
       "\u001b[1m276×21 DataFrame\u001b[0m\n",
       "\u001b[1m Row \u001b[0m│\u001b[1m Column1 \u001b[0m\u001b[1m id    \u001b[0m\u001b[1m time  \u001b[0m\u001b[1m status \u001b[0m\u001b[1m trt     \u001b[0m\u001b[1m age     \u001b[0m\u001b[1m sex   \u001b[0m\u001b[1m ascites \u001b[0m\u001b[1m hepato\u001b[0m ⋯\n",
       "     │\u001b[90m Int64   \u001b[0m\u001b[90m Int64 \u001b[0m\u001b[90m Int64 \u001b[0m\u001b[90m Int64  \u001b[0m\u001b[90m Float64 \u001b[0m\u001b[90m Float64 \u001b[0m\u001b[90m Int64 \u001b[0m\u001b[90m Float64 \u001b[0m\u001b[90m Float6\u001b[0m ⋯\n",
       "─────┼──────────────────────────────────────────────────────────────────────────\n",
       "   1 │       0      1    400       2      1.0  58.7652      1      1.0      1. ⋯\n",
       "   2 │       1      2   4500       0      1.0  56.4463      1      0.0      1.\n",
       "   3 │       2      3   1012       2      1.0  70.0726      0      0.0      0.\n",
       "   4 │       3      4   1925       2      1.0  54.7406      1      0.0      1.\n",
       "   5 │       4      5   1504       1      2.0  38.1054      1      0.0      1. ⋯\n",
       "   6 │       6      7   1832       0      2.0  55.5346      1      0.0      1.\n",
       "   7 │       7      8   2466       2      2.0  53.0568      1      0.0      0.\n",
       "   8 │       8      9   2400       2      1.0  42.5079      1      0.0      0.\n",
       "   9 │       9     10     51       2      2.0  70.5599      1      1.0      0. ⋯\n",
       "  10 │      10     11   3762       2      2.0  53.7139      1      0.0      1.\n",
       "  11 │      11     12    304       2      2.0  59.1376      1      0.0      0.\n",
       "  ⋮  │    ⋮       ⋮      ⋮      ⋮        ⋮        ⋮       ⋮       ⋮        ⋮   ⋱\n",
       " 267 │     302    303   1250       0      2.0  60.6598      1      0.0      1.\n",
       " 268 │     303    304   1230       0      1.0  35.5346      1      0.0      0. ⋯\n",
       " 269 │     304    305   1216       0      2.0  43.0664      1      0.0      1.\n",
       " 270 │     305    306   1216       0      2.0  56.3915      1      0.0      1.\n",
       " 271 │     306    307   1149       0      2.0  30.5736      1      0.0      0.\n",
       " 272 │     307    308   1153       0      1.0  61.1828      1      0.0      1. ⋯\n",
       " 273 │     308    309    994       0      2.0  58.2998      1      0.0      0.\n",
       " 274 │     309    310    939       0      1.0  62.3326      1      0.0      0.\n",
       " 275 │     310    311    839       0      1.0  37.9986      1      0.0      0.\n",
       " 276 │     311    312    788       0      2.0  33.1526      1      0.0      0. ⋯\n",
       "\u001b[36m                                                 13 columns and 255 rows omitted\u001b[0m"
      ]
     },
     "execution_count": 31,
     "metadata": {},
     "output_type": "execute_result"
    }
   ],
   "source": [
    "data"
   ]
  },
  {
   "cell_type": "code",
   "execution_count": 32,
   "metadata": {},
   "outputs": [],
   "source": [
    "X = Matrix(select(data, Not([:Column1, :id, :time, :status, :trt])));"
   ]
  },
  {
   "cell_type": "code",
   "execution_count": 99,
   "metadata": {},
   "outputs": [
    {
     "data": {
      "text/plain": [
       "100"
      ]
     },
     "execution_count": 99,
     "metadata": {},
     "output_type": "execute_result"
    }
   ],
   "source": [
    "#Define constants\n",
    "\n",
    "#Number of patients\n",
    "N = size(data)[1]\n",
    "\n",
    "#Min _N and Max N_ number of patients allowed in an interpretable subset\n",
    "_N = 30\n",
    "N_ = 100"
   ]
  },
  {
   "cell_type": "code",
   "execution_count": 100,
   "metadata": {},
   "outputs": [
    {
     "data": {
      "text/plain": [
       "2-element Vector{Vector{Int64}}:\n",
       " [5, 6, 7, 9, 10, 11, 12, 14, 15, 18  …  258, 261, 263, 265, 267, 269, 270, 271, 273, 276]\n",
       " [1, 2, 3, 4, 8, 13, 16, 17, 20, 22  …  256, 259, 260, 262, 264, 266, 268, 272, 274, 275]"
      ]
     },
     "execution_count": 100,
     "metadata": {},
     "output_type": "execute_result"
    }
   ],
   "source": [
    "#Define a list of patient numbers that are in each of the two treatment groups\n",
    "#Note that 2 in the data set means placebo, and 1 means experimental group\n",
    "\n",
    "T0 = findall(data[!,\"trt\"].==2) #indices of placebo patients\n",
    "T1 = findall(data[!,\"trt\"].==1) #indices of experimental patients\n",
    "\n",
    "T = [T0, T1]"
   ]
  },
  {
   "cell_type": "code",
   "execution_count": 101,
   "metadata": {},
   "outputs": [],
   "source": [
    "#Patient-wise (from patient i=N) whether the patient is in placebo (1) or experimental group (2)\n",
    "Ti = (data[!,\"trt\"].==1).+1;"
   ]
  },
  {
   "cell_type": "code",
   "execution_count": 102,
   "metadata": {},
   "outputs": [
    {
     "data": {
      "text/plain": [
       "1"
      ]
     },
     "execution_count": 102,
     "metadata": {},
     "output_type": "execute_result"
    }
   ],
   "source": [
    "Ti[5]"
   ]
  },
  {
   "cell_type": "code",
   "execution_count": 140,
   "metadata": {},
   "outputs": [
    {
     "data": {
      "text/plain": [
       "2"
      ]
     },
     "execution_count": 140,
     "metadata": {},
     "output_type": "execute_result"
    }
   ],
   "source": [
    "N, S = size(X)\n",
    "K = 3\n",
    "S_0 = 2"
   ]
  },
  {
   "cell_type": "code",
   "execution_count": 141,
   "metadata": {},
   "outputs": [],
   "source": [
    "# cut ranges for variables (make them start at 0)\n",
    "Ks = [K, 3, 3, 3, 3, 4, K, K, K, K, K, K, K, K, K, 7];"
   ]
  },
  {
   "cell_type": "code",
   "execution_count": 142,
   "metadata": {},
   "outputs": [
    {
     "data": {
      "text/plain": [
       "get_value_for_cut (generic function with 1 method)"
      ]
     },
     "execution_count": 142,
     "metadata": {},
     "output_type": "execute_result"
    }
   ],
   "source": [
    "function get_value_for_cut(s, k)\n",
    "    # get max of X for feature s\n",
    "    max_s = maximum(X[:, s])\n",
    "    # get min of X for feature s\n",
    "    min_s = minimum(X[:, s])\n",
    "    # get cut value\n",
    "    return min_s + (max_s - min_s) * (k - 1) / (Ks[s] - 1) \n",
    "end"
   ]
  },
  {
   "cell_type": "code",
   "execution_count": 143,
   "metadata": {},
   "outputs": [
    {
     "data": {
      "text/plain": [
       "get_i_U (generic function with 1 method)"
      ]
     },
     "execution_count": 143,
     "metadata": {},
     "output_type": "execute_result"
    }
   ],
   "source": [
    "# find the cuts k for variable i in feature s for which X[i,s] is is smaller than the k-th cut\n",
    "function get_k_L(i, s)\n",
    "    cuts = []\n",
    "    for k in 1:Ks[s]\n",
    "        if X[i, s] < get_value_for_cut(s, k)\n",
    "            push!(cuts, k)\n",
    "        end\n",
    "    end\n",
    "    return cuts\n",
    "end\n",
    "\n",
    "# find the cuts k for variable i in feature s for which X[i,s] is is larger than the k-th cut\n",
    "function get_k_U(i, s)\n",
    "    cuts = []\n",
    "    for k in 1:Ks[s]\n",
    "        if X[i, s] > get_value_for_cut(s, k)\n",
    "            push!(cuts, k)\n",
    "        end\n",
    "    end\n",
    "    return cuts\n",
    "end\n",
    "\n",
    "# find the patients i for cut k in feature s for which X[i,s] is is smaller than the k-th cut\n",
    "function get_i_L(s, k)\n",
    "    patients = []\n",
    "    for i in 1:N\n",
    "        if X[i, s] < get_value_for_cut(s, k)\n",
    "            push!(patients, i)\n",
    "        end\n",
    "    end\n",
    "    return patients\n",
    "end\n",
    "\n",
    "# find the patients i for cut k in feature s for which X[i,s] is is larger than the k-th cut\n",
    "function get_i_U(s, k)\n",
    "    patients = []\n",
    "    for i in 1:N\n",
    "        if X[i, s] > get_value_for_cut(s, k)\n",
    "            push!(patients, i)\n",
    "        end\n",
    "    end\n",
    "    return patients\n",
    "end"
   ]
  },
  {
   "cell_type": "code",
   "execution_count": 144,
   "metadata": {},
   "outputs": [],
   "source": [
    "# treatment effect\n",
    "# set multiplier to 10 for survival, 3 for transplant and 1 for death\n",
    "function multiplier(patient)\n",
    "    if data[patient, :status] == 2\n",
    "        return 1\n",
    "    elseif data[patient, :status] == 1\n",
    "        return 3\n",
    "    else\n",
    "        return 10\n",
    "    end\n",
    "end\n",
    "\n",
    "# define treatment effect as time * multiplier for each patient\n",
    "v = [data[patient, :time] * multiplier(patient) for patient in 1:N];"
   ]
  },
  {
   "cell_type": "code",
   "execution_count": 145,
   "metadata": {},
   "outputs": [
    {
     "name": "stdout",
     "output_type": "stream",
     "text": [
      "Set parameter Username\n",
      "Academic license - for non-commercial use only - expires 2023-11-08\n",
      "Set parameter Threads to value 20\n",
      "Set parameter TimeLimit to value 600\n"
     ]
    }
   ],
   "source": [
    "model = Model(Gurobi.Optimizer)\n",
    "set_optimizer_attribute(model, \"OutputFlag\", 1)\n",
    "set_optimizer_attribute(model, \"Threads\", 20)\n",
    "#set_optimizer_attribute(model, \"MIPGap\", 0.005)\n",
    "set_optimizer_attribute(model, \"TimeLimit\", 600)\n",
    "\n",
    "# variables\n",
    "#Variables\n",
    "@variable(model, z[1:N], Bin) #Indicator variable - if each patient i is contained within the interpretable subgroup\n",
    "@variable(model, theta[_N:N_, 1:2], Bin) #Indicator variable - if j between _N and N_ is equal to the number of patients from treatment group t within the interpretable subgroup\n",
    "@variable(model, zeta[1:N,_N:N_]) #Indicator variable that is 1 iff both zi = 1 and thetaj = 1\n",
    "@variable(model, L[s=1:S, k=1:maximum(Ks)], Bin)\n",
    "@variable(model, U[s=1:S, k=1:maximum(Ks)], Bin)\n",
    "@variable(model, q[s=1:S], Bin)\n",
    "\n",
    "# constraints\n",
    "@constraint(model, [i=1:N], z[i] + sum(sum(L[s, k] for k in get_k_L(i, s)) + sum(U[s, k] for k in get_k_U(i, s)) for s=1:S) >= 1)\n",
    "\n",
    "@constraint(model, [s=1:S, k=1:Ks[s], i in get_i_L(s, k)], z[i] + L[s, k] <= 1)\n",
    "@constraint(model, [s=1:S, k=1:Ks[s], i in get_i_U(s, k)], z[i] + U[s, k] <= 1)\n",
    "\n",
    "@constraint(model, [s=1:S], sum(L[s, k] for k=1:Ks[s]) == 1)\n",
    "@constraint(model, [s=1:S], sum(U[s, k] for k=1:Ks[s]) == 1)\n",
    "\n",
    "# @constraint(model, [s=1:S], sum(L[s, k] for k=1:K) == 1)\n",
    "# @constraint(model, [s=1:S], sum(U[s, k] for k=1:K) == 1)\n",
    "\n",
    "@constraint(model, [s=1:S], q[s] + L[s, 1] >= 1)\n",
    "@constraint(model, [s=1:S], q[s] + U[s, Ks[s]] >= 1)\n",
    "@constraint(model, [s=1:S], q[s] + L[s, 1] + U[s, Ks[s]] <= 2)\n",
    "\n",
    "@constraint(model, sum(q[s] for s=1:S) <= S_0)\n",
    "\n",
    "@constraint(model, [t=1:2], _N <= sum(z[i] for i in T[t]) <= N_) #The number of patients within the interpretable subgroup from EACH treatment group must be within the bounds _N and N_\n",
    "\n",
    "@constraint(model, [i=1:N, j=_N:N_], zeta[i,j] <= theta[j,Ti[i]]) #Ensuring z works as indicator variable (see variable section)\n",
    "@constraint(model, [i=1:N, j=_N:N_], zeta[i,j] <= z[i])\n",
    "@constraint(model, [i=1:N, j=_N:N_], zeta[i,j] >= theta[j,Ti[i]] + z[i] - 1)\n",
    "\n",
    "@constraint(model, [t=1:2], sum(sum((1/j)*zeta[i,j] for j in _N:N_) for i in T[t]) == 1) #Confirming that the sum of the patients in the interpretable cluster equals j for each treatment group\n",
    "\n",
    "@constraint(model, [t=1:2], sum(theta[j,t] for j=_N:N_) == 1) #Ensuring theta works as indicator variable (see variable section)\n",
    "\n",
    "@constraint(model, [i=1:N, j=_N:N_], 0<=zeta[i,j]<=1) #Zeta bounds\n",
    "\n",
    "@objective(model, Max, sum(sum((1/j) * v[i] * zeta[i,j] for j in _N:N_) for i in T1) - sum(sum((1/j) * v[i] * zeta[i,j] for j in _N:N_) for i in T0)); #Objective function"
   ]
  },
  {
   "cell_type": "code",
   "execution_count": 146,
   "metadata": {},
   "outputs": [
    {
     "name": "stdout",
     "output_type": "stream",
     "text": [
      "Set parameter Threads to value 20\n",
      "Set parameter TimeLimit to value 600\n",
      "Gurobi Optimizer version 10.0.0 build v10.0.0rc2 (win64)\n",
      "\n",
      "CPU model: 12th Gen Intel(R) Core(TM) i9-12900HK, instruction set [SSE2|AVX|AVX2]\n",
      "Thread count: 14 physical cores, 20 logical processors, using up to 20 threads\n",
      "\n",
      "Optimize a model with 91720 rows, 39852 columns and 235809 nonzeros\n",
      "Model fingerprint: 0x363634be\n",
      "Variable types: 39194 continuous, 658 integer (658 binary)\n",
      "Coefficient statistics:\n",
      "  Matrix range     [1e-02, 1e+00]\n",
      "  Objective range  [4e-01, 2e+03]\n",
      "  Bounds range     [1e+00, 1e+02]\n",
      "  RHS range        [1e+00, 2e+00]\n",
      "Presolve removed 30914 rows and 19785 columns\n",
      "Presolve time: 0.92s\n",
      "Presolved: 60806 rows, 20067 columns, 162358 nonzeros\n",
      "Variable types: 19596 continuous, 471 integer (451 binary)\n",
      "\n",
      "Deterministic concurrent LP optimizer: primal and dual simplex (primal and dual model)\n",
      "Showing first log only...\n",
      "\n",
      "Root relaxation presolved: 60806 rows, 20067 columns, 162358 nonzeros\n",
      "\n",
      "Concurrent spin time: 0.00s\n",
      "\n",
      "Solved with dual simplex (primal model)\n",
      "\n",
      "Root relaxation: objective 3.274663e+04, 5889 iterations, 0.70 seconds (1.29 work units)\n",
      "\n",
      "    Nodes    |    Current Node    |     Objective Bounds      |     Work\n",
      " Expl Unexpl |  Obj  Depth IntInf | Incumbent    BestBd   Gap | It/Node Time\n",
      "\n",
      "     0     0 32746.6326    0  172          - 32746.6326      -     -    2s\n",
      "     0     0 25819.4878    0  310          - 25819.4878      -     -    9s\n",
      "     0     0 25819.4878    0  313          - 25819.4878      -     -    9s\n",
      "     0     0 25277.1836    0  308          - 25277.1836      -     -   12s\n",
      "     0     0 21112.2944    0  240          - 21112.2944      -     -   15s\n",
      "     0     0 19196.0083    0  275          - 19196.0083      -     -   20s\n",
      "     0     0 19005.6607    0  273          - 19005.6607      -     -   22s\n",
      "     0     0 18993.4577    0  269          - 18993.4577      -     -   23s\n",
      "     0     0 18990.5214    0  273          - 18990.5214      -     -   23s\n",
      "     0     0 18984.2166    0  275          - 18984.2166      -     -   23s\n",
      "     0     0 18984.2166    0  274          - 18984.2166      -     -   23s\n",
      "H    0     0                    1182.6000000 16841.9264  1324%     -   32s\n",
      "     0     0 16841.9264    0  236 1182.60000 16841.9264  1324%     -   32s\n",
      "H    0     0                    1182.6000012 15871.0688  1242%     -   40s\n",
      "     0     0 15871.0688    0  260 1182.60000 15871.0688  1242%     -   40s\n",
      "     0     0 15782.8932    0  270 1182.60000 15782.8932  1235%     -   42s\n",
      "     0     0 15776.0471    0  274 1182.60000 15776.0471  1234%     -   43s\n",
      "     0     0 15772.7525    0  271 1182.60000 15772.7525  1234%     -   44s\n",
      "     0     0 15171.1559    0  281 1182.60000 15171.1559  1183%     -   55s\n",
      "     0     0 15098.9257    0  284 1182.60000 15098.9257  1177%     -   58s\n",
      "     0     0 15091.2632    0  285 1182.60000 15091.2632  1176%     -   59s\n",
      "     0     0 15081.1159    0  285 1182.60000 15081.1159  1175%     -   60s\n",
      "     0     0 15080.8274    0  285 1182.60000 15080.8274  1175%     -   61s\n",
      "     0     0 14881.2373    0  290 1182.60000 14881.2373  1158%     -   67s\n",
      "     0     0 14858.2361    0  294 1182.60000 14858.2361  1156%     -   70s\n",
      "     0     0 14857.0027    0  294 1182.60000 14857.0027  1156%     -   70s\n",
      "     0     0 14713.6667    0  297 1182.60000 14713.6667  1144%     -   76s\n",
      "     0     0 14699.4893    0  296 1182.60000 14699.4893  1143%     -   79s\n",
      "     0     0 14698.3906    0  297 1182.60000 14698.3906  1143%     -   80s\n",
      "     0     0 14606.3632    0  301 1182.60000 14606.3632  1135%     -   86s\n",
      "     0     0 14597.3842    0  300 1182.60000 14597.3842  1134%     -   88s\n",
      "     0     0 14595.9045    0  294 1182.60000 14595.9045  1134%     -   88s\n",
      "     0     0 14541.8402    0  294 1182.60000 14541.8402  1130%     -   93s\n",
      "     0     0 14533.6266    0  292 1182.60000 14533.6266  1129%     -   95s\n",
      "     0     0 14533.3180    0  296 1182.60000 14533.3180  1129%     -   96s\n",
      "     0     0 14457.0165    0  304 1182.60000 14457.0165  1122%     -  100s\n",
      "     0     0 14454.8471    0  300 1182.60000 14454.8471  1122%     -  102s\n",
      "     0     0 14422.7632    0  293 1182.60000 14422.7632  1120%     -  105s\n",
      "     0     0 14417.0889    0  294 1182.60000 14417.0889  1119%     -  107s\n",
      "     0     0 14358.1450    0  304 1182.60000 14358.1450  1114%     -  111s\n",
      "     0     0 14358.1450    0  304 1182.60000 14358.1450  1114%     -  114s\n",
      "     0     2 14355.5113    0  304 1182.60000 14355.5113  1114%     -  121s\n",
      "     1     4 14273.5701    1  303 1182.60000 14355.5113  1114%  6196  128s\n",
      "     3     8 14147.6524    2  295 1182.60000 14273.5073  1107%  5610  133s\n",
      "     7    16 14007.3561    3  299 1182.60000 14147.6308  1096%  4105  137s\n",
      "    15    28 13413.1427    4  273 1182.60000 14007.2854  1084%  3513  152s\n",
      "    31    33 13328.8030    5  276 1182.60000 13413.1314  1034%  3310  162s\n",
      "    51    36 13269.1052    6  280 1182.60000 13328.8015  1027%  2797  172s\n",
      "    71    38 13092.9661    7  275 1182.60000 13269.0500  1022%  2445  182s\n",
      "    91    44 11240.6864    7  264 1182.60000 13092.7004  1007%  2520  198s\n",
      "H   95    44                    1182.6000020 13092.7004  1007%  2433  198s\n",
      "H   98    44                    1182.6000030 13092.7004  1007%  2372  198s\n",
      "H   99    44                    1291.5346154 13092.7004   914%  2388  198s\n",
      "   111    45 12572.3219    8  255 1291.53462 12572.3219   873%  2576  211s\n",
      "   139    57 12154.3315    9  255 1291.53462 12572.1535   873%  2421  220s\n",
      "   166    68 11544.4443   10  234 1291.53462 12154.0985   841%  2272  229s\n",
      "   195    62 11027.7266   11  219 1291.53462 12154.0985   841%  2251  238s\n",
      "H  196    62                    1296.0503432 12154.0985   838%  2240  238s\n",
      "   225    50 10662.2929   12  215 1296.05034 12154.0985   838%  2138  243s\n",
      "   272    46 10042.0375   13  215 1296.05034 12154.0985   838%  1937  266s\n",
      "H  280    46                    1296.0503453 12154.0985   838%  1927  266s\n",
      "   306    46 7367.64539   14  192 1296.05035 12154.0985   838%  1933  274s\n",
      "   338    34 6431.08526   15  178 1296.05035 12154.0985   838%  1837  278s\n",
      "   382    33 infeasible   15      1296.05035 11474.4000   785%  1690  283s\n",
      "   419    25     cutoff   11      1296.05035 10955.8298   745%  1644  289s\n",
      "   455    29 8475.72481    7  195 1296.05035 10955.8298   745%  1596  300s\n",
      "   487    17     cutoff    8      1296.05035 10955.8298   745%  1608  306s\n",
      "   521     9 3176.60537    9  110 1296.05035 10955.8298   745%  1571  310s\n",
      "   573    14 2107.96045   20    4 1296.05035 2107.96045  62.6%  1511  315s\n",
      "   776    16 2107.96045   73    2 1296.05035 2107.96045  62.6%  1119  320s\n",
      "*  815     3              83    2107.9604478 2107.96045  0.00%  1066  320s\n",
      "\n",
      "Cutting planes:\n",
      "  Cover: 142\n",
      "  Implied bound: 3705\n",
      "  Clique: 235\n",
      "  MIR: 40\n",
      "  Flow cover: 5\n",
      "  Zero half: 13\n",
      "  RLT: 768\n",
      "  BQP: 406\n",
      "  PSD: 31\n",
      "\n",
      "Explored 837 nodes (957211 simplex iterations) in 320.62 seconds (1089.81 work units)\n",
      "Thread count was 20 (of 20 available processors)\n",
      "\n",
      "Solution count 4: 2107.96 1296.05 1291.53 1182.6 \n",
      "\n",
      "Optimal solution found (tolerance 1.00e-04)\n",
      "Best objective 2.107960447761e+03, best bound 2.107960447761e+03, gap 0.0000%\n",
      "\n",
      "User-callback calls 16776, time in user-callback 0.03 sec\n"
     ]
    }
   ],
   "source": [
    "optimize!(model)"
   ]
  },
  {
   "cell_type": "code",
   "execution_count": 147,
   "metadata": {},
   "outputs": [
    {
     "data": {
      "text/plain": [
       "16×7 Matrix{Float64}:\n",
       " 1.0   0.0   0.0  0.0  0.0  0.0  0.0\n",
       " 1.0   0.0   0.0  0.0  0.0  0.0  0.0\n",
       " 1.0   0.0   0.0  0.0  0.0  0.0  0.0\n",
       " 0.0   1.0   0.0  0.0  0.0  0.0  0.0\n",
       " 1.0   0.0   0.0  0.0  0.0  0.0  0.0\n",
       " 1.0   0.0   0.0  0.0  0.0  0.0  0.0\n",
       " 1.0   0.0   0.0  0.0  0.0  0.0  0.0\n",
       " 1.0   0.0   0.0  0.0  0.0  0.0  0.0\n",
       " 0.0   1.0   0.0  0.0  0.0  0.0  0.0\n",
       " 1.0   0.0   0.0  0.0  0.0  0.0  0.0\n",
       " 1.0   0.0   0.0  0.0  0.0  0.0  0.0\n",
       " 1.0   0.0   0.0  0.0  0.0  0.0  0.0\n",
       " 1.0   0.0   0.0  0.0  0.0  0.0  0.0\n",
       " 1.0  -0.0   0.0  0.0  0.0  0.0  0.0\n",
       " 1.0   0.0   0.0  0.0  0.0  0.0  0.0\n",
       " 1.0   0.0  -0.0  0.0  0.0  0.0  0.0"
      ]
     },
     "execution_count": 147,
     "metadata": {},
     "output_type": "execute_result"
    }
   ],
   "source": [
    "L_opt = value.(L)"
   ]
  },
  {
   "cell_type": "code",
   "execution_count": 148,
   "metadata": {},
   "outputs": [
    {
     "data": {
      "text/plain": [
       "16×7 Matrix{Float64}:\n",
       " 0.0  -0.0   1.0   0.0  0.0  0.0  0.0\n",
       " 0.0   0.0   1.0   0.0  0.0  0.0  0.0\n",
       " 0.0  -0.0   1.0   0.0  0.0  0.0  0.0\n",
       " 0.0  -0.0   1.0   0.0  0.0  0.0  0.0\n",
       " 0.0   0.0   1.0   0.0  0.0  0.0  0.0\n",
       " 0.0   0.0  -0.0   1.0  0.0  0.0  0.0\n",
       " 0.0  -0.0   1.0   0.0  0.0  0.0  0.0\n",
       " 0.0  -0.0   1.0   0.0  0.0  0.0  0.0\n",
       " 0.0   0.0   1.0   0.0  0.0  0.0  0.0\n",
       " 0.0  -0.0   1.0   0.0  0.0  0.0  0.0\n",
       " 0.0   0.0   1.0   0.0  0.0  0.0  0.0\n",
       " 0.0  -0.0   1.0   0.0  0.0  0.0  0.0\n",
       " 0.0  -0.0   1.0   0.0  0.0  0.0  0.0\n",
       " 0.0   0.0   1.0   0.0  0.0  0.0  0.0\n",
       " 0.0   0.0   1.0   0.0  0.0  0.0  0.0\n",
       " 0.0   0.0   0.0  -0.0  0.0  0.0  1.0"
      ]
     },
     "execution_count": 148,
     "metadata": {},
     "output_type": "execute_result"
    }
   ],
   "source": [
    "U_opt = value.(U)"
   ]
  },
  {
   "cell_type": "code",
   "execution_count": null,
   "metadata": {},
   "outputs": [],
   "source": []
  }
 ],
 "metadata": {
  "kernelspec": {
   "display_name": "Julia 1.8.0",
   "language": "julia",
   "name": "julia-1.8"
  },
  "language_info": {
   "file_extension": ".jl",
   "mimetype": "application/julia",
   "name": "julia",
   "version": "1.8.0"
  },
  "orig_nbformat": 4
 },
 "nbformat": 4,
 "nbformat_minor": 2
}
