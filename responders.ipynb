{
 "cells": [
  {
   "cell_type": "code",
   "execution_count": 1,
   "metadata": {},
   "outputs": [],
   "source": [
    "using DataFrames, CSV\n",
    "using JuMP, Gurobi\n",
    "using LinearAlgebra, Random, Printf, StatsBase, CategoricalArrays\n",
    "using Distributions"
   ]
  },
  {
   "cell_type": "code",
   "execution_count": 27,
   "metadata": {},
   "outputs": [],
   "source": [
    "df = CSV.read(\"dataclean.csv\", DataFrame);"
   ]
  },
  {
   "cell_type": "code",
   "execution_count": 28,
   "metadata": {},
   "outputs": [
    {
     "data": {
      "text/html": [
       "<div><div style = \"float: left;\"><span>312×21 DataFrame</span></div><div style = \"float: right;\"><span style = \"font-style: italic;\">287 rows omitted</span></div><div style = \"clear: both;\"></div></div><div class = \"data-frame\" style = \"overflow-x: scroll;\"><table class = \"data-frame\" style = \"margin-bottom: 6px;\"><thead><tr class = \"header\"><th class = \"rowNumber\" style = \"font-weight: bold; text-align: right;\">Row</th><th style = \"text-align: left;\">Column1</th><th style = \"text-align: left;\">id</th><th style = \"text-align: left;\">time</th><th style = \"text-align: left;\">status</th><th style = \"text-align: left;\">trt</th><th style = \"text-align: left;\">age</th><th style = \"text-align: left;\">sex</th><th style = \"text-align: left;\">ascites</th><th style = \"text-align: left;\">hepato</th><th style = \"text-align: left;\">spiders</th><th style = \"text-align: left;\">edema</th><th style = \"text-align: left;\">bili</th><th style = \"text-align: left;\">chol</th><th style = \"text-align: left;\">albumin</th><th style = \"text-align: left;\">copper</th><th style = \"text-align: left;\">alk.phos</th><th style = \"text-align: left;\">ast</th><th style = \"text-align: left;\">trig</th><th style = \"text-align: left;\">platelet</th><th style = \"text-align: left;\">protime</th><th style = \"text-align: left;\">stage</th></tr><tr class = \"subheader headerLastRow\"><th class = \"rowNumber\" style = \"font-weight: bold; text-align: right;\"></th><th title = \"Int64\" style = \"text-align: left;\">Int64</th><th title = \"Int64\" style = \"text-align: left;\">Int64</th><th title = \"Int64\" style = \"text-align: left;\">Int64</th><th title = \"Int64\" style = \"text-align: left;\">Int64</th><th title = \"Int64\" style = \"text-align: left;\">Int64</th><th title = \"Float64\" style = \"text-align: left;\">Float64</th><th title = \"Int64\" style = \"text-align: left;\">Int64</th><th title = \"Int64\" style = \"text-align: left;\">Int64</th><th title = \"Int64\" style = \"text-align: left;\">Int64</th><th title = \"Int64\" style = \"text-align: left;\">Int64</th><th title = \"Float64\" style = \"text-align: left;\">Float64</th><th title = \"Float64\" style = \"text-align: left;\">Float64</th><th title = \"Union{Missing, Int64}\" style = \"text-align: left;\">Int64?</th><th title = \"Float64\" style = \"text-align: left;\">Float64</th><th title = \"Union{Missing, Int64}\" style = \"text-align: left;\">Int64?</th><th title = \"Float64\" style = \"text-align: left;\">Float64</th><th title = \"Float64\" style = \"text-align: left;\">Float64</th><th title = \"Union{Missing, Int64}\" style = \"text-align: left;\">Int64?</th><th title = \"Union{Missing, Int64}\" style = \"text-align: left;\">Int64?</th><th title = \"Float64\" style = \"text-align: left;\">Float64</th><th title = \"Int64\" style = \"text-align: left;\">Int64</th></tr></thead><tbody><tr><td class = \"rowNumber\" style = \"font-weight: bold; text-align: right;\">1</td><td style = \"text-align: right;\">0</td><td style = \"text-align: right;\">1</td><td style = \"text-align: right;\">400</td><td style = \"text-align: right;\">2</td><td style = \"text-align: right;\">1</td><td style = \"text-align: right;\">58.7652</td><td style = \"text-align: right;\">1</td><td style = \"text-align: right;\">1</td><td style = \"text-align: right;\">1</td><td style = \"text-align: right;\">1</td><td style = \"text-align: right;\">1.0</td><td style = \"text-align: right;\">14.5</td><td style = \"text-align: right;\">261</td><td style = \"text-align: right;\">2.6</td><td style = \"text-align: right;\">156</td><td style = \"text-align: right;\">1718.0</td><td style = \"text-align: right;\">137.95</td><td style = \"text-align: right;\">172</td><td style = \"text-align: right;\">190</td><td style = \"text-align: right;\">12.2</td><td style = \"text-align: right;\">4</td></tr><tr><td class = \"rowNumber\" style = \"font-weight: bold; text-align: right;\">2</td><td style = \"text-align: right;\">1</td><td style = \"text-align: right;\">2</td><td style = \"text-align: right;\">4500</td><td style = \"text-align: right;\">0</td><td style = \"text-align: right;\">1</td><td style = \"text-align: right;\">56.4463</td><td style = \"text-align: right;\">1</td><td style = \"text-align: right;\">0</td><td style = \"text-align: right;\">1</td><td style = \"text-align: right;\">1</td><td style = \"text-align: right;\">0.0</td><td style = \"text-align: right;\">1.1</td><td style = \"text-align: right;\">302</td><td style = \"text-align: right;\">4.14</td><td style = \"text-align: right;\">54</td><td style = \"text-align: right;\">7394.8</td><td style = \"text-align: right;\">113.52</td><td style = \"text-align: right;\">88</td><td style = \"text-align: right;\">221</td><td style = \"text-align: right;\">10.6</td><td style = \"text-align: right;\">3</td></tr><tr><td class = \"rowNumber\" style = \"font-weight: bold; text-align: right;\">3</td><td style = \"text-align: right;\">2</td><td style = \"text-align: right;\">3</td><td style = \"text-align: right;\">1012</td><td style = \"text-align: right;\">2</td><td style = \"text-align: right;\">1</td><td style = \"text-align: right;\">70.0726</td><td style = \"text-align: right;\">0</td><td style = \"text-align: right;\">0</td><td style = \"text-align: right;\">0</td><td style = \"text-align: right;\">0</td><td style = \"text-align: right;\">0.5</td><td style = \"text-align: right;\">1.4</td><td style = \"text-align: right;\">176</td><td style = \"text-align: right;\">3.48</td><td style = \"text-align: right;\">210</td><td style = \"text-align: right;\">516.0</td><td style = \"text-align: right;\">96.1</td><td style = \"text-align: right;\">55</td><td style = \"text-align: right;\">151</td><td style = \"text-align: right;\">12.0</td><td style = \"text-align: right;\">4</td></tr><tr><td class = \"rowNumber\" style = \"font-weight: bold; text-align: right;\">4</td><td style = \"text-align: right;\">3</td><td style = \"text-align: right;\">4</td><td style = \"text-align: right;\">1925</td><td style = \"text-align: right;\">2</td><td style = \"text-align: right;\">1</td><td style = \"text-align: right;\">54.7406</td><td style = \"text-align: right;\">1</td><td style = \"text-align: right;\">0</td><td style = \"text-align: right;\">1</td><td style = \"text-align: right;\">1</td><td style = \"text-align: right;\">0.5</td><td style = \"text-align: right;\">1.8</td><td style = \"text-align: right;\">244</td><td style = \"text-align: right;\">2.54</td><td style = \"text-align: right;\">64</td><td style = \"text-align: right;\">6121.8</td><td style = \"text-align: right;\">60.63</td><td style = \"text-align: right;\">92</td><td style = \"text-align: right;\">183</td><td style = \"text-align: right;\">10.3</td><td style = \"text-align: right;\">4</td></tr><tr><td class = \"rowNumber\" style = \"font-weight: bold; text-align: right;\">5</td><td style = \"text-align: right;\">4</td><td style = \"text-align: right;\">5</td><td style = \"text-align: right;\">1504</td><td style = \"text-align: right;\">1</td><td style = \"text-align: right;\">2</td><td style = \"text-align: right;\">38.1054</td><td style = \"text-align: right;\">1</td><td style = \"text-align: right;\">0</td><td style = \"text-align: right;\">1</td><td style = \"text-align: right;\">1</td><td style = \"text-align: right;\">0.0</td><td style = \"text-align: right;\">3.4</td><td style = \"text-align: right;\">279</td><td style = \"text-align: right;\">3.53</td><td style = \"text-align: right;\">143</td><td style = \"text-align: right;\">671.0</td><td style = \"text-align: right;\">113.15</td><td style = \"text-align: right;\">72</td><td style = \"text-align: right;\">136</td><td style = \"text-align: right;\">10.9</td><td style = \"text-align: right;\">3</td></tr><tr><td class = \"rowNumber\" style = \"font-weight: bold; text-align: right;\">6</td><td style = \"text-align: right;\">5</td><td style = \"text-align: right;\">6</td><td style = \"text-align: right;\">2503</td><td style = \"text-align: right;\">2</td><td style = \"text-align: right;\">2</td><td style = \"text-align: right;\">66.2587</td><td style = \"text-align: right;\">1</td><td style = \"text-align: right;\">0</td><td style = \"text-align: right;\">1</td><td style = \"text-align: right;\">0</td><td style = \"text-align: right;\">0.0</td><td style = \"text-align: right;\">0.8</td><td style = \"text-align: right;\">248</td><td style = \"text-align: right;\">3.98</td><td style = \"text-align: right;\">50</td><td style = \"text-align: right;\">944.0</td><td style = \"text-align: right;\">93.0</td><td style = \"text-align: right;\">63</td><td style = \"font-style: italic; text-align: right;\">missing</td><td style = \"text-align: right;\">11.0</td><td style = \"text-align: right;\">3</td></tr><tr><td class = \"rowNumber\" style = \"font-weight: bold; text-align: right;\">7</td><td style = \"text-align: right;\">6</td><td style = \"text-align: right;\">7</td><td style = \"text-align: right;\">1832</td><td style = \"text-align: right;\">0</td><td style = \"text-align: right;\">2</td><td style = \"text-align: right;\">55.5346</td><td style = \"text-align: right;\">1</td><td style = \"text-align: right;\">0</td><td style = \"text-align: right;\">1</td><td style = \"text-align: right;\">0</td><td style = \"text-align: right;\">0.0</td><td style = \"text-align: right;\">1.0</td><td style = \"text-align: right;\">322</td><td style = \"text-align: right;\">4.09</td><td style = \"text-align: right;\">52</td><td style = \"text-align: right;\">824.0</td><td style = \"text-align: right;\">60.45</td><td style = \"text-align: right;\">213</td><td style = \"text-align: right;\">204</td><td style = \"text-align: right;\">9.7</td><td style = \"text-align: right;\">3</td></tr><tr><td class = \"rowNumber\" style = \"font-weight: bold; text-align: right;\">8</td><td style = \"text-align: right;\">7</td><td style = \"text-align: right;\">8</td><td style = \"text-align: right;\">2466</td><td style = \"text-align: right;\">2</td><td style = \"text-align: right;\">2</td><td style = \"text-align: right;\">53.0568</td><td style = \"text-align: right;\">1</td><td style = \"text-align: right;\">0</td><td style = \"text-align: right;\">0</td><td style = \"text-align: right;\">0</td><td style = \"text-align: right;\">0.0</td><td style = \"text-align: right;\">0.3</td><td style = \"text-align: right;\">280</td><td style = \"text-align: right;\">4.0</td><td style = \"text-align: right;\">52</td><td style = \"text-align: right;\">4651.2</td><td style = \"text-align: right;\">28.38</td><td style = \"text-align: right;\">189</td><td style = \"text-align: right;\">373</td><td style = \"text-align: right;\">11.0</td><td style = \"text-align: right;\">3</td></tr><tr><td class = \"rowNumber\" style = \"font-weight: bold; text-align: right;\">9</td><td style = \"text-align: right;\">8</td><td style = \"text-align: right;\">9</td><td style = \"text-align: right;\">2400</td><td style = \"text-align: right;\">2</td><td style = \"text-align: right;\">1</td><td style = \"text-align: right;\">42.5079</td><td style = \"text-align: right;\">1</td><td style = \"text-align: right;\">0</td><td style = \"text-align: right;\">0</td><td style = \"text-align: right;\">1</td><td style = \"text-align: right;\">0.0</td><td style = \"text-align: right;\">3.2</td><td style = \"text-align: right;\">562</td><td style = \"text-align: right;\">3.08</td><td style = \"text-align: right;\">79</td><td style = \"text-align: right;\">2276.0</td><td style = \"text-align: right;\">144.15</td><td style = \"text-align: right;\">88</td><td style = \"text-align: right;\">251</td><td style = \"text-align: right;\">11.0</td><td style = \"text-align: right;\">2</td></tr><tr><td class = \"rowNumber\" style = \"font-weight: bold; text-align: right;\">10</td><td style = \"text-align: right;\">9</td><td style = \"text-align: right;\">10</td><td style = \"text-align: right;\">51</td><td style = \"text-align: right;\">2</td><td style = \"text-align: right;\">2</td><td style = \"text-align: right;\">70.5599</td><td style = \"text-align: right;\">1</td><td style = \"text-align: right;\">1</td><td style = \"text-align: right;\">0</td><td style = \"text-align: right;\">1</td><td style = \"text-align: right;\">1.0</td><td style = \"text-align: right;\">12.6</td><td style = \"text-align: right;\">200</td><td style = \"text-align: right;\">2.74</td><td style = \"text-align: right;\">140</td><td style = \"text-align: right;\">918.0</td><td style = \"text-align: right;\">147.25</td><td style = \"text-align: right;\">143</td><td style = \"text-align: right;\">302</td><td style = \"text-align: right;\">11.5</td><td style = \"text-align: right;\">4</td></tr><tr><td class = \"rowNumber\" style = \"font-weight: bold; text-align: right;\">11</td><td style = \"text-align: right;\">10</td><td style = \"text-align: right;\">11</td><td style = \"text-align: right;\">3762</td><td style = \"text-align: right;\">2</td><td style = \"text-align: right;\">2</td><td style = \"text-align: right;\">53.7139</td><td style = \"text-align: right;\">1</td><td style = \"text-align: right;\">0</td><td style = \"text-align: right;\">1</td><td style = \"text-align: right;\">1</td><td style = \"text-align: right;\">0.0</td><td style = \"text-align: right;\">1.4</td><td style = \"text-align: right;\">259</td><td style = \"text-align: right;\">4.16</td><td style = \"text-align: right;\">46</td><td style = \"text-align: right;\">1104.0</td><td style = \"text-align: right;\">79.05</td><td style = \"text-align: right;\">79</td><td style = \"text-align: right;\">258</td><td style = \"text-align: right;\">12.0</td><td style = \"text-align: right;\">4</td></tr><tr><td class = \"rowNumber\" style = \"font-weight: bold; text-align: right;\">12</td><td style = \"text-align: right;\">11</td><td style = \"text-align: right;\">12</td><td style = \"text-align: right;\">304</td><td style = \"text-align: right;\">2</td><td style = \"text-align: right;\">2</td><td style = \"text-align: right;\">59.1376</td><td style = \"text-align: right;\">1</td><td style = \"text-align: right;\">0</td><td style = \"text-align: right;\">0</td><td style = \"text-align: right;\">1</td><td style = \"text-align: right;\">0.0</td><td style = \"text-align: right;\">3.6</td><td style = \"text-align: right;\">236</td><td style = \"text-align: right;\">3.52</td><td style = \"text-align: right;\">94</td><td style = \"text-align: right;\">591.0</td><td style = \"text-align: right;\">82.15</td><td style = \"text-align: right;\">95</td><td style = \"text-align: right;\">71</td><td style = \"text-align: right;\">13.6</td><td style = \"text-align: right;\">4</td></tr><tr><td class = \"rowNumber\" style = \"font-weight: bold; text-align: right;\">13</td><td style = \"text-align: right;\">12</td><td style = \"text-align: right;\">13</td><td style = \"text-align: right;\">3577</td><td style = \"text-align: right;\">0</td><td style = \"text-align: right;\">2</td><td style = \"text-align: right;\">45.6893</td><td style = \"text-align: right;\">1</td><td style = \"text-align: right;\">0</td><td style = \"text-align: right;\">0</td><td style = \"text-align: right;\">0</td><td style = \"text-align: right;\">0.0</td><td style = \"text-align: right;\">0.7</td><td style = \"text-align: right;\">281</td><td style = \"text-align: right;\">3.85</td><td style = \"text-align: right;\">40</td><td style = \"text-align: right;\">1181.0</td><td style = \"text-align: right;\">88.35</td><td style = \"text-align: right;\">130</td><td style = \"text-align: right;\">244</td><td style = \"text-align: right;\">10.6</td><td style = \"text-align: right;\">3</td></tr><tr><td style = \"text-align: right;\">&vellip;</td><td style = \"text-align: right;\">&vellip;</td><td style = \"text-align: right;\">&vellip;</td><td style = \"text-align: right;\">&vellip;</td><td style = \"text-align: right;\">&vellip;</td><td style = \"text-align: right;\">&vellip;</td><td style = \"text-align: right;\">&vellip;</td><td style = \"text-align: right;\">&vellip;</td><td style = \"text-align: right;\">&vellip;</td><td style = \"text-align: right;\">&vellip;</td><td style = \"text-align: right;\">&vellip;</td><td style = \"text-align: right;\">&vellip;</td><td style = \"text-align: right;\">&vellip;</td><td style = \"text-align: right;\">&vellip;</td><td style = \"text-align: right;\">&vellip;</td><td style = \"text-align: right;\">&vellip;</td><td style = \"text-align: right;\">&vellip;</td><td style = \"text-align: right;\">&vellip;</td><td style = \"text-align: right;\">&vellip;</td><td style = \"text-align: right;\">&vellip;</td><td style = \"text-align: right;\">&vellip;</td><td style = \"text-align: right;\">&vellip;</td></tr><tr><td class = \"rowNumber\" style = \"font-weight: bold; text-align: right;\">301</td><td style = \"text-align: right;\">300</td><td style = \"text-align: right;\">301</td><td style = \"text-align: right;\">1295</td><td style = \"text-align: right;\">0</td><td style = \"text-align: right;\">2</td><td style = \"text-align: right;\">45.2101</td><td style = \"text-align: right;\">1</td><td style = \"text-align: right;\">0</td><td style = \"text-align: right;\">0</td><td style = \"text-align: right;\">0</td><td style = \"text-align: right;\">0.0</td><td style = \"text-align: right;\">1.0</td><td style = \"font-style: italic; text-align: right;\">393</td><td style = \"text-align: right;\">3.57</td><td style = \"text-align: right;\">50</td><td style = \"text-align: right;\">1307.0</td><td style = \"text-align: right;\">74.0</td><td style = \"font-style: italic; text-align: right;\">103</td><td style = \"text-align: right;\">295</td><td style = \"text-align: right;\">10.5</td><td style = \"text-align: right;\">4</td></tr><tr><td class = \"rowNumber\" style = \"font-weight: bold; text-align: right;\">302</td><td style = \"text-align: right;\">301</td><td style = \"text-align: right;\">302</td><td style = \"text-align: right;\">1271</td><td style = \"text-align: right;\">0</td><td style = \"text-align: right;\">1</td><td style = \"text-align: right;\">37.7988</td><td style = \"text-align: right;\">1</td><td style = \"text-align: right;\">0</td><td style = \"text-align: right;\">0</td><td style = \"text-align: right;\">0</td><td style = \"text-align: right;\">0.0</td><td style = \"text-align: right;\">0.7</td><td style = \"text-align: right;\">335</td><td style = \"text-align: right;\">3.95</td><td style = \"text-align: right;\">43</td><td style = \"text-align: right;\">657.0</td><td style = \"text-align: right;\">52.0</td><td style = \"text-align: right;\">104</td><td style = \"text-align: right;\">268</td><td style = \"text-align: right;\">10.6</td><td style = \"text-align: right;\">2</td></tr><tr><td class = \"rowNumber\" style = \"font-weight: bold; text-align: right;\">303</td><td style = \"text-align: right;\">302</td><td style = \"text-align: right;\">303</td><td style = \"text-align: right;\">1250</td><td style = \"text-align: right;\">0</td><td style = \"text-align: right;\">2</td><td style = \"text-align: right;\">60.6598</td><td style = \"text-align: right;\">1</td><td style = \"text-align: right;\">0</td><td style = \"text-align: right;\">1</td><td style = \"text-align: right;\">1</td><td style = \"text-align: right;\">0.0</td><td style = \"text-align: right;\">1.0</td><td style = \"text-align: right;\">372</td><td style = \"text-align: right;\">3.25</td><td style = \"text-align: right;\">108</td><td style = \"text-align: right;\">1190.0</td><td style = \"text-align: right;\">140.0</td><td style = \"text-align: right;\">55</td><td style = \"text-align: right;\">248</td><td style = \"text-align: right;\">10.6</td><td style = \"text-align: right;\">4</td></tr><tr><td class = \"rowNumber\" style = \"font-weight: bold; text-align: right;\">304</td><td style = \"text-align: right;\">303</td><td style = \"text-align: right;\">304</td><td style = \"text-align: right;\">1230</td><td style = \"text-align: right;\">0</td><td style = \"text-align: right;\">1</td><td style = \"text-align: right;\">35.5346</td><td style = \"text-align: right;\">1</td><td style = \"text-align: right;\">0</td><td style = \"text-align: right;\">0</td><td style = \"text-align: right;\">0</td><td style = \"text-align: right;\">0.0</td><td style = \"text-align: right;\">0.5</td><td style = \"text-align: right;\">219</td><td style = \"text-align: right;\">3.93</td><td style = \"text-align: right;\">22</td><td style = \"text-align: right;\">663.0</td><td style = \"text-align: right;\">45.0</td><td style = \"text-align: right;\">75</td><td style = \"text-align: right;\">246</td><td style = \"text-align: right;\">10.8</td><td style = \"text-align: right;\">3</td></tr><tr><td class = \"rowNumber\" style = \"font-weight: bold; text-align: right;\">305</td><td style = \"text-align: right;\">304</td><td style = \"text-align: right;\">305</td><td style = \"text-align: right;\">1216</td><td style = \"text-align: right;\">0</td><td style = \"text-align: right;\">2</td><td style = \"text-align: right;\">43.0664</td><td style = \"text-align: right;\">1</td><td style = \"text-align: right;\">0</td><td style = \"text-align: right;\">1</td><td style = \"text-align: right;\">1</td><td style = \"text-align: right;\">0.0</td><td style = \"text-align: right;\">2.9</td><td style = \"text-align: right;\">426</td><td style = \"text-align: right;\">3.61</td><td style = \"text-align: right;\">73</td><td style = \"text-align: right;\">5184.0</td><td style = \"text-align: right;\">288.0</td><td style = \"text-align: right;\">144</td><td style = \"text-align: right;\">275</td><td style = \"text-align: right;\">10.6</td><td style = \"text-align: right;\">3</td></tr><tr><td class = \"rowNumber\" style = \"font-weight: bold; text-align: right;\">306</td><td style = \"text-align: right;\">305</td><td style = \"text-align: right;\">306</td><td style = \"text-align: right;\">1216</td><td style = \"text-align: right;\">0</td><td style = \"text-align: right;\">2</td><td style = \"text-align: right;\">56.3915</td><td style = \"text-align: right;\">1</td><td style = \"text-align: right;\">0</td><td style = \"text-align: right;\">1</td><td style = \"text-align: right;\">0</td><td style = \"text-align: right;\">0.0</td><td style = \"text-align: right;\">0.6</td><td style = \"text-align: right;\">239</td><td style = \"text-align: right;\">3.45</td><td style = \"text-align: right;\">31</td><td style = \"text-align: right;\">1072.0</td><td style = \"text-align: right;\">55.0</td><td style = \"text-align: right;\">64</td><td style = \"text-align: right;\">227</td><td style = \"text-align: right;\">10.7</td><td style = \"text-align: right;\">2</td></tr><tr><td class = \"rowNumber\" style = \"font-weight: bold; text-align: right;\">307</td><td style = \"text-align: right;\">306</td><td style = \"text-align: right;\">307</td><td style = \"text-align: right;\">1149</td><td style = \"text-align: right;\">0</td><td style = \"text-align: right;\">2</td><td style = \"text-align: right;\">30.5736</td><td style = \"text-align: right;\">1</td><td style = \"text-align: right;\">0</td><td style = \"text-align: right;\">0</td><td style = \"text-align: right;\">0</td><td style = \"text-align: right;\">0.0</td><td style = \"text-align: right;\">0.8</td><td style = \"text-align: right;\">273</td><td style = \"text-align: right;\">3.56</td><td style = \"text-align: right;\">52</td><td style = \"text-align: right;\">1282.0</td><td style = \"text-align: right;\">130.0</td><td style = \"text-align: right;\">59</td><td style = \"text-align: right;\">344</td><td style = \"text-align: right;\">10.5</td><td style = \"text-align: right;\">2</td></tr><tr><td class = \"rowNumber\" style = \"font-weight: bold; text-align: right;\">308</td><td style = \"text-align: right;\">307</td><td style = \"text-align: right;\">308</td><td style = \"text-align: right;\">1153</td><td style = \"text-align: right;\">0</td><td style = \"text-align: right;\">1</td><td style = \"text-align: right;\">61.1828</td><td style = \"text-align: right;\">1</td><td style = \"text-align: right;\">0</td><td style = \"text-align: right;\">1</td><td style = \"text-align: right;\">0</td><td style = \"text-align: right;\">0.0</td><td style = \"text-align: right;\">0.4</td><td style = \"text-align: right;\">246</td><td style = \"text-align: right;\">3.58</td><td style = \"text-align: right;\">24</td><td style = \"text-align: right;\">797.0</td><td style = \"text-align: right;\">91.0</td><td style = \"text-align: right;\">113</td><td style = \"text-align: right;\">288</td><td style = \"text-align: right;\">10.4</td><td style = \"text-align: right;\">2</td></tr><tr><td class = \"rowNumber\" style = \"font-weight: bold; text-align: right;\">309</td><td style = \"text-align: right;\">308</td><td style = \"text-align: right;\">309</td><td style = \"text-align: right;\">994</td><td style = \"text-align: right;\">0</td><td style = \"text-align: right;\">2</td><td style = \"text-align: right;\">58.2998</td><td style = \"text-align: right;\">1</td><td style = \"text-align: right;\">0</td><td style = \"text-align: right;\">0</td><td style = \"text-align: right;\">0</td><td style = \"text-align: right;\">0.0</td><td style = \"text-align: right;\">0.4</td><td style = \"text-align: right;\">260</td><td style = \"text-align: right;\">2.75</td><td style = \"text-align: right;\">41</td><td style = \"text-align: right;\">1166.0</td><td style = \"text-align: right;\">70.0</td><td style = \"text-align: right;\">82</td><td style = \"text-align: right;\">231</td><td style = \"text-align: right;\">10.8</td><td style = \"text-align: right;\">2</td></tr><tr><td class = \"rowNumber\" style = \"font-weight: bold; text-align: right;\">310</td><td style = \"text-align: right;\">309</td><td style = \"text-align: right;\">310</td><td style = \"text-align: right;\">939</td><td style = \"text-align: right;\">0</td><td style = \"text-align: right;\">1</td><td style = \"text-align: right;\">62.3326</td><td style = \"text-align: right;\">1</td><td style = \"text-align: right;\">0</td><td style = \"text-align: right;\">0</td><td style = \"text-align: right;\">0</td><td style = \"text-align: right;\">0.0</td><td style = \"text-align: right;\">1.7</td><td style = \"text-align: right;\">434</td><td style = \"text-align: right;\">3.35</td><td style = \"text-align: right;\">39</td><td style = \"text-align: right;\">1713.0</td><td style = \"text-align: right;\">171.0</td><td style = \"text-align: right;\">100</td><td style = \"text-align: right;\">234</td><td style = \"text-align: right;\">10.2</td><td style = \"text-align: right;\">2</td></tr><tr><td class = \"rowNumber\" style = \"font-weight: bold; text-align: right;\">311</td><td style = \"text-align: right;\">310</td><td style = \"text-align: right;\">311</td><td style = \"text-align: right;\">839</td><td style = \"text-align: right;\">0</td><td style = \"text-align: right;\">1</td><td style = \"text-align: right;\">37.9986</td><td style = \"text-align: right;\">1</td><td style = \"text-align: right;\">0</td><td style = \"text-align: right;\">0</td><td style = \"text-align: right;\">0</td><td style = \"text-align: right;\">0.0</td><td style = \"text-align: right;\">2.0</td><td style = \"text-align: right;\">247</td><td style = \"text-align: right;\">3.16</td><td style = \"text-align: right;\">69</td><td style = \"text-align: right;\">1050.0</td><td style = \"text-align: right;\">117.0</td><td style = \"text-align: right;\">88</td><td style = \"text-align: right;\">335</td><td style = \"text-align: right;\">10.5</td><td style = \"text-align: right;\">2</td></tr><tr><td class = \"rowNumber\" style = \"font-weight: bold; text-align: right;\">312</td><td style = \"text-align: right;\">311</td><td style = \"text-align: right;\">312</td><td style = \"text-align: right;\">788</td><td style = \"text-align: right;\">0</td><td style = \"text-align: right;\">2</td><td style = \"text-align: right;\">33.1526</td><td style = \"text-align: right;\">1</td><td style = \"text-align: right;\">0</td><td style = \"text-align: right;\">0</td><td style = \"text-align: right;\">1</td><td style = \"text-align: right;\">0.0</td><td style = \"text-align: right;\">6.4</td><td style = \"text-align: right;\">576</td><td style = \"text-align: right;\">3.79</td><td style = \"text-align: right;\">186</td><td style = \"text-align: right;\">2115.0</td><td style = \"text-align: right;\">136.0</td><td style = \"text-align: right;\">149</td><td style = \"text-align: right;\">200</td><td style = \"text-align: right;\">10.8</td><td style = \"text-align: right;\">2</td></tr></tbody></table></div>"
      ],
      "text/latex": [
       "\\begin{tabular}{r|ccccccccccc}\n",
       "\t& Column1 & id & time & status & trt & age & sex & ascites & hepato & spiders & \\\\\n",
       "\t\\hline\n",
       "\t& Int64 & Int64 & Int64 & Int64 & Int64 & Float64 & Int64 & Int64 & Int64 & Int64 & \\\\\n",
       "\t\\hline\n",
       "\t1 & 0 & 1 & 400 & 2 & 1 & 58.7652 & 1 & 1 & 1 & 1 & $\\dots$ \\\\\n",
       "\t2 & 1 & 2 & 4500 & 0 & 1 & 56.4463 & 1 & 0 & 1 & 1 & $\\dots$ \\\\\n",
       "\t3 & 2 & 3 & 1012 & 2 & 1 & 70.0726 & 0 & 0 & 0 & 0 & $\\dots$ \\\\\n",
       "\t4 & 3 & 4 & 1925 & 2 & 1 & 54.7406 & 1 & 0 & 1 & 1 & $\\dots$ \\\\\n",
       "\t5 & 4 & 5 & 1504 & 1 & 2 & 38.1054 & 1 & 0 & 1 & 1 & $\\dots$ \\\\\n",
       "\t6 & 5 & 6 & 2503 & 2 & 2 & 66.2587 & 1 & 0 & 1 & 0 & $\\dots$ \\\\\n",
       "\t7 & 6 & 7 & 1832 & 0 & 2 & 55.5346 & 1 & 0 & 1 & 0 & $\\dots$ \\\\\n",
       "\t8 & 7 & 8 & 2466 & 2 & 2 & 53.0568 & 1 & 0 & 0 & 0 & $\\dots$ \\\\\n",
       "\t9 & 8 & 9 & 2400 & 2 & 1 & 42.5079 & 1 & 0 & 0 & 1 & $\\dots$ \\\\\n",
       "\t10 & 9 & 10 & 51 & 2 & 2 & 70.5599 & 1 & 1 & 0 & 1 & $\\dots$ \\\\\n",
       "\t11 & 10 & 11 & 3762 & 2 & 2 & 53.7139 & 1 & 0 & 1 & 1 & $\\dots$ \\\\\n",
       "\t12 & 11 & 12 & 304 & 2 & 2 & 59.1376 & 1 & 0 & 0 & 1 & $\\dots$ \\\\\n",
       "\t13 & 12 & 13 & 3577 & 0 & 2 & 45.6893 & 1 & 0 & 0 & 0 & $\\dots$ \\\\\n",
       "\t14 & 13 & 14 & 1217 & 2 & 2 & 56.2218 & 0 & 1 & 1 & 0 & $\\dots$ \\\\\n",
       "\t15 & 14 & 15 & 3584 & 2 & 1 & 64.6461 & 1 & 0 & 0 & 0 & $\\dots$ \\\\\n",
       "\t16 & 15 & 16 & 3672 & 0 & 2 & 40.4435 & 1 & 0 & 0 & 0 & $\\dots$ \\\\\n",
       "\t17 & 16 & 17 & 769 & 2 & 2 & 52.1834 & 1 & 0 & 1 & 0 & $\\dots$ \\\\\n",
       "\t18 & 17 & 18 & 131 & 2 & 1 & 53.9302 & 1 & 0 & 1 & 1 & $\\dots$ \\\\\n",
       "\t19 & 18 & 19 & 4232 & 0 & 1 & 49.5606 & 1 & 0 & 1 & 0 & $\\dots$ \\\\\n",
       "\t20 & 19 & 20 & 1356 & 2 & 2 & 59.9535 & 1 & 0 & 1 & 0 & $\\dots$ \\\\\n",
       "\t21 & 20 & 21 & 3445 & 0 & 2 & 64.1889 & 0 & 0 & 1 & 1 & $\\dots$ \\\\\n",
       "\t22 & 21 & 22 & 673 & 2 & 1 & 56.2765 & 1 & 0 & 0 & 1 & $\\dots$ \\\\\n",
       "\t23 & 22 & 23 & 264 & 2 & 2 & 55.9671 & 1 & 1 & 1 & 1 & $\\dots$ \\\\\n",
       "\t24 & 23 & 24 & 4079 & 2 & 1 & 44.5202 & 0 & 0 & 1 & 0 & $\\dots$ \\\\\n",
       "\t$\\dots$ & $\\dots$ & $\\dots$ & $\\dots$ & $\\dots$ & $\\dots$ & $\\dots$ & $\\dots$ & $\\dots$ & $\\dots$ & $\\dots$ &  \\\\\n",
       "\\end{tabular}\n"
      ],
      "text/plain": [
       "\u001b[1m312×21 DataFrame\u001b[0m\n",
       "\u001b[1m Row \u001b[0m│\u001b[1m Column1 \u001b[0m\u001b[1m id    \u001b[0m\u001b[1m time  \u001b[0m\u001b[1m status \u001b[0m\u001b[1m trt   \u001b[0m\u001b[1m age     \u001b[0m\u001b[1m sex   \u001b[0m\u001b[1m ascites \u001b[0m\u001b[1m hepato \u001b[0m\u001b[1m \u001b[0m ⋯\n",
       "     │\u001b[90m Int64   \u001b[0m\u001b[90m Int64 \u001b[0m\u001b[90m Int64 \u001b[0m\u001b[90m Int64  \u001b[0m\u001b[90m Int64 \u001b[0m\u001b[90m Float64 \u001b[0m\u001b[90m Int64 \u001b[0m\u001b[90m Int64   \u001b[0m\u001b[90m Int64  \u001b[0m\u001b[90m \u001b[0m ⋯\n",
       "─────┼──────────────────────────────────────────────────────────────────────────\n",
       "   1 │       0      1    400       2      1  58.7652      1        1       1   ⋯\n",
       "   2 │       1      2   4500       0      1  56.4463      1        0       1\n",
       "   3 │       2      3   1012       2      1  70.0726      0        0       0\n",
       "   4 │       3      4   1925       2      1  54.7406      1        0       1\n",
       "   5 │       4      5   1504       1      2  38.1054      1        0       1   ⋯\n",
       "   6 │       5      6   2503       2      2  66.2587      1        0       1\n",
       "   7 │       6      7   1832       0      2  55.5346      1        0       1\n",
       "   8 │       7      8   2466       2      2  53.0568      1        0       0\n",
       "  ⋮  │    ⋮       ⋮      ⋮      ⋮       ⋮       ⋮       ⋮       ⋮       ⋮      ⋱\n",
       " 306 │     305    306   1216       0      2  56.3915      1        0       1   ⋯\n",
       " 307 │     306    307   1149       0      2  30.5736      1        0       0\n",
       " 308 │     307    308   1153       0      1  61.1828      1        0       1\n",
       " 309 │     308    309    994       0      2  58.2998      1        0       0\n",
       " 310 │     309    310    939       0      1  62.3326      1        0       0   ⋯\n",
       " 311 │     310    311    839       0      1  37.9986      1        0       0\n",
       " 312 │     311    312    788       0      2  33.1526      1        0       0\n",
       "\u001b[36m                                                 12 columns and 297 rows omitted\u001b[0m"
      ]
     },
     "metadata": {},
     "output_type": "display_data"
    }
   ],
   "source": [
    "df"
   ]
  },
  {
   "cell_type": "code",
   "execution_count": 29,
   "metadata": {},
   "outputs": [],
   "source": [
    "X = Matrix(select(df, Not([:Column1, :id, :time, :status, :trt])));"
   ]
  },
  {
   "cell_type": "code",
   "execution_count": null,
   "metadata": {},
   "outputs": [],
   "source": [
    "N, S = size(X)\n",
    "K = 10\n",
    "S_0 = 5"
   ]
  },
  {
   "cell_type": "code",
   "execution_count": null,
   "metadata": {},
   "outputs": [],
   "source": [
    "# cut ranges for variables (make them start at 0)\n",
    "Ks = [0:K, 0:2, 0:2, 0:2, 0:2, 0:3, 0:K, 0:K, 0:K, 0:K, 0:K, 0:K, 0:K, 0:K, 0:K, 0:6]"
   ]
  },
  {
   "cell_type": "code",
   "execution_count": null,
   "metadata": {},
   "outputs": [],
   "source": [
    "function get_value_for_cut(s, k)\n",
    "    # get max of X for feature s\n",
    "    max_s = maximum(X[:, s])\n",
    "    # get min of X for feature s\n",
    "    min_s = minimum(X[:, s])\n",
    "    # get cut value\n",
    "    return min_s + (max_s - min_s) * k / maximum(Ks[s])\n",
    "end"
   ]
  },
  {
   "cell_type": "code",
   "execution_count": null,
   "metadata": {},
   "outputs": [],
   "source": [
    "# find the cuts k for variable i in feature s for which X[i,s] is is smaller than the k-th cut\n",
    "function get_k_L(i, s)\n",
    "    cuts = []\n",
    "    for k in 1:Ks[s]\n",
    "        if X[i, s] < get_value_for_cut(s, k)\n",
    "            push!(cuts, k)\n",
    "        end\n",
    "    end\n",
    "    return cuts\n",
    "end\n",
    "\n",
    "# find the cuts k for variable i in feature s for which X[i,s] is is larger than the k-th cut\n",
    "function get_k_U(i, s)\n",
    "    cuts = []\n",
    "    for k in 1:Ks[s]\n",
    "        if X[i, s] > get_value_for_cut(s, k)\n",
    "            push!(cuts, k)\n",
    "        end\n",
    "    end\n",
    "    return cuts\n",
    "end\n",
    "\n",
    "# find the patients i for cut k in feature s for which X[i,s] is is smaller than the k-th cut\n",
    "function get_i_L(k, s)\n",
    "    patients = []\n",
    "    for i in 1:N\n",
    "        if X[i, s] < get_value_for_cut(s, k)\n",
    "            push!(patients, i)\n",
    "        end\n",
    "    end\n",
    "    return patients\n",
    "end\n",
    "\n",
    "# find the patients i for cut k in feature s for which X[i,s] is is larger than the k-th cut\n",
    "function get_i_U(k, s)\n",
    "    patients = []\n",
    "    for i in 1:N\n",
    "        if X[i, s] > get_value_for_cut(s, k)\n",
    "            push!(patients, i)\n",
    "        end\n",
    "    end\n",
    "    return patients\n",
    "end"
   ]
  },
  {
   "cell_type": "code",
   "execution_count": null,
   "metadata": {},
   "outputs": [],
   "source": [
    "model = Model(Gurobi.Optimizer)\n",
    "set_optimizer_attribute(model, \"OutputFlag\", 1)\n",
    "set_optimizer_attribute(model, \"Threads\", 20)\n",
    "#set_optimizer_attribute(model, \"MIPGap\", 0.005)\n",
    "set_optimizer_attribute(model, \"TimeLimit\", 600)\n",
    "\n",
    "# variables\n",
    "@variable(model, z[i=1:N], Bin)\n",
    "#@variable(model, subloops >= 1)\n",
    "@variable(model, L[s=1:S, k=1:K], Bin)\n",
    "@variable(model, U[s=1:S, k=1:K], Bin)\n",
    "@variable(model, q[s=1:S], Bin)\n",
    "\n",
    "# constraints\n",
    "@constraint(model, [i=1:N], z[i] + sum(sum(L[s, k] for k in get_k_L(i, s)) + sum(U[s, k] for k in get_k_U(i, s)) for s=1:S) >= 1)\n",
    "\n",
    "@constraint(model, [s=1:S, k=1:Ks[s], i in get_i_L(s, k)], z[i] + L[s, k] <= 1)\n",
    "@constraint(model, [s=1:S, k=1:Ks[s], i in get_i_U(s, k)], z[i] + U[s, k] <= 1)\n",
    "\n",
    "@constraint(model, [s=1:S], sum(L[s, k] for k=1:Ks[s]) == 1)\n",
    "@constraint(model, [s=1:S], sum(U[s, k] for k=1:Ks[s]) == 1)\n",
    "\n",
    "@constraint(model, [s=1:S], q[s] + L[s, 1] >= 1)\n",
    "@constraint(model, [s=1:S], q[s] + U[s, 1] >= 1)\n",
    "@constraint(model, [s=1:S], q[s] + L[s, 1] + U[s, 1] <= 2)\n",
    "\n",
    "@constraint(model, sum(q[s] for s=1:S) <= S_0)"
   ]
  }
 ],
 "metadata": {
  "kernelspec": {
   "display_name": "Julia 1.8.0",
   "language": "julia",
   "name": "julia-1.8"
  },
  "language_info": {
   "file_extension": ".jl",
   "mimetype": "application/julia",
   "name": "julia",
   "version": "1.8.0"
  },
  "orig_nbformat": 4
 },
 "nbformat": 4,
 "nbformat_minor": 2
}
