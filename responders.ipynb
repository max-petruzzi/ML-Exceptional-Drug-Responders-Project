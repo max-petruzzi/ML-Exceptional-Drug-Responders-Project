{
 "cells": [
  {
   "cell_type": "code",
   "execution_count": 1,
   "metadata": {},
   "outputs": [],
   "source": [
    "using DataFrames, CSV\n",
    "using JuMP, Gurobi\n",
    "using LinearAlgebra, Random, Printf, StatsBase, CategoricalArrays\n",
    "using Distributions"
   ]
  },
  {
   "cell_type": "code",
   "execution_count": 2,
   "metadata": {},
   "outputs": [],
   "source": [
    "data = CSV.read(\"dataclean_imputed.csv\", DataFrame);"
   ]
  },
  {
   "cell_type": "code",
   "execution_count": 3,
   "metadata": {},
   "outputs": [],
   "source": [
    "X = Matrix(select(data, Not([:Column1, :id, :time, :status, :trt])));"
   ]
  },
  {
   "cell_type": "code",
   "execution_count": 4,
   "metadata": {},
   "outputs": [
    {
     "data": {
      "text/plain": [
       "94.0"
      ]
     },
     "execution_count": 4,
     "metadata": {},
     "output_type": "execute_result"
    }
   ],
   "source": [
    "#Define constants\n",
    "\n",
    "#Number of patients\n",
    "N = size(data)[1]\n",
    "\n",
    "#Min _N and Max N_ number of patients allowed in an interpretable subset\n",
    "_N = floor(0.1 * N)\n",
    "N_ = ceil(0.3 * N)"
   ]
  },
  {
   "cell_type": "code",
   "execution_count": 5,
   "metadata": {},
   "outputs": [
    {
     "data": {
      "text/plain": [
       "2-element Vector{Vector{Int64}}:\n",
       " [5, 6, 7, 8, 10, 11, 12, 13, 14, 16  …  296, 298, 300, 301, 303, 305, 306, 307, 309, 312]\n",
       " [1, 2, 3, 4, 9, 15, 18, 19, 22, 24  …  291, 294, 295, 297, 299, 302, 304, 308, 310, 311]"
      ]
     },
     "execution_count": 5,
     "metadata": {},
     "output_type": "execute_result"
    }
   ],
   "source": [
    "#Define a list of patient numbers that are in each of the two treatment groups\n",
    "#Note that 2 in the data set means placebo, and 1 means experimental group\n",
    "\n",
    "T0 = findall(data[!,\"trt\"].==2) #indices of placebo patients\n",
    "T1 = findall(data[!,\"trt\"].==1) #indices of experimental patients\n",
    "\n",
    "T = [T0, T1]"
   ]
  },
  {
   "cell_type": "code",
   "execution_count": 6,
   "metadata": {},
   "outputs": [],
   "source": [
    "#Patient-wise (from patient i=N) whether the patient is in placebo (1) or experimental group (2)\n",
    "Ti = (data[!,\"trt\"].==1).+1;"
   ]
  },
  {
   "cell_type": "code",
   "execution_count": 82,
   "metadata": {},
   "outputs": [
    {
     "data": {
      "text/plain": [
       "3"
      ]
     },
     "execution_count": 82,
     "metadata": {},
     "output_type": "execute_result"
    }
   ],
   "source": [
    "S = size(X)[2]\n",
    "K = 5\n",
    "S_0 = 3"
   ]
  },
  {
   "cell_type": "code",
   "execution_count": 83,
   "metadata": {},
   "outputs": [],
   "source": [
    "# cut ranges for variables (make them start at 0)\n",
    "Ks = [K, 3, 3, 3, 3, 4, K, K, K, K, K, K, K, K, K, 7];"
   ]
  },
  {
   "cell_type": "code",
   "execution_count": 84,
   "metadata": {},
   "outputs": [
    {
     "data": {
      "text/plain": [
       "get_value_for_cut (generic function with 1 method)"
      ]
     },
     "execution_count": 84,
     "metadata": {},
     "output_type": "execute_result"
    }
   ],
   "source": [
    "function get_value_for_cut(s, k)\n",
    "    # get max of X for feature s\n",
    "    max_s = maximum(X[:, s])\n",
    "    # get min of X for feature s\n",
    "    min_s = minimum(X[:, s])\n",
    "    # get cut value\n",
    "    return min_s + (max_s - min_s) * (k - 1) / (Ks[s] - 1) \n",
    "end"
   ]
  },
  {
   "cell_type": "code",
   "execution_count": 85,
   "metadata": {},
   "outputs": [
    {
     "data": {
      "text/plain": [
       "get_i_U (generic function with 1 method)"
      ]
     },
     "execution_count": 85,
     "metadata": {},
     "output_type": "execute_result"
    }
   ],
   "source": [
    "# find the cuts k for variable i in feature s for which X[i,s] is is smaller than the k-th cut\n",
    "function get_k_L(i, s)\n",
    "    cuts = []\n",
    "    for k in 1:Ks[s]\n",
    "        if X[i, s] < get_value_for_cut(s, k)\n",
    "            push!(cuts, k)\n",
    "        end\n",
    "    end\n",
    "    return cuts\n",
    "end\n",
    "\n",
    "# find the cuts k for variable i in feature s for which X[i,s] is is larger than the k-th cut\n",
    "function get_k_U(i, s)\n",
    "    cuts = []\n",
    "    for k in 1:Ks[s]\n",
    "        if X[i, s] > get_value_for_cut(s, k)\n",
    "            push!(cuts, k)\n",
    "        end\n",
    "    end\n",
    "    return cuts\n",
    "end\n",
    "\n",
    "# find the patients i for cut k in feature s for which X[i,s] is is smaller than the k-th cut\n",
    "function get_i_L(s, k)\n",
    "    patients = []\n",
    "    for i in 1:N\n",
    "        if X[i, s] < get_value_for_cut(s, k)\n",
    "            push!(patients, i)\n",
    "        end\n",
    "    end\n",
    "    return patients\n",
    "end\n",
    "\n",
    "# find the patients i for cut k in feature s for which X[i,s] is is larger than the k-th cut\n",
    "function get_i_U(s, k)\n",
    "    patients = []\n",
    "    for i in 1:N\n",
    "        if X[i, s] > get_value_for_cut(s, k)\n",
    "            push!(patients, i)\n",
    "        end\n",
    "    end\n",
    "    return patients\n",
    "end"
   ]
  },
  {
   "cell_type": "code",
   "execution_count": 86,
   "metadata": {},
   "outputs": [],
   "source": [
    "# treatment effect\n",
    "# set multiplier to 10 for survival, 3 for transplant and 1 for death\n",
    "function multiplier(patient)\n",
    "    if data[patient, :status] == 2\n",
    "        return 1\n",
    "    elseif data[patient, :status] == 1\n",
    "        return 3\n",
    "    else\n",
    "        return 10\n",
    "    end\n",
    "end\n",
    "\n",
    "# define treatment effect as time * multiplier for each patient\n",
    "v = [data[patient, :time] * multiplier(patient) for patient in 1:N];"
   ]
  },
  {
   "cell_type": "code",
   "execution_count": 87,
   "metadata": {},
   "outputs": [],
   "source": [
    "# get patients for each :status\n",
    "df_0 = data[data[!,:status].==0,:]\n",
    "df_1 = data[data[!,:status].==1,:]\n",
    "df_2 = data[data[!,:status].==2,:]\n",
    "\n",
    "# for each patient group, cap the :time values to mean +- 3 * std\n",
    "df_0[!,:time] = min.(df_0[!,:time], mean(df_0[!,:time]) + 3 * std(df_0[!,:time]))\n",
    "df_0[!,:time] = max.(df_0[!,:time], mean(df_0[!,:time]) - 3 * std(df_0[!,:time]))\n",
    "df_1[!,:time] = min.(df_1[!,:time], mean(df_1[!,:time]) + 3 * std(df_1[!,:time]))\n",
    "df_1[!,:time] = max.(df_1[!,:time], mean(df_1[!,:time]) - 3 * std(df_1[!,:time]))\n",
    "df_2[!,:time] = min.(df_2[!,:time], mean(df_2[!,:time]) + 3 * std(df_2[!,:time]))\n",
    "df_2[!,:time] = max.(df_2[!,:time], mean(df_2[!,:time]) - 3 * std(df_2[!,:time]))\n",
    "\n",
    "# for each patient group replace :time with the min-max scaled value\n",
    "df_0[!,:time] = (df_0[!,:time] .- minimum(df_0[!,:time])) ./ (maximum(df_0[!,:time]) - minimum(df_0[!,:time]))\n",
    "df_1[!,:time] = (df_1[!,:time] .- minimum(df_1[!,:time])) ./ (maximum(df_1[!,:time]) - minimum(df_1[!,:time]))\n",
    "df_2[!,:time] = (df_2[!,:time] .- minimum(df_2[!,:time])) ./ (maximum(df_2[!,:time]) - minimum(df_2[!,:time]))\n",
    "\n",
    "# join the dataframes again\n",
    "data = vcat(df_0, df_1, df_2)\n",
    "\n",
    "# sort dataframe by :id\n",
    "data = sort(data, :id)\n",
    "\n",
    "# define treatment effect as the adjusted time for each patient\n",
    "v = data[!,:time];"
   ]
  },
  {
   "cell_type": "code",
   "execution_count": 88,
   "metadata": {},
   "outputs": [
    {
     "name": "stdout",
     "output_type": "stream",
     "text": [
      "Set parameter Username\n",
      "Academic license - for non-commercial use only - expires 2023-11-08\n",
      "Set parameter Threads to value 20\n",
      "Set parameter TimeLimit to value 600\n"
     ]
    }
   ],
   "source": [
    "model = Model(Gurobi.Optimizer)\n",
    "set_optimizer_attribute(model, \"OutputFlag\", 1)\n",
    "set_optimizer_attribute(model, \"Threads\", 20)\n",
    "#set_optimizer_attribute(model, \"MIPGap\", 0.005)\n",
    "set_optimizer_attribute(model, \"TimeLimit\", 600)\n",
    "\n",
    "# variables\n",
    "#Variables\n",
    "@variable(model, z[1:N], Bin) #Indicator variable - if each patient i is contained within the interpretable subgroup\n",
    "@variable(model, theta[_N:N_, 1:2], Bin) #Indicator variable - if j between _N and N_ is equal to the number of patients from treatment group t within the interpretable subgroup\n",
    "@variable(model, zeta[1:N,_N:N_]) #Indicator variable that is 1 iff both zi = 1 and thetaj = 1\n",
    "@variable(model, L[s=1:S, k=1:maximum(Ks)], Bin) # Lower bound indicator variable, 1 iff cut k is the lower bound for feature s in the interpretable subgroup\n",
    "@variable(model, U[s=1:S, k=1:maximum(Ks)], Bin) # Upper bound indicator variable, 1 iff cut k is the upper bound for feature s in the interpretable subgroup\n",
    "@variable(model, q[s=1:S], Bin) # Indicator variable, 1 iff feature s has a non-extremal lower and/or upper bound in the interpretable subgroup\n",
    "\n",
    "# constraints\n",
    "@constraint(model, [i=1:N], z[i] + sum(sum(L[s, k] for k in get_k_L(i, s)) + sum(U[s, k] for k in get_k_U(i, s)) for s=1:S) >= 1)\n",
    "\n",
    "@constraint(model, [s=1:S, k=1:Ks[s], i in get_i_L(s, k)], z[i] + L[s, k] <= 1)\n",
    "@constraint(model, [s=1:S, k=1:Ks[s], i in get_i_U(s, k)], z[i] + U[s, k] <= 1)\n",
    "\n",
    "@constraint(model, [s=1:S], sum(L[s, k] for k=1:Ks[s]) == 1) # We can only ever select one lower bound per feature\n",
    "@constraint(model, [s=1:S], sum(U[s, k] for k=1:Ks[s]) == 1) # We can only ever select one upper bound per feature\n",
    "\n",
    "# @constraint(model, [s=1:S], sum(L[s, k] for k=1:K) == 1)\n",
    "# @constraint(model, [s=1:S], sum(U[s, k] for k=1:K) == 1)\n",
    "\n",
    "@constraint(model, [s=1:S], q[s] + L[s, 1] >= 1) # Either the lower bound is not the extremal value, or the feature is not selected\n",
    "@constraint(model, [s=1:S], q[s] + U[s, Ks[s]] >= 1) # Either the upper bound is not the extremal value, or the feature is not selected\n",
    "@constraint(model, [s=1:S], q[s] + L[s, 1] + U[s, Ks[s]] <= 2) # The feature can only be selected if at most one of the bounds is the extremal value\n",
    "\n",
    "@constraint(model, sum(q[s] for s=1:S) <= S_0) # Select at most S_0 features in the interpretable subgroup\n",
    "\n",
    "@constraint(model, [t=1:2], _N <= sum(z[i] for i in T[t]) <= N_) # The number of patients within the interpretable subgroup from EACH treatment group must be within the bounds _N and N_\n",
    "\n",
    "@constraint(model, [i=1:N, j=_N:N_], zeta[i,j] <= theta[j,Ti[i]]) # Ensuring z works as indicator variable (see variable section)\n",
    "@constraint(model, [i=1:N, j=_N:N_], zeta[i,j] <= z[i])\n",
    "@constraint(model, [i=1:N, j=_N:N_], zeta[i,j] >= theta[j,Ti[i]] + z[i] - 1)\n",
    "\n",
    "@constraint(model, [t=1:2], sum(sum((1/j)*zeta[i,j] for j in _N:N_) for i in T[t]) == 1) #Confirming that the sum of the patients in the interpretable cluster equals j for each treatment group\n",
    "\n",
    "@constraint(model, [t=1:2], sum(theta[j,t] for j=_N:N_) == 1) #Ensuring theta works as indicator variable (see variable section)\n",
    "\n",
    "@constraint(model, [i=1:N, j=_N:N_], 0<=zeta[i,j]<=1) #Zeta bounds\n",
    "\n",
    "@objective(model, Max, sum(sum((1/j) * v[i] * zeta[i,j] for j in _N:N_) for i in T1) - sum(sum((1/j) * v[i] * zeta[i,j] for j in _N:N_) for i in T0)); #Objective function"
   ]
  },
  {
   "cell_type": "code",
   "execution_count": 89,
   "metadata": {},
   "outputs": [
    {
     "name": "stdout",
     "output_type": "stream",
     "text": [
      "Set parameter Threads to value 20\n",
      "Set parameter TimeLimit to value 600\n",
      "Gurobi Optimizer version 10.0.0 build v10.0.0rc2 (win64)\n",
      "\n",
      "CPU model: 12th Gen Intel(R) Core(TM) i9-12900HK, instruction set [SSE2|AVX|AVX2]\n",
      "Thread count: 14 physical cores, 20 logical processors, using up to 20 threads\n",
      "\n",
      "Optimize a model with 101180 rows, 40618 columns and 263435 nonzeros\n",
      "Model fingerprint: 0xf8c7ee27\n",
      "Variable types: 39938 continuous, 680 integer (680 binary)\n",
      "Coefficient statistics:\n",
      "  Matrix range     [1e-02, 1e+00]\n",
      "  Objective range  [3e-05, 3e-02]\n",
      "  Bounds range     [1e+00, 9e+01]\n",
      "  RHS range        [1e+00, 3e+00]\n",
      "Presolve removed 37733 rows and 20130 columns\n",
      "Presolve time: 0.99s\n",
      "Presolved: 63447 rows, 20488 columns, 170808 nonzeros\n",
      "Variable types: 19968 continuous, 520 integer (512 binary)\n",
      "\n",
      "Deterministic concurrent LP optimizer: primal and dual simplex (primal and dual model)\n",
      "Showing first log only...\n",
      "\n",
      "Root relaxation presolved: 63447 rows, 20488 columns, 170808 nonzeros\n",
      "\n",
      "Concurrent spin time: 0.04s\n",
      "\n",
      "Solved with dual simplex (primal model)\n",
      "\n",
      "Root relaxation: objective 7.266274e-01, 6116 iterations, 0.81 seconds (1.73 work units)\n",
      "\n",
      "    Nodes    |    Current Node    |     Objective Bounds      |     Work\n",
      " Expl Unexpl |  Obj  Depth IntInf | Incumbent    BestBd   Gap | It/Node Time\n",
      "\n",
      "     0     0    0.72663    0  204          -    0.72663      -     -    2s\n",
      "H    0     0                       0.0713257    0.62515   776%     -    5s\n",
      "     0     0    0.62515    0  289    0.07133    0.62515   776%     -    6s\n",
      "H    0     0                       0.0852933    0.62515   633%     -    7s\n",
      "     0     0    0.62515    0  289    0.08529    0.62515   633%     -    7s\n",
      "     0     0    0.53370    0  244    0.08529    0.53370   526%     -   13s\n",
      "     0     0    0.50276    0  274    0.08529    0.50276   489%     -   20s\n",
      "     0     0    0.45884    0  259    0.08529    0.45884   438%     -   28s\n",
      "     0     0    0.44486    0  270    0.08529    0.44486   422%     -   34s\n",
      "     0     0    0.43257    0  273    0.08529    0.43257   407%     -   40s\n",
      "     0     0    0.42862    0  298    0.08529    0.42862   403%     -   49s\n",
      "     0     0    0.42361    0  287    0.08529    0.42361   397%     -   55s\n",
      "     0     0    0.42300    0  287    0.08529    0.42300   396%     -   58s\n",
      "     0     0    0.42104    0  285    0.08529    0.42104   394%     -   61s\n",
      "     0     0    0.42033    0  290    0.08529    0.42033   393%     -   64s\n",
      "     0     0    0.41944    0  294    0.08529    0.41944   392%     -   67s\n",
      "     0     0    0.41931    0  294    0.08529    0.41931   392%     -   69s\n",
      "     0     0    0.41826    0  299    0.08529    0.41826   390%     -   71s\n",
      "     0     0    0.41816    0  299    0.08529    0.41816   390%     -   73s\n",
      "     0     0    0.41699    0  303    0.08529    0.41699   389%     -   76s\n",
      "     0     0    0.41694    0  295    0.08529    0.41694   389%     -   77s\n",
      "     0     0    0.41669    0  303    0.08529    0.41669   389%     -   79s\n",
      "     0     0    0.41666    0  306    0.08529    0.41666   388%     -   80s\n",
      "     0     0    0.41625    0  307    0.08529    0.41625   388%     -   82s\n",
      "     0     0    0.41625    0  307    0.08529    0.41625   388%     -   85s\n",
      "     0     2    0.41622    0  307    0.08529    0.41622   388%     -   90s\n",
      "     3     8    0.41392    2  306    0.08529    0.41427   386%  2988   96s\n",
      "     7    16    0.41375    3  307    0.08529    0.41392   385%  2633  100s\n",
      "    31    52    0.40845    5  303    0.08529    0.41229   383%  1796  121s\n",
      "H   40    52                       0.0852933    0.41229   383%  1559  121s\n",
      "H   48    52                       0.1135781    0.40845   260%  1525  121s\n",
      "    51    72    0.40753    6  300    0.11358    0.40845   260%  1643  127s\n",
      "    71    88    0.40504    7  299    0.11358    0.40845   260%  1417  131s\n",
      "    91   105    0.35074    7  289    0.11358    0.40845   260%  1356  143s\n",
      "   111   125    0.40342    8  296    0.11358    0.40845   260%  1274  147s\n",
      "   143   141    0.34240    8  260    0.11358    0.40845   260%  1200  232s\n",
      "   170   166    0.40248    9  301    0.11358    0.40845   260%  1158  239s\n",
      "   207   201    0.30477    9  224    0.11358    0.40845   260%  1169  249s\n",
      "   256   228    0.36921   10  240    0.11358    0.40845   260%  1065  254s\n",
      "   311   257    0.36870   11  241    0.11358    0.40845   260%   965  257s\n",
      "   372   285    0.35251   13  212    0.11358    0.40845   260%   889  263s\n",
      "   422   330    0.33837   14  205    0.11358    0.40845   260%   898  273s\n",
      "   491   357 infeasible   17         0.11358    0.40845   260%   885  279s\n",
      "   549   380    0.23983   17  174    0.11358    0.40845   260%   880  284s\n",
      "   625   431    0.23560   18  174    0.11358    0.40845   260%   847  288s\n",
      "   717   468    0.22712   20  171    0.11358    0.40845   260%   786  296s\n",
      "   818   497     cutoff   21         0.11358    0.40845   260%   766  308s\n",
      "   906   524    0.13442   22  183    0.11358    0.40246   254%   779  317s\n",
      "   998   570    0.31455    7  234    0.11358    0.40246   254%   777  326s\n",
      "  1083   585    0.31096    8  224    0.11358    0.40246   254%   775  408s\n",
      "H 1101   585                       0.1135781    0.40246   254%   770  408s\n",
      "  1157   638    0.30848    9  224    0.11358    0.40246   254%   767  416s\n",
      "  1275   700    0.30023   11  220    0.11358    0.40246   254%   738  437s\n",
      "  1392   760    0.29650   13  216    0.11358    0.40246   254%   749  458s\n",
      "  1537   825    0.28737   15  214    0.11358    0.40246   254%   740  476s\n",
      "  1671   844    0.26978   17  210    0.11358    0.40246   254%   743  494s\n",
      "  1790   902    0.20735   20  158    0.11358    0.40246   254%   759  506s\n",
      "  1904   954     cutoff   30         0.11358    0.40246   254%   770  529s\n",
      "  2049  1014 infeasible   28         0.11358    0.38800   242%   772  548s\n",
      "  2196  1086    0.38169   11  299    0.11358    0.38800   242%   774  566s\n",
      "  2384  1189    0.37599   12  292    0.11358    0.38800   242%   763  600s\n",
      "\n",
      "Cutting planes:\n",
      "  Cover: 10\n",
      "  Implied bound: 2277\n",
      "  Clique: 73\n",
      "  MIR: 51\n",
      "  StrongCG: 3\n",
      "  Flow cover: 38\n",
      "  Mod-K: 2\n",
      "  RLT: 725\n",
      "  Relax-and-lift: 4\n",
      "  BQP: 66\n",
      "  PSD: 1\n",
      "\n",
      "Explored 2619 nodes (1998000 simplex iterations) in 600.77 seconds (1457.03 work units)\n",
      "Thread count was 20 (of 20 available processors)\n",
      "\n",
      "Solution count 3: 0.113578 0.0852933 0.0713257 \n",
      "\n",
      "Time limit reached\n",
      "Best objective 1.135781312212e-01, best bound 3.879962599955e-01, gap 241.6118%\n",
      "\n",
      "User-callback calls 31769, time in user-callback 0.05 sec\n"
     ]
    }
   ],
   "source": [
    "optimize!(model)"
   ]
  },
  {
   "cell_type": "code",
   "execution_count": 78,
   "metadata": {},
   "outputs": [
    {
     "data": {
      "text/plain": [
       "get_features (generic function with 1 method)"
      ]
     },
     "execution_count": 78,
     "metadata": {},
     "output_type": "execute_result"
    }
   ],
   "source": [
    "function get_features()\n",
    "    L_opt = value.(L);\n",
    "    U_opt = value.(U);\n",
    "    # get the indices of the lower bound cuts \n",
    "    # for each feature\n",
    "    L_ind = [findall(L_opt[s,:] .== 1)[1] for s=1:S]\n",
    "\n",
    "    # get the indices of the upper bound cuts\n",
    "    # for each feature\n",
    "    U_ind = [findall(U_opt[s,:] .== 1)[1] for s=1:S];\n",
    "\n",
    "    # find features for which the lower bound is not the minimum\n",
    "    # and the upper bound is not the maximum\n",
    "    q_ind = findall(value.(q) .== 1)\n",
    "\n",
    "    # get the value of the lower and upper bound cuts for features in q_ind\n",
    "    L_val = [get_value_for_cut(s, L_ind[s]) for s in q_ind]\n",
    "    U_val = [get_value_for_cut(s, U_ind[s]) for s in q_ind];\n",
    "\n",
    "    # get names of features in q_ind\n",
    "    q_names = [names(data)[s+5] for s in q_ind]\n",
    "\n",
    "    println(\"Features that make up the interpretable subgroup are: \", q_names)\n",
    "    println(\"The subgroup has the following bounds:\")\n",
    "    # print the lower and upper bound cuts for features in q_ind\n",
    "    for i=1:length(q_ind)\n",
    "        println(q_names[i], \" ∈ [\", L_val[i], \", \", U_val[i], \"]\")\n",
    "    end\n",
    "    println(\"--------------------------------------------------------\")\n",
    "end"
   ]
  },
  {
   "cell_type": "code",
   "execution_count": 79,
   "metadata": {},
   "outputs": [
    {
     "data": {
      "text/plain": [
       "get_ATE (generic function with 1 method)"
      ]
     },
     "execution_count": 79,
     "metadata": {},
     "output_type": "execute_result"
    }
   ],
   "source": [
    "function get_ATE()\n",
    "    # get patients in the interpretable subgroup\n",
    "    z_ind = findall(value.(z) .== 1)\n",
    "    # get patients in the interpretable subgroup from treatment group 1\n",
    "    z1_ind = intersect(z_ind, T1)\n",
    "\n",
    "    # get average treatment effect for patients in the interpretable subgroup\n",
    "    ATE = mean(v[z1_ind])\n",
    "\n",
    "    # get patients in the interpretable subgroup from treatment group 0\n",
    "    z0_ind = intersect(z_ind, T0)\n",
    "\n",
    "    # get average treatment effect for patients in the interpretable subgroup\n",
    "    ATE_not = mean(v[z0_ind])\n",
    "\n",
    "    # print ATE and ATE_not\n",
    "    println(\"ATE: \", ATE)\n",
    "    println(\"ATE_not: \", ATE_not)\n",
    "    println(\"Difference: \", ATE - ATE_not)\n",
    "    # percentage Difference\n",
    "    println(\"Percentage Difference: \", round((ATE - ATE_not)/ATE_not * 100, digits=2), \"%\")\n",
    "end"
   ]
  },
  {
   "cell_type": "code",
   "execution_count": 80,
   "metadata": {},
   "outputs": [
    {
     "name": "stdout",
     "output_type": "stream",
     "text": [
      "Features that make up the interpretable subgroup are: [\"age\", \"albumin\"]\n",
      "The subgroup has the following bounds:\n",
      "age ∈ [39.3182751540041, 52.3586584531143]\n",
      "albumin ∈ [3.3, 4.64]\n",
      "--------------------------------------------------------\n",
      "ATE: 0.5508822559638147\n",
      "ATE_not: 0.4619304131193015\n",
      "Difference: 0.08895184284451318\n",
      "Percentage Difference: 19.26%\n",
      "--------------------------------------------------------\n",
      "Patients in the interpretable subgroup: 94.0\n"
     ]
    }
   ],
   "source": [
    "get_features() \n",
    "get_ATE()\n",
    "println(\"--------------------------------------------------------\")\n",
    "println(\"Patients in the interpretable subgroup: \", sum(value.(z)))"
   ]
  },
  {
   "cell_type": "code",
   "execution_count": null,
   "metadata": {},
   "outputs": [],
   "source": [
    "# load results\n",
    "# path = \"K=4/S_0=3\"\n",
    "# L = Matrix(CSV.read(\"$path/L_opt.csv\", DataFrame))\n",
    "# U = Matrix(CSV.read(\"$path/U_opt.csv\", DataFrame))\n",
    "# q = CSV.read(\"$path/q_opt.csv\", DataFrame)[!, :q]\n",
    "# z = CSV.read(\"$path/z_opt.csv\", DataFrame)[!, :z];"
   ]
  },
  {
   "cell_type": "code",
   "execution_count": 81,
   "metadata": {},
   "outputs": [],
   "source": [
    "# save optimal z, L, U and q to disk\n",
    "# create dataframe for each\n",
    "z_opt = DataFrame(z=value.(z))\n",
    "L_opt = DataFrame(value.(L), :auto)\n",
    "U_opt = DataFrame(value.(U), :auto)\n",
    "q_opt = DataFrame(q=value.(q))\n",
    "\n",
    "# save to disk\n",
    "# create directory if it doesn't exist\n",
    "isdir(\"K=$K\") || mkdir(\"K=$K\")\n",
    "isdir(\"K=$K/S_0=$S_0\") || mkdir(\"K=$K/S_0=$S_0\")\n",
    "CSV.write(\"K=$K/S_0=$S_0/z_opt.csv\", z_opt)\n",
    "CSV.write(\"K=$K/S_0=$S_0/L_opt.csv\", L_opt)\n",
    "CSV.write(\"K=$K/S_0=$S_0/U_opt.csv\", U_opt)\n",
    "CSV.write(\"K=$K/S_0=$S_0/q_opt.csv\", q_opt);"
   ]
  },
  {
   "cell_type": "code",
   "execution_count": 154,
   "metadata": {},
   "outputs": [
    {
     "data": {
      "text/plain": [
       "1979.1666666666667"
      ]
     },
     "execution_count": 154,
     "metadata": {},
     "output_type": "execute_result"
    }
   ],
   "source": [
    "# average :time of data per :status\n",
    "function average_time_per_status(status)\n",
    "    return mean(data[data[:, :status] .== status, :time])\n",
    "end\n",
    "\n",
    "# for each status get the average :time\n",
    "average_times = [average_time_per_status(status) for status in 0:2]\n",
    "\n",
    "mean_time = mean(data[:, :time])"
   ]
  },
  {
   "cell_type": "code",
   "execution_count": 155,
   "metadata": {},
   "outputs": [
    {
     "data": {
      "text/plain": [
       "3-element Vector{Float64}:\n",
       " 2391.78231292517\n",
       " 1511.611111111111\n",
       " 1508.5495495495495"
      ]
     },
     "execution_count": 155,
     "metadata": {},
     "output_type": "execute_result"
    }
   ],
   "source": [
    "average_times"
   ]
  },
  {
   "cell_type": "code",
   "execution_count": 157,
   "metadata": {},
   "outputs": [
    {
     "data": {
      "text/plain": [
       "3-element Vector{Int64}:\n",
       " 4556\n",
       " 3092\n",
       " 4191"
      ]
     },
     "execution_count": 157,
     "metadata": {},
     "output_type": "execute_result"
    }
   ],
   "source": [
    "# max :time of data per :status\n",
    "function max_time_per_status(status)\n",
    "    return maximum(data[data[:, :status] .== status, :time])\n",
    "end\n",
    "\n",
    "# for each status get the max :time\n",
    "max_times = [max_time_per_status(status) for status in 0:2]"
   ]
  },
  {
   "cell_type": "code",
   "execution_count": 156,
   "metadata": {},
   "outputs": [
    {
     "data": {
      "text/plain": [
       "49.799660744576386"
      ]
     },
     "execution_count": 156,
     "metadata": {},
     "output_type": "execute_result"
    }
   ],
   "source": [
    "# average age\n",
    "mean_age = mean(data[:, :age])"
   ]
  },
  {
   "cell_type": "code",
   "execution_count": null,
   "metadata": {},
   "outputs": [],
   "source": []
  }
 ],
 "metadata": {
  "kernelspec": {
   "display_name": "Julia 1.8.0",
   "language": "julia",
   "name": "julia-1.8"
  },
  "language_info": {
   "file_extension": ".jl",
   "mimetype": "application/julia",
   "name": "julia",
   "version": "1.8.0"
  },
  "orig_nbformat": 4
 },
 "nbformat": 4,
 "nbformat_minor": 2
}
